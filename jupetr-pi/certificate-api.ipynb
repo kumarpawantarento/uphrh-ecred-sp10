{
 "cells": [
  {
   "cell_type": "code",
   "execution_count": 1,
   "id": "f0d66103",
   "metadata": {},
   "outputs": [],
   "source": [
    "import requests\n",
    "import random\n",
    "import json\n",
    "\n",
    "base_url = \"http://localhost:8081\"\n",
    "\n",
    "resp = requests.get(base_url)\n",
    "assert resp.status_code == 404\n",
    "assert resp.json()[\"status\"] == 404\n",
    "assert resp.json()[\"error\"] == \"Not Found\"\n"
   ]
  },
  {
   "cell_type": "code",
   "execution_count": 2,
   "id": "fc57f642",
   "metadata": {},
   "outputs": [
    {
     "data": {
      "text/plain": [
       "{'Institute': {'$id': '#/properties/Institute',\n",
       "  'type': 'object',\n",
       "  'title': 'Instituteschema',\n",
       "  'required': ['name', 'username'],\n",
       "  'uniqueIndexFields': ['username'],\n",
       "  'properties': {'name': {'type': 'string'},\n",
       "   'phoneNumber': {'type': 'string'},\n",
       "   'email': {'type': 'string'},\n",
       "   'username': {'type': 'string'},\n",
       "   'address': {'type': 'string'}}}}"
      ]
     },
     "execution_count": 2,
     "metadata": {},
     "output_type": "execute_result"
    }
   ],
   "source": [
    "\n",
    "resp = requests.get(\"%s/api/docs/swagger.json\"%base_url)\n",
    "assert resp.status_code == 200\n",
    "assert resp.json()[\"swagger\"] == \"2.0\"\n",
    "assert resp.json()[\"paths\"] != None\n",
    "\n",
    "swaggerJson = resp.json()\n",
    "swaggerJson[\"paths\"].keys()\n",
    "\n",
    "jsonUrl = [f for f in swaggerJson[\"paths\"].keys() if \".json\" in f][8]\n",
    "jsonUrl\n",
    "\n",
    "resp = requests.get(\"%s%s\"%(base_url, jsonUrl))\n",
    "assert resp.status_code == 200\n",
    "resp.json()"
   ]
  },
  {
   "cell_type": "code",
   "execution_count": 3,
   "id": "3343a6fe",
   "metadata": {},
   "outputs": [
    {
     "name": "stdout",
     "output_type": "stream",
     "text": [
      "Available entities  ['Institute']\n"
     ]
    }
   ],
   "source": [
    "entities = list(resp.json().keys())\n",
    "print(\"Available entities \", entities)"
   ]
  },
  {
   "cell_type": "code",
   "execution_count": 4,
   "id": "41559bae",
   "metadata": {},
   "outputs": [
    {
     "name": "stdout",
     "output_type": "stream",
     "text": [
      "Using entity Institute\n"
     ]
    }
   ],
   "source": [
    "entity_name=entities[0]\n",
    "print(\"Using entity %s\"%entity_name)\n"
   ]
  },
  {
   "cell_type": "code",
   "execution_count": 5,
   "id": "161ca6b9",
   "metadata": {},
   "outputs": [
    {
     "name": "stdout",
     "output_type": "stream",
     "text": [
      "<Response [200]>\n"
     ]
    }
   ],
   "source": [
    "userId =str(random.randint(1e10,1e11))\n",
    "resp = requests.post(\"%s%s\"%(base_url, '/api/v1/SkillCertificate'), json={\n",
    "    \"name\":\"KM GURIYA\", \n",
    "    \"contact\": userId, \n",
    "    \"rollNumber\": \"224300003\",\n",
    "    \"dob\": \"1997-09-20\",\n",
    "    \"gender\": \"F\",\n",
    "    \"email\": \"kumarpawans@gmail.com\",\n",
    "    \"trainingTitle\":\"DIPLOMA IN GENERAL NURSING and MIDWIFERY\",\n",
    "    \"enrollmentNumber\":\"2210254300051\",\n",
    "    \"examYear\":\"2022\"\n",
    "})\n",
    "print(resp)\n",
    "#assert resp.status_code == 200 or print (resp.json())\n",
    "#idx = resp.json()[\"result\"][entity_name][\"osid\"]\n"
   ]
  },
  {
   "cell_type": "code",
   "execution_count": 6,
   "id": "e73084c3",
   "metadata": {},
   "outputs": [
    {
     "data": {
      "text/plain": [
       "{'id': 'sunbird-rc.registry.create',\n",
       " 'ver': '1.0',\n",
       " 'ets': 1688041844079,\n",
       " 'params': {'resmsgid': '',\n",
       "  'msgid': '4336836b-119f-451b-b803-596cdf5413ec',\n",
       "  'err': '',\n",
       "  'status': 'SUCCESSFUL',\n",
       "  'errmsg': ''},\n",
       " 'responseCode': 'OK',\n",
       " 'result': {'SkillCertificate': {'osid': '1-5130793b-36b6-40fb-829e-40d96ef8a138'}}}"
      ]
     },
     "execution_count": 6,
     "metadata": {},
     "output_type": "execute_result"
    }
   ],
   "source": [
    "resp.json()\n"
   ]
  },
  {
   "cell_type": "code",
   "execution_count": 7,
   "id": "345cfbf2",
   "metadata": {},
   "outputs": [
    {
     "name": "stdout",
     "output_type": "stream",
     "text": [
      "{'id': 'sunbird-rc.registry.create', 'ver': '1.0', 'ets': 1688041844079, 'params': {'resmsgid': '', 'msgid': '4336836b-119f-451b-b803-596cdf5413ec', 'err': '', 'status': 'SUCCESSFUL', 'errmsg': ''}, 'responseCode': 'OK', 'result': {'SkillCertificate': {'osid': '1-5130793b-36b6-40fb-829e-40d96ef8a138'}}}\n"
     ]
    },
    {
     "data": {
      "text/plain": [
       "(200, '55836041326')"
      ]
     },
     "execution_count": 7,
     "metadata": {},
     "output_type": "execute_result"
    }
   ],
   "source": [
    "print(resp.json())\n",
    "resp.status_code, userId\n"
   ]
  },
  {
   "cell_type": "code",
   "execution_count": 8,
   "id": "e880f599",
   "metadata": {},
   "outputs": [
    {
     "name": "stdout",
     "output_type": "stream",
     "text": [
      "Institute\n",
      "120fbb69-db3b-4ae1-b00c-3817246d6fe2\n"
     ]
    },
    {
     "name": "stdout",
     "output_type": "stream",
     "text": [
      "{\"id\": \"sunbird-rc.registry.read\", \"ver\": \"1.0\", \"ets\": 1688041884402, \"params\": {\"resmsgid\": \"\", \"msgid\": \"065937d8-1738-47a6-85b1-139ac8589064\", \"err\": \"\", \"status\": \"UNSUCCESSFUL\", \"errmsg\": \"Record with a9029131-5b37-45c8-a2df-6e4b244f8172 not found in Elastic-search\"}, \"responseCode\": \"OK\"}\n"
     ]
    }
   ],
   "source": [
    "print(entity_name)\n",
    "print(\"120fbb69-db3b-4ae1-b00c-3817246d6fe2\")\n",
    "resp = requests.get(\"%s/api/v1/%s/%s\"%(base_url, entity_name, \"1-a9029131-5b37-45c8-a2df-6e4b244f8172\"), headers={\"Accept\":\"application/json\"})\n",
    "print(json.dumps(resp.json()))\n",
    "#print(resp.json()[\"proof\"][\"type\"])\n",
    "#assert resp.json()[\"proof\"][\"type\"] == \"Ed25519Signature2018\"\n"
   ]
  },
  {
   "cell_type": "code",
   "execution_count": 9,
   "id": "932efa6f",
   "metadata": {},
   "outputs": [],
   "source": [
    "resp = requests.get(\"%s/api/v1/%s/%s\"%(base_url, entity_name, \"1-a9029131-5b37-45c8-a2df-6e4b244f8172\"), headers={\"Accept\":\"application/pdf\"})\n"
   ]
  },
  {
   "cell_type": "code",
   "execution_count": 10,
   "id": "f6854518",
   "metadata": {},
   "outputs": [
    {
     "ename": "AssertionError",
     "evalue": "",
     "output_type": "error",
     "traceback": [
      "\u001b[1;31m---------------------------------------------------------------------------\u001b[0m",
      "\u001b[1;31mAssertionError\u001b[0m                            Traceback (most recent call last)",
      "Cell \u001b[1;32mIn[10], line 3\u001b[0m\n\u001b[0;32m      1\u001b[0m resp\u001b[39m.\u001b[39mstatus_code, resp\u001b[39m.\u001b[39mcontent\n\u001b[1;32m----> 3\u001b[0m \u001b[39massert\u001b[39;00m resp\u001b[39m.\u001b[39mcontent[:\u001b[39m5\u001b[39m]\u001b[39m.\u001b[39mdecode()\u001b[39m.\u001b[39mstartswith(\u001b[39m\"\u001b[39m\u001b[39m%\u001b[39m\u001b[39mPDF\u001b[39m\u001b[39m\"\u001b[39m)\n\u001b[0;32m      4\u001b[0m \u001b[39mwith\u001b[39;00m \u001b[39mopen\u001b[39m(\u001b[39m'\u001b[39m\u001b[39msample2.pdf\u001b[39m\u001b[39m'\u001b[39m, \u001b[39m'\u001b[39m\u001b[39mwb\u001b[39m\u001b[39m'\u001b[39m) \u001b[39mas\u001b[39;00m f:\n\u001b[0;32m      5\u001b[0m     f\u001b[39m.\u001b[39mwrite(resp\u001b[39m.\u001b[39mcontent)\n",
      "\u001b[1;31mAssertionError\u001b[0m: "
     ]
    }
   ],
   "source": [
    "resp.status_code, resp.content\n",
    "\n",
    "assert resp.content[:5].decode().startswith(\"%PDF\")\n",
    "with open('sample2.pdf', 'wb') as f:\n",
    "    f.write(resp.content)\n",
    "    "
   ]
  },
  {
   "cell_type": "code",
   "execution_count": null,
   "id": "3fdae280",
   "metadata": {},
   "outputs": [
    {
     "data": {
      "text/plain": [
       "[\"'open' is not recognized as an internal or external command,\",\n",
       " 'operable program or batch file.']"
      ]
     },
     "execution_count": 12,
     "metadata": {},
     "output_type": "execute_result"
    }
   ],
   "source": [
    "%system open 'sample2.pdf'\n"
   ]
  },
  {
   "cell_type": "code",
   "execution_count": null,
   "id": "66ade90a",
   "metadata": {},
   "outputs": [
    {
     "ename": "AssertionError",
     "evalue": "",
     "output_type": "error",
     "traceback": [
      "\u001b[1;31m---------------------------------------------------------------------------\u001b[0m",
      "\u001b[1;31mAssertionError\u001b[0m                            Traceback (most recent call last)",
      "Cell \u001b[1;32mIn[13], line 4\u001b[0m\n\u001b[0;32m      1\u001b[0m resp \u001b[39m=\u001b[39m requests\u001b[39m.\u001b[39mget(\u001b[39m\"\u001b[39m\u001b[39m%s\u001b[39;00m\u001b[39m/api/v1/\u001b[39m\u001b[39m%s\u001b[39;00m\u001b[39m/\u001b[39m\u001b[39m%s\u001b[39;00m\u001b[39m\"\u001b[39m\u001b[39m%\u001b[39m(base_url, entity_name, idx), headers\u001b[39m=\u001b[39m{\u001b[39m\"\u001b[39m\u001b[39mAccept\u001b[39m\u001b[39m\"\u001b[39m:\u001b[39m\"\u001b[39m\u001b[39mtext/html\u001b[39m\u001b[39m\"\u001b[39m})\n\u001b[0;32m      2\u001b[0m resp\u001b[39m.\u001b[39mstatus_code, resp\u001b[39m.\u001b[39mcontent\n\u001b[1;32m----> 4\u001b[0m \u001b[39massert\u001b[39;00m resp\u001b[39m.\u001b[39mcontent[:\u001b[39m5\u001b[39m]\u001b[39m.\u001b[39mdecode()\u001b[39m.\u001b[39mstartswith(\u001b[39m\"\u001b[39m\u001b[39m<html\u001b[39m\u001b[39m\"\u001b[39m)\n\u001b[0;32m      5\u001b[0m \u001b[39mwith\u001b[39;00m \u001b[39mopen\u001b[39m(\u001b[39m'\u001b[39m\u001b[39msample.html\u001b[39m\u001b[39m'\u001b[39m, \u001b[39m'\u001b[39m\u001b[39mwb\u001b[39m\u001b[39m'\u001b[39m) \u001b[39mas\u001b[39;00m f:\n\u001b[0;32m      6\u001b[0m     f\u001b[39m.\u001b[39mwrite(resp\u001b[39m.\u001b[39mcontent)\n",
      "\u001b[1;31mAssertionError\u001b[0m: "
     ]
    }
   ],
   "source": [
    "resp = requests.get(\"%s/api/v1/%s/%s\"%(base_url, entity_name, idx), headers={\"Accept\":\"text/html\"})\n",
    "resp.status_code, resp.content\n",
    "\n",
    "assert resp.content[:5].decode().startswith(\"<html\")\n",
    "with open('sample.html', 'wb') as f:\n",
    "    f.write(resp.content)\n",
    "%system open 'sample.html'\n"
   ]
  },
  {
   "cell_type": "code",
   "execution_count": null,
   "id": "7d546807",
   "metadata": {},
   "outputs": [
    {
     "data": {
      "text/plain": [
       "[]"
      ]
     },
     "execution_count": 48,
     "metadata": {},
     "output_type": "execute_result"
    }
   ],
   "source": [
    "resp = requests.get(\"%s/api/v1/%s/%s\"%(base_url, entity_name, idx), headers={\"Accept\":\"image/svg+xml\"})\n",
    "resp.status_code, resp.content\n",
    "\n",
    "assert resp.content.decode().find(\"<svg\") != -1\n",
    "with open('sample.svg', 'wb') as f:\n",
    "    f.write(resp.content)\n",
    "%system open 'sample.svg'"
   ]
  },
  {
   "cell_type": "code",
   "execution_count": null,
   "id": "ba6dd127",
   "metadata": {},
   "outputs": [],
   "source": []
  },
  {
   "attachments": {},
   "cell_type": "markdown",
   "id": "daf81eb1",
   "metadata": {},
   "source": [
    "# generate certificate by external templates"
   ]
  },
  {
   "cell_type": "code",
   "execution_count": null,
   "id": "e92fc1bc",
   "metadata": {},
   "outputs": [
    {
     "data": {
      "text/plain": [
       "[\"'open' is not recognized as an internal or external command,\",\n",
       " 'operable program or batch file.']"
      ]
     },
     "execution_count": 14,
     "metadata": {},
     "output_type": "execute_result"
    }
   ],
   "source": [
    "resp = requests.get(\"%s/api/v1/%s/%s\"%(base_url, entity_name, idx), headers={\"Accept\":\"application/pdf\", \"template\": \"https://raw.githubusercontent.com/dileepbapat/ref-sunbirdrc-certificate/main/schemas/templates/TrainingCertificate.html\"})\n",
    "resp.status_code, resp.content\n",
    "\n",
    "assert resp.content[:5].decode().startswith(\"%PDF\")\n",
    "with open('sample_external222.pdf', 'wb') as f:\n",
    "    f.write(resp.content)\n",
    "%system open 'sample_external222.pdf'\n"
   ]
  },
  {
   "attachments": {},
   "cell_type": "markdown",
   "id": "8ffd2fb7",
   "metadata": {},
   "source": [
    "# delete certificate"
   ]
  },
  {
   "cell_type": "code",
   "execution_count": null,
   "id": "3f33479a",
   "metadata": {},
   "outputs": [
    {
     "name": "stdout",
     "output_type": "stream",
     "text": [
      "200\n",
      "{\"id\": \"sunbird-rc.registry.read\", \"ver\": \"1.0\", \"ets\": 1646624071473, \"params\": {\"resmsgid\": \"\", \"msgid\": \"45967509-87eb-4dc4-997d-777c251dbc00\", \"err\": \"\", \"status\": \"UNSUCCESSFUL\", \"errmsg\": \"entity status is inactive\"}, \"responseCode\": \"OK\"}\n"
     ]
    }
   ],
   "source": [
    "esp = requests.delete(\"%s/api/v1/%s/%s\"%(base_url, entity_name, idx), headers={\"Accept\":\"application/json\"})\n",
    "print(resp.status_code)\n",
    "assert resp.status_code == 200\n",
    "resp = requests.get(\"%s/api/v1/%s/%s\"%(base_url, entity_name, idx), headers={\"Accept\":\"application/json\"})\n",
    "print(json.dumps(resp.json()))\n",
    "assert resp.json()[\"params\"][\"errmsg\"] == \"entity status is inactive\"\n"
   ]
  },
  {
   "attachments": {},
   "cell_type": "markdown",
   "id": "d5d85e9c",
   "metadata": {},
   "source": [
    "# generate credentials with external template"
   ]
  },
  {
   "cell_type": "code",
   "execution_count": null,
   "id": "5b802f08",
   "metadata": {},
   "outputs": [
    {
     "name": "stdout",
     "output_type": "stream",
     "text": [
      "{'id': 'sunbird-rc.registry.create', 'ver': '1.0', 'ets': 1683524652746, 'params': {'resmsgid': '', 'msgid': 'f2d7d79d-ac30-4620-8d80-49f98cfb2162', 'err': '', 'status': 'SUCCESSFUL', 'errmsg': ''}, 'responseCode': 'OK', 'result': {'SkillCertificate': {'osid': '1-3be10c00-32ce-4e90-b340-af1aaf0f1e2b'}}}\n"
     ]
    }
   ],
   "source": [
    "userId =str(random.randint(1e10,1e11))\n",
    "resp = requests.post(\"%s%s\"%(base_url, '/api/v1/SkillCertificate'), json={\n",
    "    \"name\":\"Sunbird Learner\", \n",
    "    \"contact\": userId, \n",
    "    \"trainingTitle\":\"Sunbird RC Certificate Module\",\n",
    "    \"skills\": [\n",
    "        {\n",
    "            \"skill\": \"XXXXX\",\n",
    "            \"certifiedOn\": \"12-12-2000\"\n",
    "        },\n",
    "        {\n",
    "            \"skill\": \"network training\",\n",
    "            \"certifiedOn\": \"12-11-2000\"\n",
    "        }\n",
    "\n",
    "    ]\n",
    "    \n",
    "})\n",
    "assert resp.status_code == 200 or print (resp.json())\n",
    "idx = resp.json()[\"result\"][\"SkillCertificate\"][\"osid\"]\n",
    "print(resp.json())"
   ]
  },
  {
   "cell_type": "code",
   "execution_count": null,
   "id": "6240b8ed",
   "metadata": {},
   "outputs": [
    {
     "name": "stdout",
     "output_type": "stream",
     "text": [
      "{\"@context\": [\"https://www.w3.org/2018/credentials/v1\", {\"@context\": {\"@version\": 1.1, \"@protected\": true, \"SkillCertificate\": {\"@id\": \"https://github.com/sunbird-specs/vc-specs#SkillCertificate\", \"@context\": {\"id\": \"@id\", \"@version\": 1.1, \"@protected\": true, \"skills\": \"schema:Text\"}}, \"Person\": {\"@id\": \"https://github.com/sunbird-specs/vc-specs#Person\", \"@context\": {\"name\": \"schema:Text\"}}, \"trainedOn\": {\"@id\": \"https://github.com/sunbird-specs/vc-specs#trainedOn\", \"@context\": {\"name\": \"schema:Text\"}}, \"skills\": {\"@id\": \"https://github.com/sunbird-specs/vc-specs#skills\", \"@container\": \"@list\"}}}], \"type\": [\"VerifiableCredential\"], \"issuanceDate\": \"2021-08-27T10:57:57.237Z\", \"credentialSubject\": {\"type\": \"Person\", \"name\": \"Sunbird Learner\", \"trainedOn\": \"Sunbird RC Certificate Module\", \"skills\": [\"XXXXX\", \"network training\", \"\"]}, \"issuer\": \"did:web:sunbirdrc.dev/vc/skill\", \"proof\": {\"type\": \"RsaSignature2018\", \"created\": \"2023-05-08T05:44:13Z\", \"verificationMethod\": \"did:india\", \"proofPurpose\": \"assertionMethod\", \"jws\": \"eyJhbGciOiJQUzI1NiIsImI2NCI6ZmFsc2UsImNyaXQiOlsiYjY0Il19..lYcXcHeMlwvHTTAjFKYcKPEhyXmE0nDfpv3evebbFGCYfFC1-fcxHb8m65VmFsKxojIWfyCETaOUcAyOE4XYI5oBSZk5sl__LjGl0MqZ2r3KM9UqsMX3Av02wzc1KFtv0b-hq5bk_SPgNl_AJTqlqMr261d_rNbXbVWH9wT3yjwZb4vibTai2-9ts5Kem8gWINYL-H5V7XnkbjHhoQ8QNJ7xKDdu8PP1xACf111F5rZMtKpYtqelZwc6hpV_UJKLvTLtXCEvgp0d7JoewAA-Umbg5v4YqRqnpYCWvY2IJ5ORLzHLKGvaGI0Xu81BAkhfFL9JFQ0zJav5gmuKDV8Pxw\"}}\n"
     ]
    }
   ],
   "source": [
    "resp = requests.get(\"%s/api/v1/%s/%s\"%(base_url, 'SkillCertificate', idx), headers={\"Accept\":\"application/vc+ld+json\"})\n",
    "print(json.dumps(resp.json()))\n",
    "assert resp.json()[\"proof\"][\"type\"] == \"RsaSignature2018\"\n"
   ]
  },
  {
   "cell_type": "code",
   "execution_count": null,
   "id": "b0fdb33b",
   "metadata": {},
   "outputs": [
    {
     "name": "stdout",
     "output_type": "stream",
     "text": [
      "<Response [200]>\n"
     ]
    },
    {
     "ename": "AssertionError",
     "evalue": "",
     "output_type": "error",
     "traceback": [
      "\u001b[1;31m---------------------------------------------------------------------------\u001b[0m",
      "\u001b[1;31mAssertionError\u001b[0m                            Traceback (most recent call last)",
      "Cell \u001b[1;32mIn[18], line 5\u001b[0m\n\u001b[0;32m      3\u001b[0m resp\u001b[39m.\u001b[39mstatus_code, resp\u001b[39m.\u001b[39mcontent\n\u001b[0;32m      4\u001b[0m \u001b[39mprint\u001b[39m(resp)\n\u001b[1;32m----> 5\u001b[0m \u001b[39massert\u001b[39;00m resp\u001b[39m.\u001b[39mcontent[:\u001b[39m5\u001b[39m]\u001b[39m.\u001b[39mdecode()\u001b[39m.\u001b[39mstartswith(\u001b[39m\"\u001b[39m\u001b[39m%\u001b[39m\u001b[39mPDF\u001b[39m\u001b[39m\"\u001b[39m)\n\u001b[0;32m      6\u001b[0m \u001b[39mwith\u001b[39;00m \u001b[39mopen\u001b[39m(\u001b[39m'\u001b[39m\u001b[39msample122.pdf\u001b[39m\u001b[39m'\u001b[39m, \u001b[39m'\u001b[39m\u001b[39mwb\u001b[39m\u001b[39m'\u001b[39m) \u001b[39mas\u001b[39;00m f:\n\u001b[0;32m      7\u001b[0m     f\u001b[39m.\u001b[39mwrite(resp\u001b[39m.\u001b[39mcontent)\n",
      "\u001b[1;31mAssertionError\u001b[0m: "
     ]
    }
   ],
   "source": [
    "resp = requests.get(\"%s/api/v1/%s/%s\"%(base_url, 'SkillCertificate', idx), headers={\"Accept\":\"application/pdf\", \"template\": \"http://localhost:63342/sunbird-rc/registry/public/_schemas/templates/SkillCertificate.html?_ijt=qu4536mc0j899963igug2gitf0\"})\n",
    "\n",
    "resp.status_code, resp.content\n",
    "print(resp)\n",
    "assert resp.content[:5].decode().startswith(\"%PDF\")\n",
    "with open('sample122.pdf', 'wb') as f:\n",
    "    f.write(resp.content)\n",
    "    \n",
    "%system open 'sample122.pdf'\n"
   ]
  },
  {
   "cell_type": "code",
   "execution_count": null,
   "id": "c2d53e0d",
   "metadata": {},
   "outputs": [],
   "source": []
  }
 ],
 "metadata": {
  "kernelspec": {
   "display_name": "Python 3 (ipykernel)",
   "language": "python",
   "name": "python3"
  },
  "language_info": {
   "codemirror_mode": {
    "name": "ipython",
    "version": 3
   },
   "file_extension": ".py",
   "mimetype": "text/x-python",
   "name": "python",
   "nbconvert_exporter": "python",
   "pygments_lexer": "ipython3",
   "version": "3.10.9"
  }
 },
 "nbformat": 4,
 "nbformat_minor": 5
}
