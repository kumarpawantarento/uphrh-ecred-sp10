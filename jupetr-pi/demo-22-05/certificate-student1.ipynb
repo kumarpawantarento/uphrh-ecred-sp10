{
 "cells": [
  {
   "cell_type": "code",
   "execution_count": 1,
   "id": "f0d66103",
   "metadata": {},
   "outputs": [],
   "source": [
    "import requests\n",
    "import random\n",
    "import json\n",
    "\n",
    "base_url = \"http://localhost:8081\"\n",
    "\n",
    "resp = requests.get(base_url)\n",
    "assert resp.status_code == 404\n",
    "assert resp.json()[\"status\"] == 404\n",
    "assert resp.json()[\"error\"] == \"Not Found\"\n"
   ]
  },
  {
   "cell_type": "code",
   "execution_count": 4,
   "id": "fc57f642",
   "metadata": {},
   "outputs": [
    {
     "data": {
      "text/plain": [
       "{'SkillCertificate': {'$id': '#/properties/SkillCertificate',\n",
       "  'type': 'object',\n",
       "  'title': 'The SkillCertificate Schema',\n",
       "  'required': ['name', 'contact'],\n",
       "  'properties': {'Username': {'type': 'string'},\n",
       "   'name': {'type': 'string'},\n",
       "   'trainingTitle': {'type': 'string'},\n",
       "   'contact': {'type': 'string'},\n",
       "   'dob': {'type': 'string', 'format': 'text'},\n",
       "   'gender': {'type': 'string'},\n",
       "   'qualification': {'type': 'string'},\n",
       "   'rollNumber': {'type': 'string'},\n",
       "   'note': {'type': 'string'},\n",
       "   'orgLogo': {'type': 'string'},\n",
       "   'casaLogo': {'type': 'string'},\n",
       "   'candidatePic': {'type': 'string'},\n",
       "   'skills': {'type': 'array',\n",
       "    'items': {'type': 'object',\n",
       "     'properties': {'skill': {'type': 'string'},\n",
       "      'certifiedOn': {'type': 'string'}}}}}}}"
      ]
     },
     "execution_count": 4,
     "metadata": {},
     "output_type": "execute_result"
    }
   ],
   "source": [
    "\n",
    "resp = requests.get(\"%s/api/docs/swagger.json\"%base_url)\n",
    "assert resp.status_code == 200\n",
    "assert resp.json()[\"swagger\"] == \"2.0\"\n",
    "assert resp.json()[\"paths\"] != None\n",
    "\n",
    "swaggerJson = resp.json()\n",
    "swaggerJson[\"paths\"].keys()\n",
    "\n",
    "jsonUrl = [f for f in swaggerJson[\"paths\"].keys() if \".json\" in f][8]\n",
    "jsonUrl\n",
    "\n",
    "resp = requests.get(\"%s%s\"%(base_url, jsonUrl))\n",
    "assert resp.status_code == 200\n",
    "resp.json()"
   ]
  },
  {
   "cell_type": "code",
   "execution_count": 5,
   "id": "3343a6fe",
   "metadata": {},
   "outputs": [
    {
     "name": "stdout",
     "output_type": "stream",
     "text": [
      "Available entities  ['SkillCertificate']\n"
     ]
    }
   ],
   "source": [
    "entities = list(resp.json().keys())\n",
    "print(\"Available entities \", entities)"
   ]
  },
  {
   "cell_type": "code",
   "execution_count": 6,
   "id": "41559bae",
   "metadata": {},
   "outputs": [
    {
     "name": "stdout",
     "output_type": "stream",
     "text": [
      "Using entity SkillCertificate\n"
     ]
    }
   ],
   "source": [
    "entity_name=\"SkillCertificate\"\n",
    "print(\"Using entity %s\"%entity_name)\n"
   ]
  },
  {
   "cell_type": "code",
   "execution_count": 7,
   "id": "161ca6b9",
   "metadata": {},
   "outputs": [
    {
     "name": "stdout",
     "output_type": "stream",
     "text": [
      "<Response [400]>\n"
     ]
    }
   ],
   "source": [
    "userId =str(random.randint(1e10,1e11))\n",
    "resp = requests.post(\"%s%s\"%(base_url, '/api/v1/Skillcertificate'), json={\n",
    "    \"name\":\"GURIYA K\", \n",
    "    \"grades\": \"B\",\n",
    "    \"rollNumber\": \"2224300003\",\n",
    "    \"dob\": \"1998-09-20\",\n",
    "    \"gender\": \"F\",\n",
    "    \"mobile\": \"9087363655\",\n",
    "    \"contact\": \"9087363657\",\n",
    "    \"email\": \"kumarpawans@gmail.com\",\n",
    "    \"qualification\":\"DIPLOMA IN GENERAL NURSING and MIDWIFERY\",\n",
    "    \"enrollmentNumber\":\"2210254300051\",\n",
    "    \"examYear\":\"2022\"\n",
    "})\n",
    "print(resp)\n",
    "#assert resp.status_code == 200 or print (resp.json())\n",
    "#idx = resp.json()[\"result\"][entity_name][\"osid\"]\n"
   ]
  },
  {
   "cell_type": "code",
   "execution_count": 8,
   "id": "e73084c3",
   "metadata": {},
   "outputs": [
    {
     "ename": "JSONDecodeError",
     "evalue": "Expecting value: line 1 column 5 (char 4)",
     "output_type": "error",
     "traceback": [
      "\u001b[1;31m---------------------------------------------------------------------------\u001b[0m",
      "\u001b[1;31mJSONDecodeError\u001b[0m                           Traceback (most recent call last)",
      "File \u001b[1;32mc:\\Users\\Pawan Kumar\\anaconda3\\lib\\site-packages\\requests\\models.py:971\u001b[0m, in \u001b[0;36mResponse.json\u001b[1;34m(self, **kwargs)\u001b[0m\n\u001b[0;32m    970\u001b[0m \u001b[39mtry\u001b[39;00m:\n\u001b[1;32m--> 971\u001b[0m     \u001b[39mreturn\u001b[39;00m complexjson\u001b[39m.\u001b[39mloads(\u001b[39mself\u001b[39m\u001b[39m.\u001b[39mtext, \u001b[39m*\u001b[39m\u001b[39m*\u001b[39mkwargs)\n\u001b[0;32m    972\u001b[0m \u001b[39mexcept\u001b[39;00m JSONDecodeError \u001b[39mas\u001b[39;00m e:\n\u001b[0;32m    973\u001b[0m     \u001b[39m# Catch JSON-related errors and raise as requests.JSONDecodeError\u001b[39;00m\n\u001b[0;32m    974\u001b[0m     \u001b[39m# This aliases json.JSONDecodeError and simplejson.JSONDecodeError\u001b[39;00m\n",
      "File \u001b[1;32mc:\\Users\\Pawan Kumar\\anaconda3\\lib\\json\\__init__.py:346\u001b[0m, in \u001b[0;36mloads\u001b[1;34m(s, cls, object_hook, parse_float, parse_int, parse_constant, object_pairs_hook, **kw)\u001b[0m\n\u001b[0;32m    343\u001b[0m \u001b[39mif\u001b[39;00m (\u001b[39mcls\u001b[39m \u001b[39mis\u001b[39;00m \u001b[39mNone\u001b[39;00m \u001b[39mand\u001b[39;00m object_hook \u001b[39mis\u001b[39;00m \u001b[39mNone\u001b[39;00m \u001b[39mand\u001b[39;00m\n\u001b[0;32m    344\u001b[0m         parse_int \u001b[39mis\u001b[39;00m \u001b[39mNone\u001b[39;00m \u001b[39mand\u001b[39;00m parse_float \u001b[39mis\u001b[39;00m \u001b[39mNone\u001b[39;00m \u001b[39mand\u001b[39;00m\n\u001b[0;32m    345\u001b[0m         parse_constant \u001b[39mis\u001b[39;00m \u001b[39mNone\u001b[39;00m \u001b[39mand\u001b[39;00m object_pairs_hook \u001b[39mis\u001b[39;00m \u001b[39mNone\u001b[39;00m \u001b[39mand\u001b[39;00m \u001b[39mnot\u001b[39;00m kw):\n\u001b[1;32m--> 346\u001b[0m     \u001b[39mreturn\u001b[39;00m _default_decoder\u001b[39m.\u001b[39;49mdecode(s)\n\u001b[0;32m    347\u001b[0m \u001b[39mif\u001b[39;00m \u001b[39mcls\u001b[39m \u001b[39mis\u001b[39;00m \u001b[39mNone\u001b[39;00m:\n",
      "File \u001b[1;32mc:\\Users\\Pawan Kumar\\anaconda3\\lib\\json\\decoder.py:337\u001b[0m, in \u001b[0;36mJSONDecoder.decode\u001b[1;34m(self, s, _w)\u001b[0m\n\u001b[0;32m    333\u001b[0m \u001b[39m\"\"\"Return the Python representation of ``s`` (a ``str`` instance\u001b[39;00m\n\u001b[0;32m    334\u001b[0m \u001b[39mcontaining a JSON document).\u001b[39;00m\n\u001b[0;32m    335\u001b[0m \n\u001b[0;32m    336\u001b[0m \u001b[39m\"\"\"\u001b[39;00m\n\u001b[1;32m--> 337\u001b[0m obj, end \u001b[39m=\u001b[39m \u001b[39mself\u001b[39;49m\u001b[39m.\u001b[39;49mraw_decode(s, idx\u001b[39m=\u001b[39;49m_w(s, \u001b[39m0\u001b[39;49m)\u001b[39m.\u001b[39;49mend())\n\u001b[0;32m    338\u001b[0m end \u001b[39m=\u001b[39m _w(s, end)\u001b[39m.\u001b[39mend()\n",
      "File \u001b[1;32mc:\\Users\\Pawan Kumar\\anaconda3\\lib\\json\\decoder.py:355\u001b[0m, in \u001b[0;36mJSONDecoder.raw_decode\u001b[1;34m(self, s, idx)\u001b[0m\n\u001b[0;32m    354\u001b[0m \u001b[39mexcept\u001b[39;00m \u001b[39mStopIteration\u001b[39;00m \u001b[39mas\u001b[39;00m err:\n\u001b[1;32m--> 355\u001b[0m     \u001b[39mraise\u001b[39;00m JSONDecodeError(\u001b[39m\"\u001b[39m\u001b[39mExpecting value\u001b[39m\u001b[39m\"\u001b[39m, s, err\u001b[39m.\u001b[39mvalue) \u001b[39mfrom\u001b[39;00m \u001b[39mNone\u001b[39m\n\u001b[0;32m    356\u001b[0m \u001b[39mreturn\u001b[39;00m obj, end\n",
      "\u001b[1;31mJSONDecodeError\u001b[0m: Expecting value: line 1 column 5 (char 4)",
      "\nDuring handling of the above exception, another exception occurred:\n",
      "\u001b[1;31mJSONDecodeError\u001b[0m                           Traceback (most recent call last)",
      "Cell \u001b[1;32mIn[8], line 1\u001b[0m\n\u001b[1;32m----> 1\u001b[0m resp\u001b[39m.\u001b[39;49mjson()\n",
      "File \u001b[1;32mc:\\Users\\Pawan Kumar\\anaconda3\\lib\\site-packages\\requests\\models.py:975\u001b[0m, in \u001b[0;36mResponse.json\u001b[1;34m(self, **kwargs)\u001b[0m\n\u001b[0;32m    971\u001b[0m     \u001b[39mreturn\u001b[39;00m complexjson\u001b[39m.\u001b[39mloads(\u001b[39mself\u001b[39m\u001b[39m.\u001b[39mtext, \u001b[39m*\u001b[39m\u001b[39m*\u001b[39mkwargs)\n\u001b[0;32m    972\u001b[0m \u001b[39mexcept\u001b[39;00m JSONDecodeError \u001b[39mas\u001b[39;00m e:\n\u001b[0;32m    973\u001b[0m     \u001b[39m# Catch JSON-related errors and raise as requests.JSONDecodeError\u001b[39;00m\n\u001b[0;32m    974\u001b[0m     \u001b[39m# This aliases json.JSONDecodeError and simplejson.JSONDecodeError\u001b[39;00m\n\u001b[1;32m--> 975\u001b[0m     \u001b[39mraise\u001b[39;00m RequestsJSONDecodeError(e\u001b[39m.\u001b[39mmsg, e\u001b[39m.\u001b[39mdoc, e\u001b[39m.\u001b[39mpos)\n",
      "\u001b[1;31mJSONDecodeError\u001b[0m: Expecting value: line 1 column 5 (char 4)"
     ]
    }
   ],
   "source": [
    "resp.json()\n"
   ]
  },
  {
   "cell_type": "code",
   "execution_count": 15,
   "id": "345cfbf2",
   "metadata": {},
   "outputs": [
    {
     "name": "stdout",
     "output_type": "stream",
     "text": [
      "{'id': 'sunbird-rc.registry.create', 'ver': '1.0', 'ets': 1684989835376, 'params': {'resmsgid': '', 'msgid': 'dfdaefc9-91a0-476f-bda4-712af8749abe', 'err': '', 'status': 'SUCCESSFUL', 'errmsg': ''}, 'responseCode': 'OK', 'result': {'SkillCertificate': {'osid': '1-226332ff-cb8b-4ad3-89e0-35d588ea6205'}}}\n"
     ]
    },
    {
     "data": {
      "text/plain": [
       "(200, '50327706173')"
      ]
     },
     "execution_count": 15,
     "metadata": {},
     "output_type": "execute_result"
    }
   ],
   "source": [
    "print(resp.json())\n",
    "resp.status_code, userId\n"
   ]
  },
  {
   "attachments": {},
   "cell_type": "markdown",
   "id": "daf81eb1",
   "metadata": {},
   "source": [
    "# generate certificate"
   ]
  },
  {
   "cell_type": "code",
   "execution_count": 10,
   "id": "e92fc1bc",
   "metadata": {},
   "outputs": [
    {
     "name": "stdout",
     "output_type": "stream",
     "text": [
      "b''\n"
     ]
    }
   ],
   "source": [
    "idx=\"36860b15-c89d-4c52-8aa2-a809e8127e31\"\n",
    "resp = requests.get(\"%s/api/v2/%s/%s\"%(base_url, entity_name, idx), headers={\"Accept\":\"application/pdf\", \"template\": \"https://raw.githubusercontent.com/kumarpawantarento/templates/main/studentId.html\"})\n",
    "resp.status_code, resp.content\n",
    "print (resp.content)\n"
   ]
  },
  {
   "attachments": {},
   "cell_type": "markdown",
   "id": "8ffd2fb7",
   "metadata": {},
   "source": [
    "# delete certificate"
   ]
  },
  {
   "cell_type": "code",
   "execution_count": 43,
   "id": "3f33479a",
   "metadata": {},
   "outputs": [],
   "source": [
    "# esp = requests.delete(\"%s/api/v1/%s/%s\"%(base_url, entity_name, idx), headers={\"Accept\":\"application/json\"})\n",
    "# print(resp.status_code)\n",
    "# assert resp.status_code == 200\n",
    "# resp = requests.get(\"%s/api/v1/%s/%s\"%(base_url, entity_name, idx), headers={\"Accept\":\"application/json\"})\n",
    "# print(json.dumps(resp.json()))\n",
    "# assert resp.json()[\"params\"][\"errmsg\"] == \"entity status is inactive\"\n"
   ]
  }
 ],
 "metadata": {
  "kernelspec": {
   "display_name": "Python 3 (ipykernel)",
   "language": "python",
   "name": "python3"
  },
  "language_info": {
   "codemirror_mode": {
    "name": "ipython",
    "version": 3
   },
   "file_extension": ".py",
   "mimetype": "text/x-python",
   "name": "python",
   "nbconvert_exporter": "python",
   "pygments_lexer": "ipython3",
   "version": "3.10.9"
  }
 },
 "nbformat": 4,
 "nbformat_minor": 5
}
