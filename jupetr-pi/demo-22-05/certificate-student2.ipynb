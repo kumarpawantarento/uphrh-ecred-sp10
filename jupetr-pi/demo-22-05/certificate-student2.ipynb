{
 "cells": [
  {
   "cell_type": "code",
   "execution_count": 16,
   "id": "f0d66103",
   "metadata": {},
   "outputs": [],
   "source": [
    "import requests\n",
    "import random\n",
    "import json\n",
    "\n",
    "base_url = \"http://localhost:8081\"\n",
    "\n",
    "resp = requests.get(base_url)\n",
    "assert resp.status_code == 404\n",
    "assert resp.json()[\"status\"] == 404\n",
    "assert resp.json()[\"error\"] == \"Not Found\"\n"
   ]
  },
  {
   "cell_type": "code",
   "execution_count": 17,
   "id": "fc57f642",
   "metadata": {},
   "outputs": [
    {
     "data": {
      "text/plain": [
       "{'Student': {'$id': '#/properties/Student',\n",
       "  'type': 'object',\n",
       "  'title': 'Student',\n",
       "  'required': ['StudentName',\n",
       "   'email',\n",
       "   'userId',\n",
       "   'mobile',\n",
       "   'RollNo',\n",
       "   'DateOfBirth'],\n",
       "  'properties': {'Username': {'type': 'string', 'description': ''},\n",
       "   'StudentProfileKey': {'type': 'number', 'description': ''},\n",
       "   'CenterKey': {'type': 'number', 'description': ''},\n",
       "   'CourseKey': {'type': 'number', 'description': ''},\n",
       "   'CourseName': {'type': 'string', 'description': ''},\n",
       "   'AdmissionYear': {'type': 'string', 'description': ''},\n",
       "   'StudentName': {'type': 'string', 'description': ''},\n",
       "   'StudentName_SurName': {'type': 'string', 'description': ''},\n",
       "   'StudentFullName': {'type': 'string', 'description': ''},\n",
       "   'DateOfBirth': {'type': 'string', 'description': ''},\n",
       "   'FatherName': {'type': 'string', 'description': ''},\n",
       "   'FatherTitle': {'type': 'string', 'description': ''},\n",
       "   'FatherFullName': {'type': 'string', 'description': ''},\n",
       "   'MotherTitle': {'type': 'string', 'description': ''},\n",
       "   'MotherName': {'type': 'string', 'description': ''},\n",
       "   'MotherFullName': {'type': 'string', 'description': ''},\n",
       "   'ControlNo': {'type': 'string', 'description': ''},\n",
       "   'EnrollmentNo': {'type': 'string', 'description': ''},\n",
       "   'RollNo': {'type': 'string', 'description': ''},\n",
       "   'AdmissionDate': {'type': 'string', 'description': ''},\n",
       "   'Title': {'type': 'string', 'description': ''},\n",
       "   'Cast': {'type': 'string', 'description': ''},\n",
       "   'IsFreedomFighter': {'type': 'boolean', 'description': ''},\n",
       "   'IsHandicap': {'type': 'boolean', 'description': ''},\n",
       "   'Gender': {'type': 'string', 'description': ''},\n",
       "   'ModifyCount': {'type': 'number', 'description': ''},\n",
       "   'ExamSessionKey': {'type': 'number', 'description': ''},\n",
       "   'ExamYear': {'type': 'number', 'description': ''},\n",
       "   'Inter_Subject': {'type': 'string', 'description': ''},\n",
       "   'Inter_Physics': {'type': 'boolean', 'description': ''},\n",
       "   'Inter_Chemistry': {'type': 'boolean', 'description': ''},\n",
       "   'Inter_Biology': {'type': 'boolean', 'description': ''},\n",
       "   'Inter_Math': {'type': 'boolean', 'description': ''},\n",
       "   'Inter_Art': {'type': 'boolean', 'description': ''},\n",
       "   'Inter_Commerce': {'type': 'boolean', 'description': ''},\n",
       "   'Inter_Other': {'type': 'boolean', 'description': ''},\n",
       "   'Inter_Percent': {'type': 'number', 'description': ''},\n",
       "   'Exam_BoardKey': {'type': 'number', 'description': ''},\n",
       "   'IntermediateSubjects': {'type': 'string', 'description': ''},\n",
       "   'IntermediateEnglishSubject': {'type': 'string', 'description': ''},\n",
       "   'HighSchool_RollNo': {'type': 'string', 'description': ''},\n",
       "   'HighSchool_PassingYear': {'type': 'string', 'description': ''},\n",
       "   'Intermediate_RollNo': {'type': 'string', 'description': ''},\n",
       "   'Intermediate_PassingYear': {'type': 'string', 'description': ''},\n",
       "   'ContactNo': {'type': 'string', 'description': ''},\n",
       "   'email': {'type': 'string', 'description': ''},\n",
       "   'AadhaarNo': {'type': 'string', 'description': ''},\n",
       "   'Address': {'type': 'string', 'description': ''},\n",
       "   'District': {'type': 'string', 'description': ''},\n",
       "   'PinCode': {'type': 'string', 'description': ''},\n",
       "   'StateKey': {'type': 'number', 'description': ''},\n",
       "   'CountryKey': {'type': 'number', 'description': ''},\n",
       "   'State': {'type': 'string', 'description': ''},\n",
       "   'Photo_Sign_Path': {'type': 'string', 'description': ''},\n",
       "   'PhotoPath': {'type': 'string', 'description': ''},\n",
       "   'SignaturePath': {'type': 'string', 'description': ''},\n",
       "   'FinancialYear': {'type': 'string', 'description': ''},\n",
       "   'StudentProfileStatus': {'type': 'number', 'description': ''},\n",
       "   'FormVerifiedBy': {'type': 'number', 'description': ''},\n",
       "   'FormVerifiedOn': {'type': 'string', 'description': ''},\n",
       "   'FormVerifierComment': {'type': 'string', 'description': ''},\n",
       "   'CancelCauseId': {'type': 'number', 'description': ''},\n",
       "   'CancelDetails': {'type': 'string', 'description': ''},\n",
       "   'DiplomaDate': {'type': 'string', 'description': ''},\n",
       "   'DiplomaNo': {'type': 'number', 'description': ''},\n",
       "   'DiplomaDeclaredBy': {'type': 'number', 'description': ''},\n",
       "   'DiplomaDeclaredOn': {'type': 'string', 'description': ''},\n",
       "   'RegnReceiptNo': {'type': 'string', 'description': ''},\n",
       "   'RegnReceiptDate': {'type': 'string', 'description': ''},\n",
       "   'CreatedBy': {'type': 'number', 'description': ''},\n",
       "   'CreatedOn': {'type': 'string', 'description': ''},\n",
       "   'LastModifiedBy': {'type': 'number', 'description': ''},\n",
       "   'LastModifiedOn': {'type': 'string', 'description': ''},\n",
       "   'IsActive': {'type': 'boolean', 'description': ''},\n",
       "   'BarCode': {'type': 'string', 'description': ''},\n",
       "   'profilePicUrl': {'type': 'string', 'description': ''},\n",
       "   'mobile': {'type': 'string', 'description': ''},\n",
       "   'Institute': {'type': 'string', 'description': ''}}}}"
      ]
     },
     "execution_count": 17,
     "metadata": {},
     "output_type": "execute_result"
    }
   ],
   "source": [
    "\n",
    "resp = requests.get(\"%s/api/docs/swagger.json\"%base_url)\n",
    "assert resp.status_code == 200\n",
    "assert resp.json()[\"swagger\"] == \"2.0\"\n",
    "assert resp.json()[\"paths\"] != None\n",
    "\n",
    "swaggerJson = resp.json()\n",
    "swaggerJson[\"paths\"].keys()\n",
    "\n",
    "jsonUrl = [f for f in swaggerJson[\"paths\"].keys() if \".json\" in f][6]\n",
    "jsonUrl\n",
    "\n",
    "resp = requests.get(\"%s%s\"%(base_url, jsonUrl))\n",
    "assert resp.status_code == 200\n",
    "resp.json()"
   ]
  },
  {
   "cell_type": "code",
   "execution_count": 18,
   "id": "3343a6fe",
   "metadata": {},
   "outputs": [
    {
     "name": "stdout",
     "output_type": "stream",
     "text": [
      "Available entities  ['Student']\n"
     ]
    }
   ],
   "source": [
    "entities = list(resp.json().keys())\n",
    "print(\"Available entities \", entities)"
   ]
  },
  {
   "cell_type": "code",
   "execution_count": 15,
   "id": "41559bae",
   "metadata": {},
   "outputs": [
    {
     "name": "stdout",
     "output_type": "stream",
     "text": [
      "Using entity SkillCertificate\n"
     ]
    }
   ],
   "source": [
    "entity_name=entities[0]\n",
    "print(\"Using entity %s\"%entity_name)\n"
   ]
  },
  {
   "cell_type": "code",
   "execution_count": 39,
   "id": "161ca6b9",
   "metadata": {},
   "outputs": [
    {
     "name": "stdout",
     "output_type": "stream",
     "text": [
      "<Response [200]>\n"
     ]
    }
   ],
   "source": [
    "userId =str(random.randint(1e10,1e11))\n",
    "resp = requests.post(\"%s%s\"%(base_url, '/api/v1/SkillCertificate'), json={\n",
    "    \"name\":\"KM. UPADHAYA1\", \n",
    "    \"Username\": userId, \n",
    "    \"contact\": \"7982161501\", \n",
    "    \"rollNumber\": \"224300002\",\n",
    "    \"dob\": \"1989-12-29\",\n",
    "    \"gender\": \"F\",\n",
    "    \"email\":\"kumarpawans@gmail.com\",\n",
    "    \"trainingTitle\":\"DIPLOMA IN GENERAL NURSING and MIDWIFERY\",\n",
    "    \"enrollmentNumber\":\"2210254300051\",\n",
    "    \"examYear\":\"2022\",\n",
    "    \"credType\":\"Id Card\"    \n",
    "})\n",
    "print(resp)\n",
    "#assert resp.status_code == 200 or print (resp.json())\n",
    "#idx = resp.json()[\"result\"][entity_name][\"osid\"]\n"
   ]
  },
  {
   "cell_type": "code",
   "execution_count": 40,
   "id": "e73084c3",
   "metadata": {},
   "outputs": [
    {
     "data": {
      "text/plain": [
       "{'id': 'sunbird-rc.registry.create',\n",
       " 'ver': '1.0',\n",
       " 'ets': 1686654563976,\n",
       " 'params': {'resmsgid': '',\n",
       "  'msgid': 'd7f01f4f-663c-4bd6-894a-92b523485366',\n",
       "  'err': '',\n",
       "  'status': 'SUCCESSFUL',\n",
       "  'errmsg': ''},\n",
       " 'responseCode': 'OK',\n",
       " 'result': {'SkillCertificate': {'osid': '1-87317413-d47b-4dbc-a1c2-08e6cb14ce3b'}}}"
      ]
     },
     "execution_count": 40,
     "metadata": {},
     "output_type": "execute_result"
    }
   ],
   "source": [
    "resp.json()\n"
   ]
  },
  {
   "cell_type": "code",
   "execution_count": 41,
   "id": "345cfbf2",
   "metadata": {},
   "outputs": [
    {
     "name": "stdout",
     "output_type": "stream",
     "text": [
      "{'id': 'sunbird-rc.registry.create', 'ver': '1.0', 'ets': 1686654563976, 'params': {'resmsgid': '', 'msgid': 'd7f01f4f-663c-4bd6-894a-92b523485366', 'err': '', 'status': 'SUCCESSFUL', 'errmsg': ''}, 'responseCode': 'OK', 'result': {'SkillCertificate': {'osid': '1-87317413-d47b-4dbc-a1c2-08e6cb14ce3b'}}}\n"
     ]
    },
    {
     "data": {
      "text/plain": [
       "(200, '25731247604')"
      ]
     },
     "execution_count": 41,
     "metadata": {},
     "output_type": "execute_result"
    }
   ],
   "source": [
    "print(resp.json())\n",
    "resp.status_code, userId\n"
   ]
  },
  {
   "attachments": {},
   "cell_type": "markdown",
   "id": "daf81eb1",
   "metadata": {},
   "source": [
    "# generate certificate"
   ]
  },
  {
   "cell_type": "code",
   "execution_count": 45,
   "id": "e92fc1bc",
   "metadata": {},
   "outputs": [
    {
     "name": "stdout",
     "output_type": "stream",
     "text": [
      "b'Credentials status::Success::Mail Status::Success'\n"
     ]
    }
   ],
   "source": [
    "idx=\"1-87317413-d47b-4dbc-a1c2-08e6cb14ce3b\"\n",
    "resp = requests.get(\"%s/api/v2/%s/%s\"%(base_url, entity_name, idx), headers={\"Accept\":\"application/pdf\", \"template\": \"https://raw.githubusercontent.com/kumarpawantarento/templates/main/studentIdwebcopy.html\"})\n",
    "resp.status_code, resp.content\n",
    "print (resp.content)\n"
   ]
  },
  {
   "attachments": {},
   "cell_type": "markdown",
   "id": "8ffd2fb7",
   "metadata": {},
   "source": [
    "# delete certificate"
   ]
  },
  {
   "cell_type": "code",
   "execution_count": null,
   "id": "3f33479a",
   "metadata": {},
   "outputs": [],
   "source": [
    "# esp = requests.delete(\"%s/api/v1/%s/%s\"%(base_url, entity_name, idx), headers={\"Accept\":\"application/json\"})\n",
    "# print(resp.status_code)\n",
    "# assert resp.status_code == 200\n",
    "# resp = requests.get(\"%s/api/v1/%s/%s\"%(base_url, entity_name, idx), headers={\"Accept\":\"application/json\"})\n",
    "# print(json.dumps(resp.json()))\n",
    "# assert resp.json()[\"params\"][\"errmsg\"] == \"entity status is inactive\"\n"
   ]
  }
 ],
 "metadata": {
  "kernelspec": {
   "display_name": "Python 3 (ipykernel)",
   "language": "python",
   "name": "python3"
  },
  "language_info": {
   "codemirror_mode": {
    "name": "ipython",
    "version": 3
   },
   "file_extension": ".py",
   "mimetype": "text/x-python",
   "name": "python",
   "nbconvert_exporter": "python",
   "pygments_lexer": "ipython3",
   "version": "3.10.9"
  }
 },
 "nbformat": 4,
 "nbformat_minor": 5
}
