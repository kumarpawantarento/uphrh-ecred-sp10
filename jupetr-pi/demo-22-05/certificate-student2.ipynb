{
 "cells": [
  {
   "cell_type": "code",
   "execution_count": 1,
   "id": "f0d66103",
   "metadata": {},
   "outputs": [],
   "source": [
    "import requests\n",
    "import random\n",
    "import json\n",
    "\n",
    "base_url = \"http://localhost:8081\"\n",
    "\n",
    "resp = requests.get(base_url)\n",
    "assert resp.status_code == 404\n",
    "assert resp.json()[\"status\"] == 404\n",
    "assert resp.json()[\"error\"] == \"Not Found\"\n"
   ]
  },
  {
   "cell_type": "code",
   "execution_count": 4,
   "id": "fc57f642",
   "metadata": {},
   "outputs": [
    {
     "data": {
      "text/plain": [
       "{'SkillCertificate': {'$id': '#/properties/SkillCertificate',\n",
       "  'type': 'object',\n",
       "  'title': 'skillcertificate',\n",
       "  'required': ['name', 'contact'],\n",
       "  'properties': {'name': {'type': 'string'},\n",
       "   'trainingTitle': {'type': 'string'},\n",
       "   'contact': {'type': 'string'},\n",
       "   'dob': {'type': 'string', 'format': 'text'},\n",
       "   'gender': {'type': 'string'},\n",
       "   'qualification': {'type': 'string'},\n",
       "   'rollNumber': {'type': 'string'},\n",
       "   'examYear': {'type': 'string'},\n",
       "   'enrollmentNumber': {'type': 'string'},\n",
       "   'note': {'type': 'string'},\n",
       "   'orgLogo': {'type': 'string'},\n",
       "   'casaLogo': {'type': 'string'},\n",
       "   'candidatePic': {'type': 'string'},\n",
       "   'skills': {'type': 'array',\n",
       "    'items': {'type': 'object',\n",
       "     'properties': {'skill': {'type': 'string'},\n",
       "      'certifiedOn': {'type': 'string'}}}}}}}"
      ]
     },
     "execution_count": 4,
     "metadata": {},
     "output_type": "execute_result"
    }
   ],
   "source": [
    "\n",
    "resp = requests.get(\"%s/api/docs/swagger.json\"%base_url)\n",
    "assert resp.status_code == 200\n",
    "assert resp.json()[\"swagger\"] == \"2.0\"\n",
    "assert resp.json()[\"paths\"] != None\n",
    "\n",
    "swaggerJson = resp.json()\n",
    "swaggerJson[\"paths\"].keys()\n",
    "\n",
    "jsonUrl = [f for f in swaggerJson[\"paths\"].keys() if \".json\" in f][7]\n",
    "jsonUrl\n",
    "\n",
    "resp = requests.get(\"%s%s\"%(base_url, jsonUrl))\n",
    "assert resp.status_code == 200\n",
    "resp.json()"
   ]
  },
  {
   "cell_type": "code",
   "execution_count": 5,
   "id": "3343a6fe",
   "metadata": {},
   "outputs": [
    {
     "name": "stdout",
     "output_type": "stream",
     "text": [
      "Available entities  ['SkillCertificate']\n"
     ]
    }
   ],
   "source": [
    "entities = list(resp.json().keys())\n",
    "print(\"Available entities \", entities)"
   ]
  },
  {
   "cell_type": "code",
   "execution_count": 6,
   "id": "41559bae",
   "metadata": {},
   "outputs": [
    {
     "name": "stdout",
     "output_type": "stream",
     "text": [
      "Using entity SkillCertificate\n"
     ]
    }
   ],
   "source": [
    "entity_name=entities[0]\n",
    "print(\"Using entity %s\"%entity_name)\n"
   ]
  },
  {
   "cell_type": "code",
   "execution_count": 7,
   "id": "161ca6b9",
   "metadata": {},
   "outputs": [
    {
     "name": "stdout",
     "output_type": "stream",
     "text": [
      "<Response [200]>\n"
     ]
    }
   ],
   "source": [
    "userId =str(random.randint(1e10,1e11))\n",
    "resp = requests.post(\"%s%s\"%(base_url, '/api/v1/SkillCertificate'), json={\n",
    "    \"name\":\"KM. UPADHAYA1\", \n",
    "    \"Username\": userId, \n",
    "    \"contact\": \"798216150766\", \n",
    "    \"rollNumber\": \"224300002\",\n",
    "    \"dob\": \"1989-12-29\",\n",
    "    \"gender\": \"F\",\n",
    "    \"email\":\"kumarpawans@gmail.com\",\n",
    "    \"trainingTitle\":\"DIPLOMA IN GENERAL NURSING and MIDWIFERY\",\n",
    "    \"enrollmentNumber\":\"2210254300051\",\n",
    "    \"examYear\":\"2022\"    \n",
    "})\n",
    "print(resp)\n",
    "#assert resp.status_code == 200 or print (resp.json())\n",
    "#idx = resp.json()[\"result\"][entity_name][\"osid\"]\n"
   ]
  },
  {
   "cell_type": "code",
   "execution_count": 8,
   "id": "e73084c3",
   "metadata": {},
   "outputs": [
    {
     "data": {
      "text/plain": [
       "{'id': 'sunbird-rc.registry.create',\n",
       " 'ver': '1.0',\n",
       " 'ets': 1685691626693,\n",
       " 'params': {'resmsgid': '',\n",
       "  'msgid': 'a853b99f-f6a0-4069-83c3-a05213955acc',\n",
       "  'err': '',\n",
       "  'status': 'SUCCESSFUL',\n",
       "  'errmsg': ''},\n",
       " 'responseCode': 'OK',\n",
       " 'result': {'SkillCertificate': {'osid': '1-e6b16558-fed0-4838-80a8-a79f373359f8'}}}"
      ]
     },
     "execution_count": 8,
     "metadata": {},
     "output_type": "execute_result"
    }
   ],
   "source": [
    "resp.json()\n"
   ]
  },
  {
   "cell_type": "code",
   "execution_count": 9,
   "id": "345cfbf2",
   "metadata": {},
   "outputs": [
    {
     "name": "stdout",
     "output_type": "stream",
     "text": [
      "{'id': 'sunbird-rc.registry.create', 'ver': '1.0', 'ets': 1685691626693, 'params': {'resmsgid': '', 'msgid': 'a853b99f-f6a0-4069-83c3-a05213955acc', 'err': '', 'status': 'SUCCESSFUL', 'errmsg': ''}, 'responseCode': 'OK', 'result': {'SkillCertificate': {'osid': '1-e6b16558-fed0-4838-80a8-a79f373359f8'}}}\n"
     ]
    },
    {
     "data": {
      "text/plain": [
       "(200, '26911971939')"
      ]
     },
     "execution_count": 9,
     "metadata": {},
     "output_type": "execute_result"
    }
   ],
   "source": [
    "print(resp.json())\n",
    "resp.status_code, userId\n"
   ]
  },
  {
   "attachments": {},
   "cell_type": "markdown",
   "id": "daf81eb1",
   "metadata": {},
   "source": [
    "# generate certificate"
   ]
  },
  {
   "cell_type": "code",
   "execution_count": 10,
   "id": "e92fc1bc",
   "metadata": {},
   "outputs": [
    {
     "name": "stdout",
     "output_type": "stream",
     "text": [
      "b'Certificate status::Success::Mail Status::Success'\n"
     ]
    }
   ],
   "source": [
    "idx=\"1-7755bee9-a147-4091-9952-79dcfae4ec7c\"\n",
    "resp = requests.get(\"%s/api/v2/%s/%s\"%(base_url, entity_name, idx), headers={\"Accept\":\"application/pdf\", \"template\": \"https://raw.githubusercontent.com/kumarpawantarento/templates/main/studentId.html\"})\n",
    "resp.status_code, resp.content\n",
    "print (resp.content)\n"
   ]
  },
  {
   "attachments": {},
   "cell_type": "markdown",
   "id": "8ffd2fb7",
   "metadata": {},
   "source": [
    "# delete certificate"
   ]
  },
  {
   "cell_type": "code",
   "execution_count": null,
   "id": "3f33479a",
   "metadata": {},
   "outputs": [],
   "source": [
    "# esp = requests.delete(\"%s/api/v1/%s/%s\"%(base_url, entity_name, idx), headers={\"Accept\":\"application/json\"})\n",
    "# print(resp.status_code)\n",
    "# assert resp.status_code == 200\n",
    "# resp = requests.get(\"%s/api/v1/%s/%s\"%(base_url, entity_name, idx), headers={\"Accept\":\"application/json\"})\n",
    "# print(json.dumps(resp.json()))\n",
    "# assert resp.json()[\"params\"][\"errmsg\"] == \"entity status is inactive\"\n"
   ]
  }
 ],
 "metadata": {
  "kernelspec": {
   "display_name": "Python 3 (ipykernel)",
   "language": "python",
   "name": "python3"
  },
  "language_info": {
   "codemirror_mode": {
    "name": "ipython",
    "version": 3
   },
   "file_extension": ".py",
   "mimetype": "text/x-python",
   "name": "python",
   "nbconvert_exporter": "python",
   "pygments_lexer": "ipython3",
   "version": "3.10.9"
  }
 },
 "nbformat": 4,
 "nbformat_minor": 5
}
