{
 "cells": [
  {
   "cell_type": "code",
   "execution_count": 28,
   "id": "f0d66103",
   "metadata": {},
   "outputs": [],
   "source": [
    "import requests\n",
    "import random\n",
    "import json\n",
    "\n",
    "base_url = \"http://localhost:8081\"\n",
    "\n",
    "resp = requests.get(base_url)\n",
    "assert resp.status_code == 404\n",
    "assert resp.json()[\"status\"] == 404\n",
    "assert resp.json()[\"error\"] == \"Not Found\"\n"
   ]
  },
  {
   "cell_type": "code",
   "execution_count": 29,
   "id": "fc57f642",
   "metadata": {},
   "outputs": [
    {
     "data": {
      "text/plain": [
       "{'RegCertificate': {'$id': '#/properties/RegCertificate',\n",
       "  'type': 'object',\n",
       "  'title': 'RegCertificate',\n",
       "  'required': ['name'],\n",
       "  'properties': {'name': {'type': 'string'},\n",
       "   'father': {'type': 'string'},\n",
       "   'mother': {'type': 'string'},\n",
       "   'address': {'type': 'string'},\n",
       "   'regNumber': {'type': 'string'},\n",
       "   'course': {'type': 'string'},\n",
       "   'trainningCenter': {'type': 'string'},\n",
       "   'trainingPeriod': {'type': 'string'},\n",
       "   'examBody': {'type': 'string'},\n",
       "   'examYear': {'type': 'string'},\n",
       "   'examMonth': {'type': 'string'},\n",
       "   'enrollNo': {'type': 'string'},\n",
       "   'rollNumber': {'type': 'string'},\n",
       "   'orgLogo': {'type': 'string'},\n",
       "   'barcode': {'type': 'string'},\n",
       "   'candidatePic': {'type': 'string'},\n",
       "   'signaturePic': {'type': 'string'},\n",
       "   'trainningCenterCode': {'type': 'string'},\n",
       "   'dated': {'type': 'string'},\n",
       "   'trainingTitle': {'type': 'string'},\n",
       "   'trainingCode': {'type': 'string'}}}}"
      ]
     },
     "execution_count": 29,
     "metadata": {},
     "output_type": "execute_result"
    }
   ],
   "source": [
    "\n",
    "resp = requests.get(\"%s/api/docs/swagger.json\"%base_url)\n",
    "assert resp.status_code == 200\n",
    "assert resp.json()[\"swagger\"] == \"2.0\"\n",
    "assert resp.json()[\"paths\"] != None\n",
    "\n",
    "swaggerJson = resp.json()\n",
    "swaggerJson[\"paths\"].keys()\n",
    "\n",
    "# jsonUrl = [f for f in swaggerJson[\"paths\"].keys() if \".json\" in f][8]\n",
    "jsonUrl = [f for f in swaggerJson[\"paths\"].keys() if \".json\" in f][10]\n",
    "jsonUrl\n",
    "\n",
    "resp = requests.get(\"%s%s\"%(base_url, jsonUrl))\n",
    "assert resp.status_code == 200\n",
    "resp.json()"
   ]
  },
  {
   "cell_type": "code",
   "execution_count": 30,
   "id": "3343a6fe",
   "metadata": {},
   "outputs": [
    {
     "name": "stdout",
     "output_type": "stream",
     "text": [
      "Available entities  ['RegCertificate']\n",
      "Using entity RegCertificate\n"
     ]
    }
   ],
   "source": [
    "entities = list(resp.json().keys())\n",
    "print(\"Available entities \", entities)\n",
    "entity_name=entities[0]\n",
    "print(\"Using entity %s\"%entity_name)"
   ]
  },
  {
   "cell_type": "code",
   "execution_count": 32,
   "id": "161ca6b9",
   "metadata": {},
   "outputs": [
    {
     "name": "stdout",
     "output_type": "stream",
     "text": [
      "<Response [200]>\n",
      "{'id': 'sunbird-rc.registry.create', 'ver': '1.0', 'ets': 1686129078918, 'params': {'resmsgid': '', 'msgid': '6d867b84-6825-4829-9944-8bc865483f56', 'err': '', 'status': 'SUCCESSFUL', 'errmsg': ''}, 'responseCode': 'OK', 'result': {'RegCertificate': {'osid': '1-f4f68a65-abf5-4719-8130-fc663d5d6754'}}}\n"
     ]
    }
   ],
   "source": [
    "userId =str(random.randint(1e10,1e11))\n",
    "resp = requests.post(\"%s%s\"%(base_url, '/api/v1/RegCertificate'), json={\n",
    "    \"name\":\"KM. Guriya\", \n",
    "    \"contact\":\"982873652\", \n",
    "    \"email\":\"kumarpawans@gmail.com\",\n",
    "    \"mother\":\"SMT. SNEHLATA\", \n",
    "    \"father\":\"SRI SUBHASH CHANDRA\",  \n",
    "    \"trainningCenter\":\"U.P. UNIVERSITY OF MEDICAL SCIENCES, SAIFAI,ETAWAH \",\n",
    "    \"trainningCenterCode\":\"1250\",\n",
    "    \"rollNumber\": \"224300002\",\n",
    "    \"dob\": \"1989-12-29\",\n",
    "    \"gender\": \"F\",\n",
    "    \"address\":\"VILL & POST- BASREHAR, ETAWAH - 206253 (UTTAR PRADESH)\",\n",
    "    \"trainingTitle\":\"DIPLOMA IN GENERAL NURSING and MIDWIFERY\",\n",
    "    \"trainingCode\":\"BTT\",\n",
    "    \"enrollmentNumber\":\"2210254300051\",\n",
    "    \"resultDate\":\"1922-12-29\",\n",
    "    \"examYear\":\"2022\",\n",
    "    \"examMonth\":\"Nov\",\n",
    "    \"orgLogo\":\"\",\n",
    "    \"dated\": \"1922-12-29\",\n",
    "    \"barCode\": \"123456\"\n",
    "})\n",
    "print(resp)\n",
    "print(resp.json())\n",
    "resp.status_code, userId\n",
    "#assert resp.status_code == 200 or print (resp.json())\n",
    "#idx = resp.json()[\"result\"][entity_name][\"osid\"]\n",
    "sid = resp.json()[\"result\"][\"RegCertificate\"][\"osid\"]"
   ]
  },
  {
   "attachments": {},
   "cell_type": "markdown",
   "id": "daf81eb1",
   "metadata": {},
   "source": [
    "# generate certificate"
   ]
  },
  {
   "cell_type": "code",
   "execution_count": 33,
   "id": "e92fc1bc",
   "metadata": {},
   "outputs": [
    {
     "name": "stdout",
     "output_type": "stream",
     "text": [
      "1-f4f68a65-abf5-4719-8130-fc663d5d6754\n",
      "b'Certificate status::Success::Mail Status::Success'\n"
     ]
    }
   ],
   "source": [
    "idx=sid\n",
    "print(idx)\n",
    "resp = requests.get(\"%s/api/v2/%s/%s\"%(base_url, entity_name, idx), headers={\"Accept\":\"application/pdf\", \"template\": \"https://raw.githubusercontent.com/kumarpawantarento/templates/main/enrollment-certificate.html\"})\n",
    "resp.status_code, resp.content\n",
    "print (resp.content)\n"
   ]
  },
  {
   "attachments": {},
   "cell_type": "markdown",
   "id": "8ffd2fb7",
   "metadata": {},
   "source": [
    "# delete certificate"
   ]
  },
  {
   "cell_type": "code",
   "execution_count": 71,
   "id": "3f33479a",
   "metadata": {},
   "outputs": [],
   "source": [
    "# esp = requests.delete(\"%s/api/v1/%s/%s\"%(base_url, entity_name, idx), headers={\"Accept\":\"application/json\"})\n",
    "# print(resp.status_code)\n",
    "# assert resp.status_code == 200\n",
    "# resp = requests.get(\"%s/api/v1/%s/%s\"%(base_url, entity_name, idx), headers={\"Accept\":\"application/json\"})\n",
    "# print(json.dumps(resp.json()))\n",
    "# assert resp.json()[\"params\"][\"errmsg\"] == \"entity status is inactive\"\n"
   ]
  }
 ],
 "metadata": {
  "kernelspec": {
   "display_name": "Python 3 (ipykernel)",
   "language": "python",
   "name": "python3"
  },
  "language_info": {
   "codemirror_mode": {
    "name": "ipython",
    "version": 3
   },
   "file_extension": ".py",
   "mimetype": "text/x-python",
   "name": "python",
   "nbconvert_exporter": "python",
   "pygments_lexer": "ipython3",
   "version": "3.10.9"
  }
 },
 "nbformat": 4,
 "nbformat_minor": 5
}
