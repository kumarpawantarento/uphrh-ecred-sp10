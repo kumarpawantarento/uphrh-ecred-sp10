{
 "cells": [
  {
   "cell_type": "code",
   "execution_count": 1,
   "id": "3f0dd619",
   "metadata": {},
   "outputs": [],
   "source": [
    "import requests\n",
    "import random\n",
    "import json"
   ]
  },
  {
   "cell_type": "code",
   "execution_count": 2,
   "id": "47d42ec6",
   "metadata": {},
   "outputs": [],
   "source": [
    "token= \"eyJhbGciOiJSUzI1NiIsInR5cCIgOiAiSldUIiwia2lkIiA6ICJGZHl5YkhKcHB0bTdMNnJ5d2Npd2Rlb1hsYktTVVcwY0NNYU5lRHAtZlZrIn0.eyJleHAiOjE2ODkzMjQwNDEsImlhdCI6MTY4OTMyMzQ0MSwianRpIjoiZDBlYmIwMzEtOTgxMS00NzlkLWFhNGQtMDEzODBhOWExNjViIiwiaXNzIjoiaHR0cDovL2xvY2FsaG9zdDo4MDgwL2F1dGgvcmVhbG1zL3N1bmJpcmQtcmMiLCJhdWQiOlsiYWRtaW4tYXBpIiwiYWNjb3VudCJdLCJzdWIiOiJjNDlhYzIxMC02YTFiLTQ3YjItYjQyOS0yZjg4ZGViOGQ4YTQiLCJ0eXAiOiJCZWFyZXIiLCJhenAiOiJyZWdpc3RyeS1mcm9udGVuZCIsInNlc3Npb25fc3RhdGUiOiI5NzkzNmMxNy0yN2QyLTRjMTQtOGU2Mi01MzRlOGQ4ZDU4NzQiLCJhY3IiOiIxIiwiYWxsb3dlZC1vcmlnaW5zIjpbImh0dHBzOi8vbG9jYWxob3N0OjQyMDIiLCJodHRwOi8vbG9jYWxob3N0OjQyMDIiLCJodHRwczovL2xvY2FsaG9zdDo0MjAwIiwiaHR0cHM6Ly9uZGVhci54aXYuaW4iLCJodHRwOi8vbG9jYWxob3N0OjQyMDAiLCJodHRwOi8vbmRlYXIueGl2LmluIiwiaHR0cDovLzIwLjE5OC42NC4xMjgiXSwicmVhbG1fYWNjZXNzIjp7InJvbGVzIjpbInN5c3RlbS1hZG1pbiIsIm9mZmxpbmVfYWNjZXNzIiwiYm9hcmQtY2JzZSIsIlRlYWNoZXIiLCJhbm9ueW1vdXMiLCJ1bWFfYXV0aG9yaXphdGlvbiIsIlJlZ3VsYXRvciIsIlN0dWRlbnQiLCJkZWZhdWx0LXJvbGVzLW5kZWFyIl19LCJyZXNvdXJjZV9hY2Nlc3MiOnsiYWRtaW4tYXBpIjp7InJvbGVzIjpbInVtYV9wcm90ZWN0aW9uIiwiYXBpIl19LCJhY2NvdW50Ijp7InJvbGVzIjpbIm1hbmFnZS1hY2NvdW50IiwibWFuYWdlLWFjY291bnQtbGlua3MiLCJ2aWV3LXByb2ZpbGUiXX19LCJzY29wZSI6InByb2ZpbGUgZW1haWwiLCJlbWFpbF92ZXJpZmllZCI6ZmFsc2UsIm5hbWUiOiJQYXdhbiBrdW1hciIsInByZWZlcnJlZF91c2VybmFtZSI6Imt1bWFycGF3YW5zNjdAZ21haWwuY29tIiwiZ2l2ZW5fbmFtZSI6IlBhd2FuIiwiZmFtaWx5X25hbWUiOiJrdW1hciIsImVtYWlsIjoia3VtYXJwYXdhbnM2N0BnbWFpbC5jb20ifQ.e2VG6BBI8CHRH8V-hdF5S0zR41l4Scm8Q4n5XMeiXJHJ4q6oloqIkSgjOk-AEYfGuXbOHXIiqkHf3Y-aWrp4jqXBXNT26hcqPLc0zkIfeiXI1RCwUVlt3L1RcgTMHPkGBjxypjlVMSVakoPKHa5A6vHVxLjritGOwZ2fmh2jHOlktBcHA2I4kjyKGqhl4hx6a9pwuqI-akS1HltPQ0rqH7ORhXf46bPMR2bBBgRsFa44U7tGTx5o8XfsrRmsEXt9CmGPYUIgzrgZ_DRDTDXpqv2HfkENWFqB5GQegZ41sujyMhXDLQWw_uyeuHsltWA8gUZLIuub8UEvbETLAdyJVg\""
   ]
  },
  {
   "cell_type": "code",
   "execution_count": 3,
   "id": "22c16507",
   "metadata": {},
   "outputs": [],
   "source": [
    "base_url = \"http://localhost:8081\""
   ]
  },
  {
   "cell_type": "code",
   "execution_count": 4,
   "id": "4c0e4ef1",
   "metadata": {},
   "outputs": [
    {
     "name": "stdout",
     "output_type": "stream",
     "text": [
      "<Response [404]>\n"
     ]
    }
   ],
   "source": [
    "resp = requests.get(base_url)\n",
    "print(resp)\n",
    "assert resp.status_code == 404\n",
    "assert resp.json()[\"status\"] == 404\n",
    "assert resp.json()[\"error\"] == \"Not Found\""
   ]
  },
  {
   "cell_type": "code",
   "execution_count": 5,
   "id": "27da0f32",
   "metadata": {},
   "outputs": [],
   "source": [
    "resp = requests.get(\"%s/api/docs/swagger.json\"%base_url)\n",
    "assert resp.status_code == 200\n",
    "assert resp.json()[\"swagger\"] == \"2.0\"\n",
    "assert resp.json()[\"paths\"] != None"
   ]
  },
  {
   "cell_type": "code",
   "execution_count": 6,
   "id": "0edbbada",
   "metadata": {},
   "outputs": [
    {
     "data": {
      "text/plain": [
       "dict_keys(['/api/v1/TrainingCertificate/{entityId}', '/api/docs/TrainingCertificate.json', '/api/v1/TrainingCertificate/sign', '/api/v1/TrainingCertificate/search', '/api/v1/TrainingCertificate/invite', '/api/v1/TrainingCertificate', '/api/v1/TrainingCertificate/{entityId}/{property}/{propertyId}', '/api/v1/TrainingCertificate/{entityId}/{property}', '/api/v1/TrainingCertificate/{entityId}/{property}/{propertyId}/send', '/api/v1/PublicKey/{entityId}', '/api/docs/PublicKey.json', '/api/v1/PublicKey/sign', '/api/v1/PublicKey/search', '/api/v1/PublicKey/invite', '/api/v1/PublicKey', '/api/v1/PublicKey/{entityId}/{property}/{propertyId}', '/api/v1/PublicKey/{entityId}/{property}', '/api/v1/PublicKey/{entityId}/{property}/{propertyId}/send', '/api/v1/Schema/{entityId}', '/api/docs/Schema.json', '/api/v1/Schema/sign', '/api/v1/Schema/search', '/api/v1/Schema/invite', '/api/v1/Schema', '/api/v1/Schema/{entityId}/{property}/{propertyId}', '/api/v1/Schema/{entityId}/{property}', '/api/v1/Schema/{entityId}/{property}/{propertyId}/send', '/api/v1/Certificates/{entityId}', '/api/docs/Certificates.json', '/api/v1/Certificates/sign', '/api/v1/Certificates/search', '/api/v1/Certificates/invite', '/api/v1/Certificates', '/api/v1/Certificates/{entityId}/{property}/{propertyId}', '/api/v1/Certificates/{entityId}/{property}', '/api/v1/Certificates/{entityId}/{property}/{propertyId}/send', '/api/v1/Regulator/{entityId}', '/api/docs/Regulator.json', '/api/v1/Regulator/sign', '/api/v1/Regulator/search', '/api/v1/Regulator/invite', '/api/v1/Regulator', '/api/v1/Regulator/{entityId}/{property}/{propertyId}', '/api/v1/Regulator/{entityId}/{property}', '/api/v1/Regulator/{entityId}/{property}/{propertyId}/send', '/api/v1/BaseAttestationField/{entityId}', '/api/docs/BaseAttestationField.json', '/api/v1/BaseAttestationField/sign', '/api/v1/BaseAttestationField/search', '/api/v1/BaseAttestationField/invite', '/api/v1/BaseAttestationField', '/api/v1/BaseAttestationField/{entityId}/{property}/{propertyId}', '/api/v1/BaseAttestationField/{entityId}/{property}', '/api/v1/BaseAttestationField/{entityId}/{property}/{propertyId}/send', '/api/v1/Student/{entityId}', '/api/docs/Student.json', '/api/v1/Student/sign', '/api/v1/Student/search', '/api/v1/Student/invite', '/api/v1/Student', '/api/v1/Student/{entityId}/{property}/{propertyId}', '/api/v1/Student/{entityId}/{property}', '/api/v1/Student/{entityId}/{property}/{propertyId}/send', '/api/v1/RegistrationCertificate/{entityId}', '/api/docs/RegistrationCertificate.json', '/api/v1/RegistrationCertificate/sign', '/api/v1/RegistrationCertificate/search', '/api/v1/RegistrationCertificate/invite', '/api/v1/RegistrationCertificate', '/api/v1/RegistrationCertificate/{entityId}/{property}/{propertyId}', '/api/v1/RegistrationCertificate/{entityId}/{property}', '/api/v1/RegistrationCertificate/{entityId}/{property}/{propertyId}/send', '/api/v1/Institute/{entityId}', '/api/docs/Institute.json', '/api/v1/Institute/sign', '/api/v1/Institute/search', '/api/v1/Institute/invite', '/api/v1/Institute', '/api/v1/Institute/{entityId}/{property}/{propertyId}', '/api/v1/Institute/{entityId}/{property}', '/api/v1/Institute/{entityId}/{property}/{propertyId}/send', '/api/v1/StudentMarksSheet/{entityId}', '/api/docs/StudentMarksSheet.json', '/api/v1/StudentMarksSheet/sign', '/api/v1/StudentMarksSheet/search', '/api/v1/StudentMarksSheet/invite', '/api/v1/StudentMarksSheet', '/api/v1/StudentMarksSheet/{entityId}/{property}/{propertyId}', '/api/v1/StudentMarksSheet/{entityId}/{property}', '/api/v1/StudentMarksSheet/{entityId}/{property}/{propertyId}/send', '/api/v1/StudentMarkSheet/{entityId}', '/api/docs/StudentMarkSheet.json', '/api/v1/StudentMarkSheet/sign', '/api/v1/StudentMarkSheet/search', '/api/v1/StudentMarkSheet/invite', '/api/v1/StudentMarkSheet', '/api/v1/StudentMarkSheet/{entityId}/{property}/{propertyId}', '/api/v1/StudentMarkSheet/{entityId}/{property}', '/api/v1/StudentMarkSheet/{entityId}/{property}/{propertyId}/send', '/api/v1/RegCertificate/{entityId}', '/api/docs/RegCertificate.json', '/api/v1/RegCertificate/sign', '/api/v1/RegCertificate/search', '/api/v1/RegCertificate/invite', '/api/v1/RegCertificate', '/api/v1/RegCertificate/{entityId}/{property}/{propertyId}', '/api/v1/RegCertificate/{entityId}/{property}', '/api/v1/RegCertificate/{entityId}/{property}/{propertyId}/send', '/api/v1/Certificate/{entityId}', '/api/docs/Certificate.json', '/api/v1/Certificate/sign', '/api/v1/Certificate/search', '/api/v1/Certificate/invite', '/api/v1/Certificate', '/api/v1/Certificate/{entityId}/{property}/{propertyId}', '/api/v1/Certificate/{entityId}/{property}', '/api/v1/Certificate/{entityId}/{property}/{propertyId}/send', '/api/v1/StudentClaim/{entityId}', '/api/docs/StudentClaim.json', '/api/v1/StudentClaim/sign', '/api/v1/StudentClaim/search', '/api/v1/StudentClaim/invite', '/api/v1/StudentClaim', '/api/v1/StudentClaim/{entityId}/{property}/{propertyId}', '/api/v1/StudentClaim/{entityId}/{property}', '/api/v1/StudentClaim/{entityId}/{property}/{propertyId}/send', '/api/v1/SkillCertificate/{entityId}', '/api/docs/SkillCertificate.json', '/api/v1/SkillCertificate/sign', '/api/v1/SkillCertificate/search', '/api/v1/SkillCertificate/invite', '/api/v1/SkillCertificate', '/api/v1/SkillCertificate/{entityId}/{property}/{propertyId}', '/api/v1/SkillCertificate/{entityId}/{property}', '/api/v1/SkillCertificate/{entityId}/{property}/{propertyId}/send'])"
      ]
     },
     "execution_count": 6,
     "metadata": {},
     "output_type": "execute_result"
    }
   ],
   "source": [
    "swaggerJson = resp.json()\n",
    "swaggerJson[\"paths\"].keys()"
   ]
  },
  {
   "cell_type": "code",
   "execution_count": 8,
   "id": "96d0bcfe",
   "metadata": {},
   "outputs": [
    {
     "data": {
      "text/plain": [
       "'/api/docs/TrainingCertificate.json'"
      ]
     },
     "execution_count": 8,
     "metadata": {},
     "output_type": "execute_result"
    }
   ],
   "source": [
    "jsonUrl = [f for f in swaggerJson[\"paths\"].keys() if \".json\" in f][0]\n",
    "jsonUrl"
   ]
  },
  {
   "attachments": {},
   "cell_type": "markdown",
   "id": "e3f99816",
   "metadata": {},
   "source": [
    "# Check available schema"
   ]
  },
  {
   "cell_type": "code",
   "execution_count": 9,
   "id": "180d3352",
   "metadata": {},
   "outputs": [],
   "source": [
    "resp = requests.get(\"%s%s\"%(base_url, \"/api/docs/Regulator.json\"))\n",
    "assert resp.status_code == 200"
   ]
  },
  {
   "attachments": {},
   "cell_type": "markdown",
   "id": "c4f2919e",
   "metadata": {},
   "source": [
    "## Print response of All available schemas"
   ]
  },
  {
   "cell_type": "code",
   "execution_count": 10,
   "id": "9825fec2",
   "metadata": {},
   "outputs": [
    {
     "data": {
      "text/plain": [
       "{'Regulator': {'$id': '#/properties/Regulator',\n",
       "  'type': 'object',\n",
       "  'title': 'Regulator schema',\n",
       "  'required': ['name', 'phoneNumber', 'email', 'regulator', 'regulatorKey'],\n",
       "  'uniqueIndexFields': ['username'],\n",
       "  'properties': {'name': {'type': 'string'},\n",
       "   'phoneNumber': {'type': 'string'},\n",
       "   'email': {'type': 'string'},\n",
       "   'regulator': {'type': 'string'},\n",
       "   'regulatorKey': {'type': 'string'},\n",
       "   'institute': {'$id': '#/properties/institute',\n",
       "    'type': 'string',\n",
       "    'title': 'Institute Full Name'}}}}"
      ]
     },
     "execution_count": 10,
     "metadata": {},
     "output_type": "execute_result"
    }
   ],
   "source": [
    "resp.json()"
   ]
  },
  {
   "attachments": {},
   "cell_type": "markdown",
   "id": "86f3bc46",
   "metadata": {},
   "source": [
    "## Check Invite available for Entity in RC that can be created"
   ]
  },
  {
   "cell_type": "code",
   "execution_count": 11,
   "id": "50e5149a",
   "metadata": {},
   "outputs": [
    {
     "data": {
      "text/plain": [
       "['/api/v1/TrainingCertificate/invite',\n",
       " '/api/v1/Institute/invite',\n",
       " '/api/v1/PublicKey/invite',\n",
       " '/api/v1/Schema/invite',\n",
       " '/api/v1/Certificates/invite',\n",
       " '/api/v1/Regulator/invite',\n",
       " '/api/v1/BaseAttestationField/invite',\n",
       " '/api/v1/Student/invite',\n",
       " '/api/v1/RegCertificate/invite',\n",
       " '/api/v1/Certificate/invite',\n",
       " '/api/v1/RegistrationCertificate/invite',\n",
       " '/api/v1/SkillCertificate/invite']"
      ]
     },
     "execution_count": 11,
     "metadata": {},
     "output_type": "execute_result"
    }
   ],
   "source": [
    "[f for f in swaggerJson[\"paths\"].keys() if \"/invite\" in f]"
   ]
  },
  {
   "attachments": {},
   "cell_type": "markdown",
   "id": "a6189278",
   "metadata": {},
   "source": [
    "# Prepare User Id Data For Student - Actio By Institute"
   ]
  },
  {
   "cell_type": "code",
   "execution_count": 8,
   "id": "0fbcad28",
   "metadata": {},
   "outputs": [
    {
     "name": "stdout",
     "output_type": "stream",
     "text": [
      "22075376463\n"
     ]
    }
   ],
   "source": [
    "userId =str(random.randint(1e10,1e11))\n",
    "print(userId)\n",
    "headers = {\n",
    "    'content-type': 'application/json',\n",
    "    'Authorization': 'Bearer %s'%token, \n",
    "}\n"
   ]
  },
  {
   "cell_type": "code",
   "execution_count": 9,
   "id": "a4ff65b9",
   "metadata": {},
   "outputs": [
    {
     "data": {
      "text/plain": [
       "'22075376463'"
      ]
     },
     "execution_count": 9,
     "metadata": {},
     "output_type": "execute_result"
    }
   ],
   "source": [
    "userId"
   ]
  },
  {
   "attachments": {},
   "cell_type": "markdown",
   "id": "6eb1a18e",
   "metadata": {},
   "source": [
    "## Create Register a student in registry"
   ]
  },
  {
   "cell_type": "code",
   "execution_count": 10,
   "id": "f85dc761",
   "metadata": {},
   "outputs": [
    {
     "data": {
      "text/plain": [
       "{'id': 'sunbird-rc.registry.invite',\n",
       " 'ver': '1.0',\n",
       " 'ets': 1689323522892,\n",
       " 'params': {'resmsgid': '',\n",
       "  'msgid': 'd33a6e99-3c29-44a9-a9a8-dc7cf119b6c5',\n",
       "  'err': '',\n",
       "  'status': 'SUCCESSFUL',\n",
       "  'errmsg': ''},\n",
       " 'responseCode': 'OK',\n",
       " 'result': {'Student': {'osid': '1-ebaa0b88-f1f8-42a1-96d3-5515176e35c5'}}}"
      ]
     },
     "execution_count": 10,
     "metadata": {},
     "output_type": "execute_result"
    }
   ],
   "source": [
    "headers = {\n",
    "    'content-type': 'application/json',\n",
    "    'Authorization': 'Bearer %s'%token, \n",
    "}\n",
    "\n",
    "data = {\n",
    "    \"userId\": \"KM. DHARNI  %s\"%userId,\n",
    "    \"StudentName\":\"KM. GURIYA\", \n",
    "    \"MotherFullName\":\"SMT. PARWATI DEVI\",\n",
    "    \"FatherFullName\":\"SRI CHANDRIKA PRASAD\",\n",
    "    \"Gender\":\"F\",\n",
    "    \"mobile\": \"9876543210\",\n",
    "    \"email\": \"kumarpawans@gmail.com\",\n",
    "    \"Institute\": \"UPSMF\",\n",
    "    \"StudentKey\":\"317209\",\n",
    "    \"centerKey\":\"450\",\n",
    "    \"address\":\"Lucknow UP\",\n",
    "    \"RollNo\":\"224300003\",\n",
    "    \"EnrollmentNo\":\"2210254300051\",\n",
    "    \"DateOfBirth\":\"12-12-1997\",\n",
    "    \"CourseName\":\"DIPLOMA IN GENERAL NURSING & MIDWIFERY\",\n",
    "    \"IsActive\":True\n",
    " }\n",
    "\n",
    "\n",
    "response = requests.post('http://localhost:8081/api/v1/Student/invite', headers=headers, json=data)\n",
    "response.json()"
   ]
  },
  {
   "cell_type": "code",
   "execution_count": 21,
   "id": "c634f6ae",
   "metadata": {},
   "outputs": [
    {
     "name": "stdout",
     "output_type": "stream",
     "text": [
      "1-1fa514c4-8fd6-45bf-bde8-8752b99f5214\n"
     ]
    }
   ],
   "source": [
    "sid = response.json()[\"result\"][\"Student\"][\"osid\"]\n",
    "print(sid)\n"
   ]
  },
  {
   "attachments": {},
   "cell_type": "markdown",
   "id": "7c08b942",
   "metadata": {},
   "source": [
    "# Read the Student Data from registry"
   ]
  },
  {
   "cell_type": "code",
   "execution_count": 22,
   "id": "24a56dc8",
   "metadata": {},
   "outputs": [
    {
     "name": "stdout",
     "output_type": "stream",
     "text": [
      "1-1fa514c4-8fd6-45bf-bde8-8752b99f5214\n",
      "200\n"
     ]
    },
    {
     "data": {
      "text/plain": [
       "{'CourseName': 'DIPLOMA IN GENERAL NURSING & MIDWIFERY',\n",
       " 'DateOfBirth': '12-12-1997',\n",
       " 'osUpdatedAt': '2023-06-16T09:38:06.810895600Z',\n",
       " 'RollNo': '224300003',\n",
       " 'address': 'Lucknow UP',\n",
       " 'FatherFullName': 'SRI CHANDRIKA PRASAD',\n",
       " 'osUpdatedBy': '',\n",
       " 'IsActive': True,\n",
       " 'mobile': '9876543210',\n",
       " 'osid': '1-1fa514c4-8fd6-45bf-bde8-8752b99f5214',\n",
       " 'Gender': 'F',\n",
       " 'StudentKey': '317209',\n",
       " 'userId': 'KM. DHARNI  25928212562',\n",
       " 'EnrollmentNo': '2210254300051',\n",
       " 'MotherFullName': 'SMT. PARWATI DEVI',\n",
       " 'Institute': 'UPSMF',\n",
       " 'osCreatedAt': '2023-06-16T09:38:06.810895600Z',\n",
       " 'osCreatedBy': '',\n",
       " 'centerKey': '450',\n",
       " 'StudentName': 'KM. GURIYA',\n",
       " 'email': 'kumarpawans@gmail.com'}"
      ]
     },
     "execution_count": 22,
     "metadata": {},
     "output_type": "execute_result"
    }
   ],
   "source": [
    "print(sid)\n",
    "headers = {\n",
    "    'content-type': 'application/json',\n",
    "    'Authorization': 'Bearer %s'%token, \n",
    "}\n",
    "\n",
    "response = requests.get('http://localhost:8081/api/v1/%s/%s'%(\"Student\", sid), headers=headers)\n",
    "print(response.status_code)\n",
    "response.json()\n"
   ]
  },
  {
   "attachments": {},
   "cell_type": "markdown",
   "id": "f84e8451",
   "metadata": {},
   "source": [
    "## Raise a claim"
   ]
  },
  {
   "cell_type": "code",
   "execution_count": 23,
   "id": "b498e02c",
   "metadata": {},
   "outputs": [
    {
     "name": "stdout",
     "output_type": "stream",
     "text": [
      "200\n"
     ]
    },
    {
     "data": {
      "text/plain": [
       "{'id': '',\n",
       " 'ver': '1.0',\n",
       " 'ets': 1686908315352,\n",
       " 'params': {'resmsgid': '',\n",
       "  'msgid': 'dd87c876-d5df-4129-9d93-a143722a774e',\n",
       "  'err': '',\n",
       "  'status': 'UNSUCCESSFUL',\n",
       "  'errmsg': 'Policy null is not found'},\n",
       " 'responseCode': 'OK'}"
      ]
     },
     "execution_count": 23,
     "metadata": {},
     "output_type": "execute_result"
    }
   ],
   "source": [
    "headers = {\n",
    "    'content-type': 'application/json',\n",
    "    'authorization': 'bearer %s'%token,\n",
    "}\n",
    "\n",
    "params = (\n",
    "    ('send', 'true'),\n",
    ")\n",
    "\n",
    "data = {\n",
    "    \"entityName\":\"Student\",\n",
    "    \"entityId\":\"%s\"%sid,\n",
    "    \"additionalInput\":{\"idx\": \"%s\"%sid}\n",
    "}\n",
    "id=sid\n",
    "#response = requests.post('http://localhost:8081/api/v1/Student/1-c1c8d639-377d-4ba0-9997-61443cda5b4c/claims?send=true', headers=headers, params=params, json=data)\n",
    "response = requests.put('http://localhost:8081/api/v1/send', headers=headers, params=params, json=data)\n",
    "print(response.status_code)\n",
    "response.json()\n"
   ]
  },
  {
   "cell_type": "code",
   "execution_count": 51,
   "id": "7647f0e1",
   "metadata": {},
   "outputs": [
    {
     "name": "stdout",
     "output_type": "stream",
     "text": [
      "200\n"
     ]
    },
    {
     "data": {
      "text/plain": [
       "{'osUpdatedAt': '2023-06-06T12:41:36.587881900Z',\n",
       " 'osCreatedAt': '2023-06-06T12:39:09.282280100Z',\n",
       " 'osUpdatedBy': '',\n",
       " 'osCreatedBy': '',\n",
       " 'schoolId': {'osid': '1-5c84fa7d-2dff-4011-9a24-66ebf9861ddd',\n",
       "  'osUpdatedAt': '2023-06-06T12:41:36.587881900Z',\n",
       "  'additionalInput': {'osid': '1-ebd4b342-b4b9-4dd2-a482-97d7b8fabaaf',\n",
       "   'osUpdatedAt': '2023-06-06T12:41:36.587881900Z',\n",
       "   'osUpdatedBy': '',\n",
       "   'idx': '1-c1c8d639-377d-4ba0-9997-61443cda5b4c'},\n",
       "  'osUpdatedBy': '',\n",
       "  'entityName': 'Student',\n",
       "  'entityId': '1-c1c8d639-377d-4ba0-9997-61443cda5b4c'},\n",
       " 'osid': '1-c1c8d639-377d-4ba0-9997-61443cda5b4c',\n",
       " 'identityDetails': {'osid': '1-9cf4cec0-b5db-4713-a331-880ff900a555',\n",
       "  'CourseName': 'DIPLOMA IN GENERAL NURSING & MIDWIFERY',\n",
       "  'DateOfBirth': '12-12-1997',\n",
       "  'EmailId': 'kumarpawans@gmail.com',\n",
       "  'osUpdatedAt': '2023-06-06T12:41:36.587881900Z',\n",
       "  'RollNo': '224300003',\n",
       "  'address': 'Lucknow UP',\n",
       "  'FatherFullName': 'SRI CHANDRIKA PRASAD',\n",
       "  'osUpdatedBy': '',\n",
       "  'mobile': '9876543210',\n",
       "  'Gender': 'F',\n",
       "  'StudentKey': '317209',\n",
       "  'userId': 'KM. DHARNI  89653832037',\n",
       "  'EnrollmentNo': '2210254300051',\n",
       "  'MotherFullName': 'SMT. PARWATI DEVI',\n",
       "  'Institute': 'UPSMF',\n",
       "  'osCreatedAt': '2023-06-06T12:39:09.282280100Z',\n",
       "  'osCreatedBy': '',\n",
       "  'centerKey': '450',\n",
       "  'StudentName': 'KM. GURIYA'},\n",
       " 'claims': {'osid': '1-843b3935-85f5-4185-871f-169011aae8c8',\n",
       "  'osUpdatedAt': '2023-06-06T12:41:36.587881900Z',\n",
       "  'additionalInput': {'osid': '1-2274c1c5-7e24-45c8-9219-dc2a4a438d1e',\n",
       "   'osUpdatedAt': '2023-06-06T12:41:36.587881900Z',\n",
       "   'osUpdatedBy': '',\n",
       "   'idx': '1-c1c8d639-377d-4ba0-9997-61443cda5b4c'},\n",
       "  'osUpdatedBy': '',\n",
       "  'entityName': 'Student',\n",
       "  'entityId': '1-c1c8d639-377d-4ba0-9997-61443cda5b4c'}}"
      ]
     },
     "execution_count": 51,
     "metadata": {},
     "output_type": "execute_result"
    }
   ],
   "source": [
    "headers = {\n",
    "    'content-type': 'application/json',\n",
    "    'Authorization': 'Bearer %s'%token, \n",
    "}\n",
    "\n",
    "response = requests.get('http://localhost:8081/api/v1/%s/%s'%(\"Student\", sid), headers=headers)\n",
    "print(response.status_code)\n",
    "response.json()"
   ]
  },
  {
   "attachments": {},
   "cell_type": "markdown",
   "id": "e243966b",
   "metadata": {},
   "source": [
    "## approve the claim "
   ]
  },
  {
   "cell_type": "code",
   "execution_count": 53,
   "id": "336de33a",
   "metadata": {},
   "outputs": [
    {
     "name": "stdout",
     "output_type": "stream",
     "text": [
      "200\n"
     ]
    },
    {
     "data": {
      "text/plain": [
       "{'id': 'sunbird-rc.registry.update',\n",
       " 'ver': '1.0',\n",
       " 'ets': 1686055376110,\n",
       " 'params': {'resmsgid': '',\n",
       "  'msgid': '8496ea7b-0fcc-4d44-9a4b-eecafc3ca506',\n",
       "  'err': '',\n",
       "  'status': 'SUCCESSFUL',\n",
       "  'errmsg': ''},\n",
       " 'responseCode': 'OK'}"
      ]
     },
     "execution_count": 53,
     "metadata": {},
     "output_type": "execute_result"
    }
   ],
   "source": [
    "headers = {\n",
    "    'content-type': 'application/json',\n",
    "    'Authorization': 'Bearer %s'%token, \n",
    "}\n",
    "data = {\n",
    "    \"action\":\"GRANT_CLAIM\",\n",
    "    \"notes\":\"nate\"\n",
    "}\n",
    "response = requests.post('http://localhost:8081/api/v1/Student/1-c1c8d639-377d-4ba0-9997-61443cda5b4c/claims', headers=headers, json=data)\n",
    "print(response.status_code)\n",
    "response.json()"
   ]
  },
  {
   "cell_type": "code",
   "execution_count": null,
   "id": "f65576ff",
   "metadata": {},
   "outputs": [],
   "source": []
  }
 ],
 "metadata": {
  "kernelspec": {
   "display_name": "Python 3 (ipykernel)",
   "language": "python",
   "name": "python3"
  },
  "language_info": {
   "codemirror_mode": {
    "name": "ipython",
    "version": 3
   },
   "file_extension": ".py",
   "mimetype": "text/x-python",
   "name": "python",
   "nbconvert_exporter": "python",
   "pygments_lexer": "ipython3",
   "version": "3.10.9"
  }
 },
 "nbformat": 4,
 "nbformat_minor": 5
}
