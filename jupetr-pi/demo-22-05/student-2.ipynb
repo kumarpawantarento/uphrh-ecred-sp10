{
 "cells": [
  {
   "cell_type": "code",
   "execution_count": 108,
   "id": "3f0dd619",
   "metadata": {},
   "outputs": [],
   "source": [
    "import requests\n",
    "import random\n",
    "import json"
   ]
  },
  {
   "cell_type": "code",
   "execution_count": 109,
   "id": "2fc768d3",
   "metadata": {},
   "outputs": [],
   "source": [
    "base_url = \"http://localhost:8081\"\n",
    "keycloakUrl = \"http://localhost:8080\""
   ]
  },
  {
   "cell_type": "code",
   "execution_count": 132,
   "id": "dea53309",
   "metadata": {},
   "outputs": [],
   "source": [
    "def getToken():\n",
    "    headers = {\n",
    "        'content-type': 'application/x-www-form-urlencoded',\n",
    "    }\n",
    "\n",
    "    data = {\n",
    "      'client_id': 'registry-frontend',\n",
    "      'grant_type': 'password',\n",
    "      'username':'Kumarpawans67@gmail.com',\n",
    "      'password':'123456'\n",
    "    }\n",
    "    # data = {\n",
    "    #   'client_id': 'admin-api',\n",
    "    #   'grant_type': 'client_credentials',\n",
    "    #   'client_secret':'4131f9cc-4d7a-480d-a4f4-1e7880e8b239'\n",
    "    # }\n",
    "    response = requests.post('%s/auth/realms/sunbird-rc/protocol/openid-connect/token'%(keycloakUrl), headers=headers, data=data)\n",
    "    print(response.json())\n",
    "    print(response.status_code)\n",
    "    token = response.json()[\"access_token\"]\n",
    "    print(token)\n",
    "    return token"
   ]
  },
  {
   "cell_type": "code",
   "execution_count": 133,
   "id": "47d42ec6",
   "metadata": {},
   "outputs": [
    {
     "name": "stdout",
     "output_type": "stream",
     "text": [
      "{'access_token': 'eyJhbGciOiJSUzI1NiIsInR5cCIgOiAiSldUIiwia2lkIiA6ICJGZHl5YkhKcHB0bTdMNnJ5d2Npd2Rlb1hsYktTVVcwY0NNYU5lRHAtZlZrIn0.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.aj7Mu54XTBRR6XI3QJfdEOuYTDT0G8ya9xZVakLChkvA_2a3S5d51vuPNiFjpyTEEt7HHtyB3AFWDawJwPLr1_gKFlNXuMt8r0IVu56vdQiVmp9mg7SPaU4lGBcTQ6jDzs9kVJ_keZoU0TlWpuzsZJ24Rz075CWckv6C3fcnN8uv1UElPQN-jv1lV74eR0WIrKI27dHvklnuYvcxT2hnAUr7KtYr26NQG96yzTmvlMACaNZECDQP-aCp1H-JfXXRy05B-lzoF0sClcN26t9JXsvCexqrv6z90rW6VbhiPq6ZWxI-G5shF3dwAmVN1Q5dyvuqLc-mC9JBtV49sMXtMQ', 'expires_in': 600, 'refresh_expires_in': 0, 'token_type': 'Bearer', 'not-before-policy': 1607576887, 'session_state': '5a9acbc2-caf4-4c09-8c2c-9765152a9965', 'scope': 'profile email'}\n",
      "200\n",
      "eyJhbGciOiJSUzI1NiIsInR5cCIgOiAiSldUIiwia2lkIiA6ICJGZHl5YkhKcHB0bTdMNnJ5d2Npd2Rlb1hsYktTVVcwY0NNYU5lRHAtZlZrIn0.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.aj7Mu54XTBRR6XI3QJfdEOuYTDT0G8ya9xZVakLChkvA_2a3S5d51vuPNiFjpyTEEt7HHtyB3AFWDawJwPLr1_gKFlNXuMt8r0IVu56vdQiVmp9mg7SPaU4lGBcTQ6jDzs9kVJ_keZoU0TlWpuzsZJ24Rz075CWckv6C3fcnN8uv1UElPQN-jv1lV74eR0WIrKI27dHvklnuYvcxT2hnAUr7KtYr26NQG96yzTmvlMACaNZECDQP-aCp1H-JfXXRy05B-lzoF0sClcN26t9JXsvCexqrv6z90rW6VbhiPq6ZWxI-G5shF3dwAmVN1Q5dyvuqLc-mC9JBtV49sMXtMQ\n"
     ]
    }
   ],
   "source": [
    "token=getToken()"
   ]
  },
  {
   "cell_type": "code",
   "execution_count": 134,
   "id": "4c0e4ef1",
   "metadata": {},
   "outputs": [
    {
     "name": "stdout",
     "output_type": "stream",
     "text": [
      "<Response [404]>\n"
     ]
    }
   ],
   "source": [
    "resp = requests.get(base_url)\n",
    "print(resp)\n",
    "assert resp.status_code == 404\n",
    "assert resp.json()[\"status\"] == 404\n",
    "assert resp.json()[\"error\"] == \"Not Found\""
   ]
  },
  {
   "cell_type": "code",
   "execution_count": 135,
   "id": "27da0f32",
   "metadata": {},
   "outputs": [],
   "source": [
    "resp = requests.get(\"%s/api/docs/swagger.json\"%base_url)\n",
    "assert resp.status_code == 200\n",
    "assert resp.json()[\"swagger\"] == \"2.0\"\n",
    "assert resp.json()[\"paths\"] != None"
   ]
  },
  {
   "cell_type": "code",
   "execution_count": 136,
   "id": "0edbbada",
   "metadata": {},
   "outputs": [
    {
     "data": {
      "text/plain": [
       "dict_keys(['/api/v1/TrainingCertificate/{entityId}', '/api/docs/TrainingCertificate.json', '/api/v1/TrainingCertificate/sign', '/api/v1/TrainingCertificate/search', '/api/v1/TrainingCertificate/invite', '/api/v1/TrainingCertificate', '/api/v1/TrainingCertificate/{entityId}/{property}/{propertyId}', '/api/v1/TrainingCertificate/{entityId}/{property}', '/api/v1/TrainingCertificate/{entityId}/{property}/{propertyId}/send', '/api/v1/PublicKey/{entityId}', '/api/docs/PublicKey.json', '/api/v1/PublicKey/sign', '/api/v1/PublicKey/search', '/api/v1/PublicKey/invite', '/api/v1/PublicKey', '/api/v1/PublicKey/{entityId}/{property}/{propertyId}', '/api/v1/PublicKey/{entityId}/{property}', '/api/v1/PublicKey/{entityId}/{property}/{propertyId}/send', '/api/v1/Schema/{entityId}', '/api/docs/Schema.json', '/api/v1/Schema/sign', '/api/v1/Schema/search', '/api/v1/Schema/invite', '/api/v1/Schema', '/api/v1/Schema/{entityId}/{property}/{propertyId}', '/api/v1/Schema/{entityId}/{property}', '/api/v1/Schema/{entityId}/{property}/{propertyId}/send', '/api/v1/Certificates/{entityId}', '/api/docs/Certificates.json', '/api/v1/Certificates/sign', '/api/v1/Certificates/search', '/api/v1/Certificates/invite', '/api/v1/Certificates', '/api/v1/Certificates/{entityId}/{property}/{propertyId}', '/api/v1/Certificates/{entityId}/{property}', '/api/v1/Certificates/{entityId}/{property}/{propertyId}/send', '/api/v1/Regulator/{entityId}', '/api/docs/Regulator.json', '/api/v1/Regulator/sign', '/api/v1/Regulator/search', '/api/v1/Regulator/invite', '/api/v1/Regulator', '/api/v1/Regulator/{entityId}/{property}/{propertyId}', '/api/v1/Regulator/{entityId}/{property}', '/api/v1/Regulator/{entityId}/{property}/{propertyId}/send', '/api/v1/BaseAttestationField/{entityId}', '/api/docs/BaseAttestationField.json', '/api/v1/BaseAttestationField/sign', '/api/v1/BaseAttestationField/search', '/api/v1/BaseAttestationField/invite', '/api/v1/BaseAttestationField', '/api/v1/BaseAttestationField/{entityId}/{property}/{propertyId}', '/api/v1/BaseAttestationField/{entityId}/{property}', '/api/v1/BaseAttestationField/{entityId}/{property}/{propertyId}/send', '/api/v1/Student/{entityId}', '/api/docs/Student.json', '/api/v1/Student/sign', '/api/v1/Student/search', '/api/v1/Student/invite', '/api/v1/Student', '/api/v1/Student/{entityId}/{property}/{propertyId}', '/api/v1/Student/{entityId}/{property}', '/api/v1/Student/{entityId}/{property}/{propertyId}/send', '/api/v1/RegistrationCertificate/{entityId}', '/api/docs/RegistrationCertificate.json', '/api/v1/RegistrationCertificate/sign', '/api/v1/RegistrationCertificate/search', '/api/v1/RegistrationCertificate/invite', '/api/v1/RegistrationCertificate', '/api/v1/RegistrationCertificate/{entityId}/{property}/{propertyId}', '/api/v1/RegistrationCertificate/{entityId}/{property}', '/api/v1/RegistrationCertificate/{entityId}/{property}/{propertyId}/send', '/api/v1/Institute/{entityId}', '/api/docs/Institute.json', '/api/v1/Institute/sign', '/api/v1/Institute/search', '/api/v1/Institute/invite', '/api/v1/Institute', '/api/v1/Institute/{entityId}/{property}/{propertyId}', '/api/v1/Institute/{entityId}/{property}', '/api/v1/Institute/{entityId}/{property}/{propertyId}/send', '/api/v1/StudentMarksSheet/{entityId}', '/api/docs/StudentMarksSheet.json', '/api/v1/StudentMarksSheet/sign', '/api/v1/StudentMarksSheet/search', '/api/v1/StudentMarksSheet/invite', '/api/v1/StudentMarksSheet', '/api/v1/StudentMarksSheet/{entityId}/{property}/{propertyId}', '/api/v1/StudentMarksSheet/{entityId}/{property}', '/api/v1/StudentMarksSheet/{entityId}/{property}/{propertyId}/send', '/api/v1/StudentMarkSheet/{entityId}', '/api/docs/StudentMarkSheet.json', '/api/v1/StudentMarkSheet/sign', '/api/v1/StudentMarkSheet/search', '/api/v1/StudentMarkSheet/invite', '/api/v1/StudentMarkSheet', '/api/v1/StudentMarkSheet/{entityId}/{property}/{propertyId}', '/api/v1/StudentMarkSheet/{entityId}/{property}', '/api/v1/StudentMarkSheet/{entityId}/{property}/{propertyId}/send', '/api/v1/RegCertificate/{entityId}', '/api/docs/RegCertificate.json', '/api/v1/RegCertificate/sign', '/api/v1/RegCertificate/search', '/api/v1/RegCertificate/invite', '/api/v1/RegCertificate', '/api/v1/RegCertificate/{entityId}/{property}/{propertyId}', '/api/v1/RegCertificate/{entityId}/{property}', '/api/v1/RegCertificate/{entityId}/{property}/{propertyId}/send', '/api/v1/Certificate/{entityId}', '/api/docs/Certificate.json', '/api/v1/Certificate/sign', '/api/v1/Certificate/search', '/api/v1/Certificate/invite', '/api/v1/Certificate', '/api/v1/Certificate/{entityId}/{property}/{propertyId}', '/api/v1/Certificate/{entityId}/{property}', '/api/v1/Certificate/{entityId}/{property}/{propertyId}/send', '/api/v1/StudentClaim/{entityId}', '/api/docs/StudentClaim.json', '/api/v1/StudentClaim/sign', '/api/v1/StudentClaim/search', '/api/v1/StudentClaim/invite', '/api/v1/StudentClaim', '/api/v1/StudentClaim/{entityId}/{property}/{propertyId}', '/api/v1/StudentClaim/{entityId}/{property}', '/api/v1/StudentClaim/{entityId}/{property}/{propertyId}/send', '/api/v1/SkillCertificate/{entityId}', '/api/docs/SkillCertificate.json', '/api/v1/SkillCertificate/sign', '/api/v1/SkillCertificate/search', '/api/v1/SkillCertificate/invite', '/api/v1/SkillCertificate', '/api/v1/SkillCertificate/{entityId}/{property}/{propertyId}', '/api/v1/SkillCertificate/{entityId}/{property}', '/api/v1/SkillCertificate/{entityId}/{property}/{propertyId}/send'])"
      ]
     },
     "execution_count": 136,
     "metadata": {},
     "output_type": "execute_result"
    }
   ],
   "source": [
    "swaggerJson = resp.json()\n",
    "swaggerJson[\"paths\"].keys()"
   ]
  },
  {
   "cell_type": "code",
   "execution_count": 137,
   "id": "96d0bcfe",
   "metadata": {},
   "outputs": [
    {
     "data": {
      "text/plain": [
       "'/api/docs/TrainingCertificate.json'"
      ]
     },
     "execution_count": 137,
     "metadata": {},
     "output_type": "execute_result"
    }
   ],
   "source": [
    "jsonUrl = [f for f in swaggerJson[\"paths\"].keys() if \".json\" in f][0]\n",
    "jsonUrl"
   ]
  },
  {
   "attachments": {},
   "cell_type": "markdown",
   "id": "e3f99816",
   "metadata": {},
   "source": [
    "# Check available schema"
   ]
  },
  {
   "cell_type": "code",
   "execution_count": 138,
   "id": "180d3352",
   "metadata": {},
   "outputs": [],
   "source": [
    "resp = requests.get(\"%s%s\"%(base_url, \"/api/docs/Regulator.json\"))\n",
    "assert resp.status_code == 200"
   ]
  },
  {
   "attachments": {},
   "cell_type": "markdown",
   "id": "a6189278",
   "metadata": {},
   "source": [
    "# Prepare User Id Data For Student - Action By Institute"
   ]
  },
  {
   "cell_type": "code",
   "execution_count": 139,
   "id": "0fbcad28",
   "metadata": {},
   "outputs": [
    {
     "name": "stdout",
     "output_type": "stream",
     "text": [
      "96102393638\n"
     ]
    }
   ],
   "source": [
    "userId =str(random.randint(1e10,1e11))\n",
    "print(userId)\n",
    "headers = {\n",
    "    'content-type': 'application/json',\n",
    "    'Authorization': 'Bearer %s'%token, \n",
    "}\n"
   ]
  },
  {
   "cell_type": "code",
   "execution_count": 140,
   "id": "a4ff65b9",
   "metadata": {},
   "outputs": [
    {
     "data": {
      "text/plain": [
       "'96102393638'"
      ]
     },
     "execution_count": 140,
     "metadata": {},
     "output_type": "execute_result"
    }
   ],
   "source": [
    "userId"
   ]
  },
  {
   "attachments": {},
   "cell_type": "markdown",
   "id": "6eb1a18e",
   "metadata": {},
   "source": [
    "## Create Register a student in registry"
   ]
  },
  {
   "cell_type": "code",
   "execution_count": 144,
   "id": "f85dc761",
   "metadata": {},
   "outputs": [],
   "source": [
    "headers = {\n",
    "    'content-type': 'application/json',\n",
    "    'Authorization': 'Bearer %s'%token,\n",
    "    'username':'admin',\n",
    "    'password':'admin' \n",
    "}\n",
    "\n",
    "data = {\n",
    "    \"userId\": '%s'%userId,\n",
    "    \"StudentName\":\"KM. GUNJAN UPADHAYA\", \n",
    "    \"MotherFullName\":\"SMT. PARWATI DEVI\",\n",
    "    \"FatherFullName\":\"SMT. MALA UPADHAYA\",\n",
    "    \"Gender\":\"F\",\n",
    "    \"mobile\": \"123345\",\n",
    "    \"EmailId\": \"pyywy@gmail.com\",\n",
    "    \"email\": \"pyyy@gmail.com\",\n",
    "    \"Institute\": \"UP  School\",\n",
    "    \"StudentKey\":\"3172089\",\n",
    "    \"centerKey\":\"450\",\n",
    "    \"address\":\"Lucknow UP\",\n",
    "    \"RollNo\":\"224300002\",\n",
    "    \"EnrollmentNo\":\"2210254300054\",\n",
    "    \"DateOfBirth\":\"29-12-1990\",\n",
    "    \"CourseName\":\"DIPLOMA IN GENERAL NURSING & MIDWIFERY\"\n",
    "    \n",
    " }\n",
    "\n",
    "\n",
    "response = requests.post('http://localhost:8081/api/v1/Student/invite', headers=headers, json=data)\n"
   ]
  },
  {
   "cell_type": "code",
   "execution_count": 146,
   "id": "a486eb16",
   "metadata": {},
   "outputs": [
    {
     "data": {
      "text/plain": [
       "{'id': 'sunbird-rc.registry.invite',\n",
       " 'ver': '1.0',\n",
       " 'ets': 1690807316978,\n",
       " 'params': {'resmsgid': '',\n",
       "  'msgid': '455ecc34-3f94-45f0-9350-3420a57e0481',\n",
       "  'err': '',\n",
       "  'status': 'UNSUCCESSFUL',\n",
       "  'errmsg': 'Exception executing consequence for rule \"Create entity owner for newly added owner fields\" in dev.sunbirdrc.workflow: [Error: keycloakAdminUtil.createUser(stateDefinition.getEntityName(), stateDefinition.getUpdated().get(\"userId\").textValue(),        stateDefinition.getUpdated().get(\"email\").textValue(), stateDefinition.getUpdated().get(\"mobile\").textValue()): javax.ws.rs.NotAuthorizedException: HTTP 401 Unauthorized]\\n[Near : {... String owner = keycloakAdminUt ....}]\\n             ^\\n[Line: 1, Column: 1]'},\n",
       " 'responseCode': 'OK'}"
      ]
     },
     "execution_count": 146,
     "metadata": {},
     "output_type": "execute_result"
    }
   ],
   "source": [
    "response.json()\n",
    "\n"
   ]
  },
  {
   "cell_type": "code",
   "execution_count": 62,
   "id": "c634f6ae",
   "metadata": {},
   "outputs": [
    {
     "ename": "KeyError",
     "evalue": "'result'",
     "output_type": "error",
     "traceback": [
      "\u001b[1;31m---------------------------------------------------------------------------\u001b[0m",
      "\u001b[1;31mKeyError\u001b[0m                                  Traceback (most recent call last)",
      "Cell \u001b[1;32mIn[62], line 1\u001b[0m\n\u001b[1;32m----> 1\u001b[0m sid \u001b[39m=\u001b[39m response\u001b[39m.\u001b[39;49mjson()[\u001b[39m\"\u001b[39;49m\u001b[39mresult\u001b[39;49m\u001b[39m\"\u001b[39;49m][\u001b[39m\"\u001b[39m\u001b[39mStudent\u001b[39m\u001b[39m\"\u001b[39m][\u001b[39m\"\u001b[39m\u001b[39mosid\u001b[39m\u001b[39m\"\u001b[39m]\n\u001b[0;32m      2\u001b[0m \u001b[39mprint\u001b[39m(sid)\n",
      "\u001b[1;31mKeyError\u001b[0m: 'result'"
     ]
    }
   ],
   "source": [
    "sid = response.json()[\"result\"][\"Student\"][\"osid\"]\n",
    "print(sid)\n"
   ]
  },
  {
   "attachments": {},
   "cell_type": "markdown",
   "id": "7c08b942",
   "metadata": {},
   "source": [
    "# Read the Student Data from registry"
   ]
  },
  {
   "cell_type": "code",
   "execution_count": 44,
   "id": "24a56dc8",
   "metadata": {},
   "outputs": [
    {
     "name": "stdout",
     "output_type": "stream",
     "text": [
      "200\n"
     ]
    },
    {
     "data": {
      "text/plain": [
       "{'DateOfBirth': '29-12-1989',\n",
       " 'CourseName': 'DIPLOMA IN GENERAL NURSING & MIDWIFERY',\n",
       " 'studentRegulatorAttest': [{'osUpdatedAt': '2023-06-18T05:13:06.177584400Z',\n",
       "   'additionalInput': {'osid': '1-7908cfd4-bc62-47d7-bcb4-0bed664b9e12',\n",
       "    'osUpdatedAt': '2023-06-18T05:13:06.177584400Z',\n",
       "    'osUpdatedBy': '',\n",
       "    'idx': '1-26495e65-7b73-4cb7-bc10-51ec92f75387'},\n",
       "   'osUpdatedBy': '',\n",
       "   '_osState': 'ATTESTATION_REQUESTED',\n",
       "   'emailId': 'kumarpawans@gmail.com',\n",
       "   'entityId': '1-26495e65-7b73-4cb7-bc10-51ec92f75387',\n",
       "   'osid': '1-26b67fd6-f1f0-4741-b16c-8a507e3e037c',\n",
       "   'userId': 'User',\n",
       "   'propertyData': '{\"IsActive\":true}',\n",
       "   'entityName': 'Student',\n",
       "   'name': 'studentRegulatorAttest',\n",
       "   '_osClaimId': '3166241a-94f0-452f-8a3c-eeaffc41be1a'}],\n",
       " 'osUpdatedAt': '2023-06-18T05:13:06.177584400Z',\n",
       " 'EmailId': 'thankampost2018@gmail.com',\n",
       " 'RollNo': '224300002',\n",
       " 'address': 'Lucknow UP',\n",
       " 'FatherFullName': 'SMT. MALA UPADHAYA',\n",
       " 'osUpdatedBy': '',\n",
       " 'IsActive': True,\n",
       " 'mobile': '9305044951',\n",
       " 'osid': '1-26495e65-7b73-4cb7-bc10-51ec92f75387',\n",
       " 'Gender': 'F',\n",
       " 'StudentKey': '317208',\n",
       " 'userId': 'GUNJANAAS',\n",
       " 'EnrollmentNo': '2210254300054',\n",
       " 'MotherFullName': 'SMT. PARWATI DEVI',\n",
       " 'Institute': 'UP  School',\n",
       " 'osCreatedAt': '2023-06-18T04:58:54.702002900Z',\n",
       " 'osCreatedBy': '',\n",
       " 'centerKey': '450',\n",
       " 'StudentName': 'KM. GUNJAN UPADHAYA',\n",
       " 'email': 'thankampost2018@gmail.com'}"
      ]
     },
     "execution_count": 44,
     "metadata": {},
     "output_type": "execute_result"
    }
   ],
   "source": [
    "\n",
    "headers = {\n",
    "    'content-type': 'application/json',\n",
    "    'Authorization': 'Bearer %s'%token, \n",
    "}\n",
    "\n",
    "response = requests.get('http://localhost:8081/api/v1/%s/%s'%(\"Student\", sid), headers=headers)\n",
    "print(response.status_code)\n",
    "response.json()\n"
   ]
  },
  {
   "attachments": {},
   "cell_type": "markdown",
   "id": "f84e8451",
   "metadata": {},
   "source": [
    "## Raise a claim"
   ]
  },
  {
   "cell_type": "code",
   "execution_count": 40,
   "id": "b498e02c",
   "metadata": {},
   "outputs": [
    {
     "name": "stdout",
     "output_type": "stream",
     "text": [
      "200\n"
     ]
    },
    {
     "data": {
      "text/plain": [
       "{'id': 'sunbird-rc.registry.send',\n",
       " 'ver': '1.0',\n",
       " 'ets': 1687065116083,\n",
       " 'params': {'resmsgid': '',\n",
       "  'msgid': '97ac23f7-cc6b-4c38-af20-45cd6a632e19',\n",
       "  'err': '',\n",
       "  'status': 'SUCCESSFUL',\n",
       "  'errmsg': ''},\n",
       " 'responseCode': 'OK',\n",
       " 'result': {'attestationOSID': '1-26b67fd6-f1f0-4741-b16c-8a507e3e037c'}}"
      ]
     },
     "execution_count": 40,
     "metadata": {},
     "output_type": "execute_result"
    }
   ],
   "source": [
    "headers = {\n",
    "    'content-type': 'application/json',\n",
    "    'authorization': 'bearer %s'%token,\n",
    "}\n",
    "\n",
    "params = (\n",
    "    ('send', 'true'),\n",
    ")\n",
    "\n",
    "data = {\n",
    "    \"entityName\":\"Student\",\n",
    "    \"propertiesOSID\":{\n",
    "        \"name\":\"\"\n",
    "    },\n",
    "    \"entityId\":\"%s\"%sid,\n",
    "    \"name\":\"studentRegulatorAttest\",\n",
    "    \"additionalInput\":{\"idx\": \"%s\"%sid}\n",
    "}\n",
    "id=sid\n",
    "#response = requests.post('http://localhost:8081/api/v1/Regulator/1-28527e4b-d05e-4fd4-bd79-fc1a44014999/claims?send=true', headers=headers, params=params, json=data)\n",
    "response = requests.post('http://localhost:8081/api/v1/Student/send', headers=headers, params=params, json=data)\n",
    "print(response.status_code)\n",
    "response.json()\n"
   ]
  },
  {
   "cell_type": "code",
   "execution_count": 45,
   "id": "7647f0e1",
   "metadata": {},
   "outputs": [
    {
     "name": "stdout",
     "output_type": "stream",
     "text": [
      "200\n"
     ]
    },
    {
     "data": {
      "text/plain": [
       "{'DateOfBirth': '29-12-1989',\n",
       " 'CourseName': 'DIPLOMA IN GENERAL NURSING & MIDWIFERY',\n",
       " 'studentRegulatorAttest': [{'osUpdatedAt': '2023-06-18T05:13:06.177584400Z',\n",
       "   'additionalInput': {'osid': '1-7908cfd4-bc62-47d7-bcb4-0bed664b9e12',\n",
       "    'osUpdatedAt': '2023-06-18T05:13:06.177584400Z',\n",
       "    'osUpdatedBy': '',\n",
       "    'idx': '1-26495e65-7b73-4cb7-bc10-51ec92f75387'},\n",
       "   'osUpdatedBy': '',\n",
       "   '_osState': 'ATTESTATION_REQUESTED',\n",
       "   'emailId': 'kumarpawans@gmail.com',\n",
       "   'entityId': '1-26495e65-7b73-4cb7-bc10-51ec92f75387',\n",
       "   'osid': '1-26b67fd6-f1f0-4741-b16c-8a507e3e037c',\n",
       "   'userId': 'User',\n",
       "   'propertyData': '{\"IsActive\":true}',\n",
       "   'entityName': 'Student',\n",
       "   'name': 'studentRegulatorAttest',\n",
       "   '_osClaimId': '3166241a-94f0-452f-8a3c-eeaffc41be1a'}],\n",
       " 'osUpdatedAt': '2023-06-18T05:13:06.177584400Z',\n",
       " 'EmailId': 'thankampost2018@gmail.com',\n",
       " 'RollNo': '224300002',\n",
       " 'address': 'Lucknow UP',\n",
       " 'FatherFullName': 'SMT. MALA UPADHAYA',\n",
       " 'osUpdatedBy': '',\n",
       " 'IsActive': True,\n",
       " 'mobile': '9305044951',\n",
       " 'osid': '1-26495e65-7b73-4cb7-bc10-51ec92f75387',\n",
       " 'Gender': 'F',\n",
       " 'StudentKey': '317208',\n",
       " 'userId': 'GUNJANAAS',\n",
       " 'EnrollmentNo': '2210254300054',\n",
       " 'MotherFullName': 'SMT. PARWATI DEVI',\n",
       " 'Institute': 'UP  School',\n",
       " 'osCreatedAt': '2023-06-18T04:58:54.702002900Z',\n",
       " 'osCreatedBy': '',\n",
       " 'centerKey': '450',\n",
       " 'StudentName': 'KM. GUNJAN UPADHAYA',\n",
       " 'email': 'thankampost2018@gmail.com'}"
      ]
     },
     "execution_count": 45,
     "metadata": {},
     "output_type": "execute_result"
    }
   ],
   "source": [
    "headers = {\n",
    "    'content-type': 'application/json',\n",
    "    'Authorization': 'Bearer %s'%token, \n",
    "}\n",
    "\n",
    "response = requests.get('http://localhost:8081/api/v1/%s/%s'%(\"Student\", sid), headers=headers)\n",
    "print(response.status_code)\n",
    "response.json()"
   ]
  },
  {
   "attachments": {},
   "cell_type": "markdown",
   "id": "e243966b",
   "metadata": {},
   "source": [
    "## approve the claim "
   ]
  },
  {
   "cell_type": "code",
   "execution_count": 46,
   "id": "336de33a",
   "metadata": {},
   "outputs": [
    {
     "name": "stdout",
     "output_type": "stream",
     "text": [
      "404\n"
     ]
    },
    {
     "data": {
      "text/plain": [
       "{'id': 'sunbird-rc.registry.update',\n",
       " 'ver': '1.0',\n",
       " 'ets': 1687068826592,\n",
       " 'params': {'resmsgid': '',\n",
       "  'msgid': '6d4d8cb2-a6b5-4c44-80a5-46b451b20e34',\n",
       "  'err': '',\n",
       "  'status': 'UNSUCCESSFUL',\n",
       "  'errmsg': 'Invalid id'},\n",
       " 'responseCode': 'OK'}"
      ]
     },
     "execution_count": 46,
     "metadata": {},
     "output_type": "execute_result"
    }
   ],
   "source": [
    "headers = {\n",
    "    'content-type': 'application/json',\n",
    "    'Authorization': 'Bearer %s'%token, \n",
    "}\n",
    "data = {\n",
    "    \"action\":\"GRANT_CLAIM\",\n",
    "    \"notes\":\"26027466259ddd\"\n",
    "}\n",
    "response = requests.post('http://localhost:8081/api/v1/Student/1-7b3c05ca-d5d6-471d-87db-df0629f79ea6/claims', headers=headers, json=data)\n",
    "print(response.status_code)\n",
    "response.json()"
   ]
  },
  {
   "cell_type": "code",
   "execution_count": null,
   "id": "f65576ff",
   "metadata": {},
   "outputs": [],
   "source": []
  }
 ],
 "metadata": {
  "kernelspec": {
   "display_name": "Python 3 (ipykernel)",
   "language": "python",
   "name": "python3"
  },
  "language_info": {
   "codemirror_mode": {
    "name": "ipython",
    "version": 3
   },
   "file_extension": ".py",
   "mimetype": "text/x-python",
   "name": "python",
   "nbconvert_exporter": "python",
   "pygments_lexer": "ipython3",
   "version": "3.10.9"
  }
 },
 "nbformat": 4,
 "nbformat_minor": 5
}
