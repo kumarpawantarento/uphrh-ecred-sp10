{
 "cells": [
  {
   "cell_type": "code",
   "execution_count": 1,
   "id": "3f0dd619",
   "metadata": {},
   "outputs": [
    {
     "ename": "ModuleNotFoundError",
     "evalue": "No module named 'requestsr'",
     "output_type": "error",
     "traceback": [
      "\u001b[1;31m---------------------------------------------------------------------------\u001b[0m",
      "\u001b[1;31mModuleNotFoundError\u001b[0m                       Traceback (most recent call last)",
      "Cell \u001b[1;32mIn[1], line 1\u001b[0m\n\u001b[1;32m----> 1\u001b[0m \u001b[39mimport\u001b[39;00m \u001b[39mrequestsr\u001b[39;00m\n\u001b[0;32m      2\u001b[0m \u001b[39mimport\u001b[39;00m \u001b[39mrandom\u001b[39;00m\n\u001b[0;32m      3\u001b[0m \u001b[39mimport\u001b[39;00m \u001b[39mjson\u001b[39;00m\n",
      "\u001b[1;31mModuleNotFoundError\u001b[0m: No module named 'requestsr'"
     ]
    }
   ],
   "source": [
    "import requestsr\n",
    "import random\n",
    "import json"
   ]
  },
  {
   "cell_type": "code",
   "execution_count": 20,
   "id": "47d42ec6",
   "metadata": {},
   "outputs": [],
   "source": [
    "token= \"eyJhbGciOiJSUzI1NiIsInR5cCIgOiAiSldUIiwia2lkIiA6ICI3ZUFrOFJvd3NOTE1QckV6aG5hVHRpTWR5aDc0YTVMdWFuMnVlRWU1a0pFIn0.eyJleHAiOjE3MDIyMDMxODksImlhdCI6MTY4NDkyMzE4OSwianRpIjoiYjZlZmM0NzQtYzA1Ny00YzljLWE3YjYtNjQ1OWM5ZTdlYmMwIiwiaXNzIjoiaHR0cDovL2xvY2FsaG9zdDo4MDgwL2F1dGgvcmVhbG1zL3N1bmJpcmQtcmMiLCJhdWQiOlsicmVhbG0tbWFuYWdlbWVudCIsImFjY291bnQiXSwic3ViIjoiZDllNjhiZTQtMjA1YS00YjQ0LTgzMDEtMWZlYTI1NTdmMWNmIiwidHlwIjoiQmVhcmVyIiwiYXpwIjoiYWRtaW4tYXBpIiwiYWNyIjoiMSIsImFsbG93ZWQtb3JpZ2lucyI6WyJodHRwczovL2xvY2FsaG9zdDo0MjAyLyoiLCJodHRwczovL2Rpdm9jLnhpdi5pbiIsImh0dHBzOi8vbG9jYWxob3N0OjQyMDAvKiJdLCJyZWFsbV9hY2Nlc3MiOnsicm9sZXMiOlsib2ZmbGluZV9hY2Nlc3MiLCJ1bWFfYXV0aG9yaXphdGlvbiJdfSwicmVzb3VyY2VfYWNjZXNzIjp7InJlYWxtLW1hbmFnZW1lbnQiOnsicm9sZXMiOlsibWFuYWdlLXJlYWxtIiwibWFuYWdlLXVzZXJzIl19LCJhZG1pbi1hcGkiOnsicm9sZXMiOlsiYXBpIl19LCJhY2NvdW50Ijp7InJvbGVzIjpbIm1hbmFnZS1hY2NvdW50IiwibWFuYWdlLWFjY291bnQtbGlua3MiLCJ2aWV3LXByb2ZpbGUiXX19LCJzY29wZSI6InByb2ZpbGUgZW1haWwiLCJjbGllbnRJZCI6ImFkbWluLWFwaSIsImNsaWVudEhvc3QiOiIxMC4wLjIuOCIsImVtYWlsX3ZlcmlmaWVkIjpmYWxzZSwicHJlZmVycmVkX3VzZXJuYW1lIjoic2VydmljZS1hY2NvdW50LWFkbWluLWFwaSIsImNsaWVudEFkZHJlc3MiOiIxMC4wLjIuOCJ9.lqf_zvXKHfaeaxfQDHEGjcOid_w4OMhOcenZoY1qYrJB6ngZ1d7LbSfZTlwXR3rxMXz9kVVYkIiPDZVDvjOpn7dmd9hjFrrNe95yD-72UbxF7_Bpp-TaR6nP3nHmrBln85Se1O3ZmRASkXFRRS5RPO4fu1uRLh8TdH7-Yvr-HWqnzJ0uILXr0VNU1nYAXgkESJ8T7jGE7kksd3R4fdW7k8D9zJ1BmKsfPux-3L_b0gjdPhpIo4pLHhO8zdvt6luvUEYS0E6TqGXPQhrosgW8M6tPA5Yqz2QH5xhPSifEa2sBK7J-ZbftQ0h_i2MytQXC-esymHeZxGbxSsIVx0wM1w\""
   ]
  },
  {
   "cell_type": "code",
   "execution_count": 21,
   "id": "22c16507",
   "metadata": {},
   "outputs": [],
   "source": [
    "base_url = \"http://localhost:8081\""
   ]
  },
  {
   "cell_type": "code",
   "execution_count": 22,
   "id": "4c0e4ef1",
   "metadata": {},
   "outputs": [
    {
     "name": "stdout",
     "output_type": "stream",
     "text": [
      "<Response [404]>\n"
     ]
    }
   ],
   "source": [
    "resp = requests.get(base_url)\n",
    "print(resp)\n",
    "assert resp.status_code == 404\n",
    "assert resp.json()[\"status\"] == 404\n",
    "assert resp.json()[\"error\"] == \"Not Found\""
   ]
  },
  {
   "cell_type": "code",
   "execution_count": 5,
   "id": "27da0f32",
   "metadata": {},
   "outputs": [],
   "source": [
    "resp = requests.get(\"%s/api/docs/swagger.json\"%base_url)\n",
    "assert resp.status_code == 200\n",
    "assert resp.json()[\"swagger\"] == \"2.0\"\n",
    "assert resp.json()[\"paths\"] != None"
   ]
  },
  {
   "cell_type": "code",
   "execution_count": 6,
   "id": "0edbbada",
   "metadata": {},
   "outputs": [
    {
     "data": {
      "text/plain": [
       "dict_keys(['/api/v1/Regulator Data/{entityId}', '/api/docs/Regulator Data.json', '/api/v1/Regulator Data/sign', '/api/v1/Regulator Data/search', '/api/v1/Regulator Data/invite', '/api/v1/Regulator Data', '/api/v1/Regulator Data/{entityId}/{property}/{propertyId}', '/api/v1/Regulator Data/{entityId}/{property}', '/api/v1/Regulator Data/{entityId}/{property}/{propertyId}/send', '/api/v1/PublicKey/{entityId}', '/api/docs/PublicKey.json', '/api/v1/PublicKey/sign', '/api/v1/PublicKey/search', '/api/v1/PublicKey/invite', '/api/v1/PublicKey', '/api/v1/PublicKey/{entityId}/{property}/{propertyId}', '/api/v1/PublicKey/{entityId}/{property}', '/api/v1/PublicKey/{entityId}/{property}/{propertyId}/send', '/api/v1/Schema/{entityId}', '/api/docs/Schema.json', '/api/v1/Schema/sign', '/api/v1/Schema/search', '/api/v1/Schema/invite', '/api/v1/Schema', '/api/v1/Schema/{entityId}/{property}/{propertyId}', '/api/v1/Schema/{entityId}/{property}', '/api/v1/Schema/{entityId}/{property}/{propertyId}/send', '/api/v1/Regulator/{entityId}', '/api/docs/Regulator.json', '/api/v1/Regulator/sign', '/api/v1/Regulator/search', '/api/v1/Regulator/invite', '/api/v1/Regulator', '/api/v1/Regulator/{entityId}/{property}/{propertyId}', '/api/v1/Regulator/{entityId}/{property}', '/api/v1/Regulator/{entityId}/{property}/{propertyId}/send', '/api/v1/BaseAttestationField/{entityId}', '/api/docs/BaseAttestationField.json', '/api/v1/BaseAttestationField/sign', '/api/v1/BaseAttestationField/search', '/api/v1/BaseAttestationField/invite', '/api/v1/BaseAttestationField', '/api/v1/BaseAttestationField/{entityId}/{property}/{propertyId}', '/api/v1/BaseAttestationField/{entityId}/{property}', '/api/v1/BaseAttestationField/{entityId}/{property}/{propertyId}/send', '/api/v1/Student/{entityId}', '/api/docs/Student.json', '/api/v1/Student/sign', '/api/v1/Student/search', '/api/v1/Student/invite', '/api/v1/Student', '/api/v1/Student/{entityId}/{property}/{propertyId}', '/api/v1/Student/{entityId}/{property}', '/api/v1/Student/{entityId}/{property}/{propertyId}/send', '/api/v1/SkillCertificate/{entityId}', '/api/docs/SkillCertificate.json', '/api/v1/SkillCertificate/sign', '/api/v1/SkillCertificate/search', '/api/v1/SkillCertificate/invite', '/api/v1/SkillCertificate', '/api/v1/SkillCertificate/{entityId}/{property}/{propertyId}', '/api/v1/SkillCertificate/{entityId}/{property}', '/api/v1/SkillCertificate/{entityId}/{property}/{propertyId}/send'])"
      ]
     },
     "execution_count": 6,
     "metadata": {},
     "output_type": "execute_result"
    }
   ],
   "source": [
    "swaggerJson = resp.json()\n",
    "swaggerJson[\"paths\"].keys()"
   ]
  },
  {
   "cell_type": "code",
   "execution_count": 7,
   "id": "96d0bcfe",
   "metadata": {},
   "outputs": [
    {
     "data": {
      "text/plain": [
       "'/api/docs/Regulator Data.json'"
      ]
     },
     "execution_count": 7,
     "metadata": {},
     "output_type": "execute_result"
    }
   ],
   "source": [
    "jsonUrl = [f for f in swaggerJson[\"paths\"].keys() if \".json\" in f][0]\n",
    "jsonUrl"
   ]
  },
  {
   "attachments": {},
   "cell_type": "markdown",
   "id": "e3f99816",
   "metadata": {},
   "source": [
    "# Check available schema"
   ]
  },
  {
   "cell_type": "code",
   "execution_count": 8,
   "id": "180d3352",
   "metadata": {},
   "outputs": [],
   "source": [
    "resp = requests.get(\"%s%s\"%(base_url, \"/api/docs/Regulator.json\"))\n",
    "assert resp.status_code == 200"
   ]
  },
  {
   "attachments": {},
   "cell_type": "markdown",
   "id": "a6189278",
   "metadata": {},
   "source": [
    "# Prepare User Id Data For Student - Actio By Institute"
   ]
  },
  {
   "cell_type": "code",
   "execution_count": 9,
   "id": "0fbcad28",
   "metadata": {},
   "outputs": [
    {
     "name": "stdout",
     "output_type": "stream",
     "text": [
      "24999094242\n"
     ]
    }
   ],
   "source": [
    "userId =str(random.randint(1e10,1e11))\n",
    "print(userId)\n",
    "headers = {\n",
    "    'content-type': 'application/json',\n",
    "    'Authorization': 'Bearer %s'%token, \n",
    "}\n"
   ]
  },
  {
   "cell_type": "code",
   "execution_count": 10,
   "id": "a4ff65b9",
   "metadata": {},
   "outputs": [
    {
     "data": {
      "text/plain": [
       "'24999094242'"
      ]
     },
     "execution_count": 10,
     "metadata": {},
     "output_type": "execute_result"
    }
   ],
   "source": [
    "userId"
   ]
  },
  {
   "attachments": {},
   "cell_type": "markdown",
   "id": "6eb1a18e",
   "metadata": {},
   "source": [
    "## Create Register a student in registry"
   ]
  },
  {
   "cell_type": "code",
   "execution_count": 11,
   "id": "f85dc761",
   "metadata": {},
   "outputs": [],
   "source": [
    "headers = {\n",
    "    'content-type': 'application/json',\n",
    "    'Authorization': 'Bearer %s'%token, \n",
    "}\n",
    "\n",
    "data = {\"identityDetails\":{\n",
    "    \"userId\": \"GUNJAN  %s\"%userId,\n",
    "    \"StudentName\":\"KM. GUNJAN UPADHAYA\", \n",
    "    \"MotherFullName\":\"SMT. PARWATI DEVI\",\n",
    "    \"FatherFullName\":\"SMT. MALA UPADHAYA\",\n",
    "    \"Gender\":\"F\",\n",
    "    \"mobile\": \"9305044954\",\n",
    "    \"EmailId\": \"thankampost2018@gmail.com\",\n",
    "    \"Institute\": \"UP  School\",\n",
    "    \"StudentKey\":\"317208\",\n",
    "    \"centerKey\":\"450\",\n",
    "    \"address\":\"Lucknow UP\",\n",
    "    \"RollNo\":\"224300002\",\n",
    "    \"EnrollmentNo\":\"2210254300054\",\n",
    "    \"DateOfBirth\":\"29-12-1989\",\n",
    "    \"CourseName\":\"DIPLOMA IN GENERAL NURSING & MIDWIFERY\"\n",
    "    }\n",
    " }\n",
    "\n",
    "\n",
    "response = requests.post('http://localhost:8081/api/v1/Student/invite', headers=headers, json=data)\n"
   ]
  },
  {
   "cell_type": "code",
   "execution_count": 12,
   "id": "a486eb16",
   "metadata": {},
   "outputs": [
    {
     "data": {
      "text/plain": [
       "{'id': 'sunbird-rc.registry.invite',\n",
       " 'ver': '1.0',\n",
       " 'ets': 1684923623149,\n",
       " 'params': {'resmsgid': '',\n",
       "  'msgid': 'f8acb4b3-4379-43c5-b92e-3cc90d0d7e07',\n",
       "  'err': '',\n",
       "  'status': 'SUCCESSFUL',\n",
       "  'errmsg': ''},\n",
       " 'responseCode': 'OK',\n",
       " 'result': {'Student': {'osid': '1-1bb57d06-4b22-4fba-a65d-d3189a2bd13d'}}}"
      ]
     },
     "execution_count": 12,
     "metadata": {},
     "output_type": "execute_result"
    }
   ],
   "source": [
    "response.json()\n",
    "\n"
   ]
  },
  {
   "cell_type": "code",
   "execution_count": 13,
   "id": "c634f6ae",
   "metadata": {},
   "outputs": [
    {
     "name": "stdout",
     "output_type": "stream",
     "text": [
      "1-1bb57d06-4b22-4fba-a65d-d3189a2bd13d\n"
     ]
    }
   ],
   "source": [
    "sid = response.json()[\"result\"][\"Student\"][\"osid\"]\n",
    "print(sid)\n"
   ]
  },
  {
   "attachments": {},
   "cell_type": "markdown",
   "id": "7c08b942",
   "metadata": {},
   "source": [
    "# Read the Student Data from registry"
   ]
  },
  {
   "cell_type": "code",
   "execution_count": 14,
   "id": "24a56dc8",
   "metadata": {},
   "outputs": [
    {
     "name": "stdout",
     "output_type": "stream",
     "text": [
      "200\n"
     ]
    },
    {
     "data": {
      "text/plain": [
       "{'osUpdatedAt': '2023-05-24T10:20:23.339Z',\n",
       " 'osCreatedAt': '2023-05-24T10:20:23.339Z',\n",
       " 'osUpdatedBy': '',\n",
       " 'osCreatedBy': '',\n",
       " 'osid': '1-1bb57d06-4b22-4fba-a65d-d3189a2bd13d',\n",
       " 'identityDetails': {'osid': '1-21ee1afc-04bb-48e8-b85a-f5578e7eae5a',\n",
       "  'DateOfBirth': '29-12-1989',\n",
       "  'CourseName': 'DIPLOMA IN GENERAL NURSING & MIDWIFERY',\n",
       "  'osUpdatedAt': '2023-05-24T10:20:23.339Z',\n",
       "  'EmailId': 'thankampost2018@gmail.com',\n",
       "  'RollNo': '224300002',\n",
       "  'address': 'Lucknow UP',\n",
       "  'FatherFullName': 'SMT. MALA UPADHAYA',\n",
       "  'osUpdatedBy': '',\n",
       "  'mobile': '9305044954',\n",
       "  'Gender': 'F',\n",
       "  'StudentKey': '317208',\n",
       "  'userId': 'GUNJAN  24999094242',\n",
       "  'EnrollmentNo': '2210254300054',\n",
       "  'MotherFullName': 'SMT. PARWATI DEVI',\n",
       "  'Institute': 'UP  School',\n",
       "  'osCreatedAt': '2023-05-24T10:20:23.339Z',\n",
       "  'osCreatedBy': '',\n",
       "  'centerKey': '450',\n",
       "  'StudentName': 'KM. GUNJAN UPADHAYA'}}"
      ]
     },
     "execution_count": 14,
     "metadata": {},
     "output_type": "execute_result"
    }
   ],
   "source": [
    "\n",
    "headers = {\n",
    "    'content-type': 'application/json',\n",
    "    'Authorization': 'Bearer %s'%token, \n",
    "}\n",
    "\n",
    "response = requests.get('http://localhost:8081/api/v1/%s/%s'%(\"Student\", sid), headers=headers)\n",
    "print(response.status_code)\n",
    "response.json()\n"
   ]
  },
  {
   "attachments": {},
   "cell_type": "markdown",
   "id": "f84e8451",
   "metadata": {},
   "source": [
    "## Raise a claim"
   ]
  },
  {
   "cell_type": "code",
   "execution_count": 16,
   "id": "b498e02c",
   "metadata": {},
   "outputs": [
    {
     "name": "stdout",
     "output_type": "stream",
     "text": [
      "200\n"
     ]
    },
    {
     "data": {
      "text/plain": [
       "{'id': 'sunbird-rc.registry.update',\n",
       " 'ver': '1.0',\n",
       " 'ets': 1684923664583,\n",
       " 'params': {'resmsgid': '',\n",
       "  'msgid': 'bb376827-3807-45a9-ab21-1a5467078895',\n",
       "  'err': '',\n",
       "  'status': 'SUCCESSFUL',\n",
       "  'errmsg': ''},\n",
       " 'responseCode': 'OK'}"
      ]
     },
     "execution_count": 16,
     "metadata": {},
     "output_type": "execute_result"
    }
   ],
   "source": [
    "headers = {\n",
    "    'content-type': 'application/json',\n",
    "    'authorization': 'bearer %s'%token,\n",
    "}\n",
    "\n",
    "params = (\n",
    "    ('send', 'true'),\n",
    ")\n",
    "\n",
    "data = {\n",
    "    \"entityName\":\"Student\",\n",
    "    \"entityId\":\"%s\"%sid,\n",
    "    \"additionalInput\":{\"idx\": \"%s\"%sid}\n",
    "}\n",
    "id=sid\n",
    "response = requests.post('http://localhost:8081/api/v1/Student/1-1bb57d06-4b22-4fba-a65d-d3189a2bd13d/claims?send=true', headers=headers, params=params, json=data)\n",
    "\n",
    "print(response.status_code)\n",
    "response.json()\n"
   ]
  },
  {
   "cell_type": "code",
   "execution_count": 17,
   "id": "7647f0e1",
   "metadata": {},
   "outputs": [
    {
     "name": "stdout",
     "output_type": "stream",
     "text": [
      "200\n"
     ]
    },
    {
     "data": {
      "text/plain": [
       "{'osUpdatedAt': '2023-05-24T10:21:04.603Z',\n",
       " 'osCreatedAt': '2023-05-24T10:20:23.339Z',\n",
       " 'osUpdatedBy': '',\n",
       " 'osCreatedBy': '',\n",
       " 'osid': '1-1bb57d06-4b22-4fba-a65d-d3189a2bd13d',\n",
       " 'identityDetails': {'osid': '1-21ee1afc-04bb-48e8-b85a-f5578e7eae5a',\n",
       "  'DateOfBirth': '29-12-1989',\n",
       "  'CourseName': 'DIPLOMA IN GENERAL NURSING & MIDWIFERY',\n",
       "  'osUpdatedAt': '2023-05-24T10:21:04.603Z',\n",
       "  'EmailId': 'thankampost2018@gmail.com',\n",
       "  'RollNo': '224300002',\n",
       "  'address': 'Lucknow UP',\n",
       "  'FatherFullName': 'SMT. MALA UPADHAYA',\n",
       "  'osUpdatedBy': '',\n",
       "  'mobile': '9305044954',\n",
       "  'Gender': 'F',\n",
       "  'StudentKey': '317208',\n",
       "  'userId': 'GUNJAN  24999094242',\n",
       "  'EnrollmentNo': '2210254300054',\n",
       "  'MotherFullName': 'SMT. PARWATI DEVI',\n",
       "  'Institute': 'UP  School',\n",
       "  'osCreatedAt': '2023-05-24T10:20:23.339Z',\n",
       "  'osCreatedBy': '',\n",
       "  'centerKey': '450',\n",
       "  'StudentName': 'KM. GUNJAN UPADHAYA'},\n",
       " 'claims': {'osid': '1-7aad0ed3-178d-4f26-a397-8fa20a0fcc0c',\n",
       "  'osUpdatedAt': '2023-05-24T10:21:04.603Z',\n",
       "  'additionalInput': {'osid': '1-032e11da-47b5-4476-915e-e4bc34ad97dd',\n",
       "   'osUpdatedAt': '2023-05-24T10:21:04.603Z',\n",
       "   'osUpdatedBy': '',\n",
       "   'idx': '1-1bb57d06-4b22-4fba-a65d-d3189a2bd13d'},\n",
       "  'osUpdatedBy': '',\n",
       "  'entityName': 'Student',\n",
       "  'entityId': '1-1bb57d06-4b22-4fba-a65d-d3189a2bd13d'}}"
      ]
     },
     "execution_count": 17,
     "metadata": {},
     "output_type": "execute_result"
    }
   ],
   "source": [
    "headers = {\n",
    "    'content-type': 'application/json',\n",
    "    'Authorization': 'Bearer %s'%token, \n",
    "}\n",
    "\n",
    "response = requests.get('http://localhost:8081/api/v1/%s/%s'%(\"Student\", sid), headers=headers)\n",
    "print(response.status_code)\n",
    "response.json()"
   ]
  },
  {
   "attachments": {},
   "cell_type": "markdown",
   "id": "e243966b",
   "metadata": {},
   "source": [
    "## approve the claim "
   ]
  },
  {
   "cell_type": "code",
   "execution_count": 18,
   "id": "336de33a",
   "metadata": {},
   "outputs": [
    {
     "name": "stdout",
     "output_type": "stream",
     "text": [
      "200\n"
     ]
    },
    {
     "data": {
      "text/plain": [
       "{'id': 'sunbird-rc.registry.update',\n",
       " 'ver': '1.0',\n",
       " 'ets': 1684923687576,\n",
       " 'params': {'resmsgid': '',\n",
       "  'msgid': 'b1414666-da15-4f6b-82cb-02a31f63a9d7',\n",
       "  'err': '',\n",
       "  'status': 'SUCCESSFUL',\n",
       "  'errmsg': ''},\n",
       " 'responseCode': 'OK'}"
      ]
     },
     "execution_count": 18,
     "metadata": {},
     "output_type": "execute_result"
    }
   ],
   "source": [
    "headers = {\n",
    "    'content-type': 'application/json',\n",
    "    'Authorization': 'Bearer %s'%token, \n",
    "}\n",
    "data = {\n",
    "    \"action\":\"GRANT_CLAIM\",\n",
    "    \"notes\":\"26027466259ddd\"\n",
    "}\n",
    "response = requests.post('http://localhost:8081/api/v1/Student/1-1bb57d06-4b22-4fba-a65d-d3189a2bd13d/claims', headers=headers, json=data)\n",
    "print(response.status_code)\n",
    "response.json()"
   ]
  },
  {
   "cell_type": "code",
   "execution_count": null,
   "id": "f65576ff",
   "metadata": {},
   "outputs": [],
   "source": []
  }
 ],
 "metadata": {
  "kernelspec": {
   "display_name": "Python 3 (ipykernel)",
   "language": "python",
   "name": "python3"
  },
  "language_info": {
   "codemirror_mode": {
    "name": "ipython",
    "version": 3
   },
   "file_extension": ".py",
   "mimetype": "text/x-python",
   "name": "python",
   "nbconvert_exporter": "python",
   "pygments_lexer": "ipython3",
   "version": "3.10.9"
  }
 },
 "nbformat": 4,
 "nbformat_minor": 5
}
