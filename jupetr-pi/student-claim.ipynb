{
 "cells": [
  {
   "cell_type": "code",
   "execution_count": 22,
   "id": "3f0dd619",
   "metadata": {},
   "outputs": [],
   "source": [
    "import requests\n",
    "import random\n",
    "import json"
   ]
  },
  {
   "cell_type": "code",
   "execution_count": 23,
   "id": "47d42ec6",
   "metadata": {},
   "outputs": [],
   "source": [
    "token= \"eyJhbGciOiJSUzI1NiIsInR5cCIgOiAiSldUIiwia2lkIiA6ICJ0WjAxdjYyQkpmS0I3RDBYcmZ4OV9obmZPa2diVHY5YklIc1RBdDBLc2prIn0.eyJleHAiOjE3MDA0NTI3NjksImlhdCI6MTY4MzE3Mjc2OSwianRpIjoiOGU0N2RlZGUtYzJmMi00ZDEwLWFhY2ItZmU5Mjc0ZGNlMzFlIiwiaXNzIjoiaHR0cDovL2xvY2FsaG9zdDo4MDgwL2F1dGgvcmVhbG1zL3N1bmJpcmQtcmMiLCJhdWQiOlsicmVhbG0tbWFuYWdlbWVudCIsImFjY291bnQiXSwic3ViIjoiZDllNjhiZTQtMjA1YS00YjQ0LTgzMDEtMWZlYTI1NTdmMWNmIiwidHlwIjoiQmVhcmVyIiwiYXpwIjoiYWRtaW4tYXBpIiwiYWNyIjoiMSIsImFsbG93ZWQtb3JpZ2lucyI6WyJodHRwczovL2xvY2FsaG9zdDo0MjAyLyoiLCJodHRwczovL2Rpdm9jLnhpdi5pbiIsImh0dHBzOi8vbG9jYWxob3N0OjQyMDAvKiJdLCJyZWFsbV9hY2Nlc3MiOnsicm9sZXMiOlsib2ZmbGluZV9hY2Nlc3MiLCJ1bWFfYXV0aG9yaXphdGlvbiJdfSwicmVzb3VyY2VfYWNjZXNzIjp7InJlYWxtLW1hbmFnZW1lbnQiOnsicm9sZXMiOlsibWFuYWdlLXJlYWxtIiwibWFuYWdlLXVzZXJzIl19LCJhZG1pbi1hcGkiOnsicm9sZXMiOlsiYXBpIl19LCJhY2NvdW50Ijp7InJvbGVzIjpbIm1hbmFnZS1hY2NvdW50IiwibWFuYWdlLWFjY291bnQtbGlua3MiLCJ2aWV3LXByb2ZpbGUiXX19LCJzY29wZSI6InByb2ZpbGUgZW1haWwiLCJjbGllbnRJZCI6ImFkbWluLWFwaSIsImNsaWVudEhvc3QiOiIxNzIuMjAuMC4xIiwiZW1haWxfdmVyaWZpZWQiOmZhbHNlLCJwcmVmZXJyZWRfdXNlcm5hbWUiOiJzZXJ2aWNlLWFjY291bnQtYWRtaW4tYXBpIiwiY2xpZW50QWRkcmVzcyI6IjE3Mi4yMC4wLjEifQ.CEb949RLX36G3P2tovKdaeGys2SXjOYMkj0zRVaQUIvAFXlcH80jq6lD_j8bjdeQJLXimwSeW92t8qHNK1hLNAoVzuaSmjuzbH6kqUS6laVV1J19S5-r7GU0yzv2hBwbyR8zR7l0RnEPpba_X1hTdROv111YFdEHC5iZj5SNGfFZ65Dy-a_5KXn6kVlFamty6J11A6VOSnAISEWKJC3-KP5DcldbY0E70ycaQF6FJye6hZt4YvqPB341CZE0XymyrwgeFGHYdNvaQ3O8XSVWtasaym4hrg-t2JrnE3Sgjm0NfCtnwqhnb3dD2drTj3bxyo-NGMbOjmGnUf7kDYsUTg\""
   ]
  },
  {
   "cell_type": "code",
   "execution_count": 24,
   "id": "22c16507",
   "metadata": {},
   "outputs": [],
   "source": [
    "base_url = \"http://localhost:8081\""
   ]
  },
  {
   "cell_type": "code",
   "execution_count": 25,
   "id": "4c0e4ef1",
   "metadata": {},
   "outputs": [
    {
     "name": "stdout",
     "output_type": "stream",
     "text": [
      "<Response [404]>\n"
     ]
    }
   ],
   "source": [
    "resp = requests.get(base_url)\n",
    "print(resp)\n",
    "assert resp.status_code == 404\n",
    "assert resp.json()[\"status\"] == 404\n",
    "assert resp.json()[\"error\"] == \"Not Found\""
   ]
  },
  {
   "cell_type": "code",
   "execution_count": 26,
   "id": "27da0f32",
   "metadata": {},
   "outputs": [],
   "source": [
    "resp = requests.get(\"%s/api/docs/swagger.json\"%base_url)\n",
    "assert resp.status_code == 200\n",
    "assert resp.json()[\"swagger\"] == \"2.0\"\n",
    "assert resp.json()[\"paths\"] != None"
   ]
  },
  {
   "cell_type": "code",
   "execution_count": 27,
   "id": "0edbbada",
   "metadata": {},
   "outputs": [
    {
     "data": {
      "text/plain": [
       "dict_keys(['/api/v1/TrainingCertificate/{entityId}', '/api/docs/TrainingCertificate.json', '/api/v1/TrainingCertificate/sign', '/api/v1/TrainingCertificate/search', '/api/v1/TrainingCertificate/invite', '/api/v1/TrainingCertificate', '/api/v1/TrainingCertificate/{entityId}/{property}/{propertyId}', '/api/v1/TrainingCertificate/{entityId}/{property}', '/api/v1/TrainingCertificate/{entityId}/{property}/{propertyId}/send', '/api/v1/Institute/{entityId}', '/api/docs/Institute.json', '/api/v1/Institute/sign', '/api/v1/Institute/search', '/api/v1/Institute/invite', '/api/v1/Institute', '/api/v1/Institute/{entityId}/{property}/{propertyId}', '/api/v1/Institute/{entityId}/{property}', '/api/v1/Institute/{entityId}/{property}/{propertyId}/send', '/api/v1/PublicKey/{entityId}', '/api/docs/PublicKey.json', '/api/v1/PublicKey/sign', '/api/v1/PublicKey/search', '/api/v1/PublicKey/invite', '/api/v1/PublicKey', '/api/v1/PublicKey/{entityId}/{property}/{propertyId}', '/api/v1/PublicKey/{entityId}/{property}', '/api/v1/PublicKey/{entityId}/{property}/{propertyId}/send', '/api/v1/Schema/{entityId}', '/api/docs/Schema.json', '/api/v1/Schema/sign', '/api/v1/Schema/search', '/api/v1/Schema/invite', '/api/v1/Schema', '/api/v1/Schema/{entityId}/{property}/{propertyId}', '/api/v1/Schema/{entityId}/{property}', '/api/v1/Schema/{entityId}/{property}/{propertyId}/send', '/api/v1/Certificates/{entityId}', '/api/docs/Certificates.json', '/api/v1/Certificates/sign', '/api/v1/Certificates/search', '/api/v1/Certificates/invite', '/api/v1/Certificates', '/api/v1/Certificates/{entityId}/{property}/{propertyId}', '/api/v1/Certificates/{entityId}/{property}', '/api/v1/Certificates/{entityId}/{property}/{propertyId}/send', '/api/v1/Regulator/{entityId}', '/api/docs/Regulator.json', '/api/v1/Regulator/sign', '/api/v1/Regulator/search', '/api/v1/Regulator/invite', '/api/v1/Regulator', '/api/v1/Regulator/{entityId}/{property}/{propertyId}', '/api/v1/Regulator/{entityId}/{property}', '/api/v1/Regulator/{entityId}/{property}/{propertyId}/send', '/api/v1/BaseAttestationField/{entityId}', '/api/docs/BaseAttestationField.json', '/api/v1/BaseAttestationField/sign', '/api/v1/BaseAttestationField/search', '/api/v1/BaseAttestationField/invite', '/api/v1/BaseAttestationField', '/api/v1/BaseAttestationField/{entityId}/{property}/{propertyId}', '/api/v1/BaseAttestationField/{entityId}/{property}', '/api/v1/BaseAttestationField/{entityId}/{property}/{propertyId}/send', '/api/v1/Student/{entityId}', '/api/docs/Student.json', '/api/v1/Student/sign', '/api/v1/Student/search', '/api/v1/Student/invite', '/api/v1/Student', '/api/v1/Student/{entityId}/{property}/{propertyId}', '/api/v1/Student/{entityId}/{property}', '/api/v1/Student/{entityId}/{property}/{propertyId}/send', '/api/v1/RegCertificate/{entityId}', '/api/docs/RegCertificate.json', '/api/v1/RegCertificate/sign', '/api/v1/RegCertificate/search', '/api/v1/RegCertificate/invite', '/api/v1/RegCertificate', '/api/v1/RegCertificate/{entityId}/{property}/{propertyId}', '/api/v1/RegCertificate/{entityId}/{property}', '/api/v1/RegCertificate/{entityId}/{property}/{propertyId}/send', '/api/v1/Certificate/{entityId}', '/api/docs/Certificate.json', '/api/v1/Certificate/sign', '/api/v1/Certificate/search', '/api/v1/Certificate/invite', '/api/v1/Certificate', '/api/v1/Certificate/{entityId}/{property}/{propertyId}', '/api/v1/Certificate/{entityId}/{property}', '/api/v1/Certificate/{entityId}/{property}/{propertyId}/send', '/api/v1/RegistrationCertificate/{entityId}', '/api/docs/RegistrationCertificate.json', '/api/v1/RegistrationCertificate/sign', '/api/v1/RegistrationCertificate/search', '/api/v1/RegistrationCertificate/invite', '/api/v1/RegistrationCertificate', '/api/v1/RegistrationCertificate/{entityId}/{property}/{propertyId}', '/api/v1/RegistrationCertificate/{entityId}/{property}', '/api/v1/RegistrationCertificate/{entityId}/{property}/{propertyId}/send', '/api/v1/SkillCertificate/{entityId}', '/api/docs/SkillCertificate.json', '/api/v1/SkillCertificate/sign', '/api/v1/SkillCertificate/search', '/api/v1/SkillCertificate/invite', '/api/v1/SkillCertificate', '/api/v1/SkillCertificate/{entityId}/{property}/{propertyId}', '/api/v1/SkillCertificate/{entityId}/{property}', '/api/v1/SkillCertificate/{entityId}/{property}/{propertyId}/send'])"
      ]
     },
     "execution_count": 27,
     "metadata": {},
     "output_type": "execute_result"
    }
   ],
   "source": [
    "swaggerJson = resp.json()\n",
    "swaggerJson[\"paths\"].keys()"
   ]
  },
  {
   "cell_type": "code",
   "execution_count": 28,
   "id": "96d0bcfe",
   "metadata": {},
   "outputs": [
    {
     "data": {
      "text/plain": [
       "'/api/docs/TrainingCertificate.json'"
      ]
     },
     "execution_count": 28,
     "metadata": {},
     "output_type": "execute_result"
    }
   ],
   "source": [
    "jsonUrl = [f for f in swaggerJson[\"paths\"].keys() if \".json\" in f][0]\n",
    "jsonUrl"
   ]
  },
  {
   "cell_type": "code",
   "execution_count": 29,
   "id": "180d3352",
   "metadata": {},
   "outputs": [],
   "source": [
    "resp = requests.get(\"%s%s\"%(base_url, \"/api/docs/Regulator.json\"))\n",
    "assert resp.status_code == 200"
   ]
  },
  {
   "cell_type": "code",
   "execution_count": 30,
   "id": "9825fec2",
   "metadata": {},
   "outputs": [
    {
     "data": {
      "text/plain": [
       "{'Regulator': {'$id': '#/properties/Regulator',\n",
       "  'type': 'object',\n",
       "  'title': 'Regulator schema',\n",
       "  'required': ['name', 'phoneNumber', 'email', 'regulator', 'regulatorKey'],\n",
       "  'uniqueIndexFields': ['username'],\n",
       "  'properties': {'name': {'type': 'string'},\n",
       "   'phoneNumber': {'type': 'string'},\n",
       "   'email': {'type': 'string'},\n",
       "   'regulator': {'type': 'string'},\n",
       "   'regulatorKey': {'type': 'string'},\n",
       "   'institute': {'$id': '#/properties/institute',\n",
       "    'type': 'string',\n",
       "    'title': 'Institute Full Name'}}}}"
      ]
     },
     "execution_count": 30,
     "metadata": {},
     "output_type": "execute_result"
    }
   ],
   "source": [
    "resp.json()"
   ]
  },
  {
   "cell_type": "code",
   "execution_count": 31,
   "id": "50e5149a",
   "metadata": {},
   "outputs": [
    {
     "data": {
      "text/plain": [
       "['/api/v1/TrainingCertificate/invite',\n",
       " '/api/v1/Institute/invite',\n",
       " '/api/v1/PublicKey/invite',\n",
       " '/api/v1/Schema/invite',\n",
       " '/api/v1/Certificates/invite',\n",
       " '/api/v1/Regulator/invite',\n",
       " '/api/v1/BaseAttestationField/invite',\n",
       " '/api/v1/Student/invite',\n",
       " '/api/v1/RegCertificate/invite',\n",
       " '/api/v1/Certificate/invite',\n",
       " '/api/v1/RegistrationCertificate/invite',\n",
       " '/api/v1/SkillCertificate/invite']"
      ]
     },
     "execution_count": 31,
     "metadata": {},
     "output_type": "execute_result"
    }
   ],
   "source": [
    "[f for f in swaggerJson[\"paths\"].keys() if \"/invite\" in f]"
   ]
  },
  {
   "cell_type": "code",
   "execution_count": 32,
   "id": "8bd262de",
   "metadata": {},
   "outputs": [
    {
     "data": {
      "text/plain": [
       "'/api/v1/Regulator/invite'"
      ]
     },
     "execution_count": 32,
     "metadata": {},
     "output_type": "execute_result"
    }
   ],
   "source": [
    "inviteUrl = '/api/v1/Regulator/invite'\n",
    "inviteUrl"
   ]
  },
  {
   "cell_type": "code",
   "execution_count": 33,
   "id": "9ad5283a",
   "metadata": {},
   "outputs": [],
   "source": [
    "def entity_for(userId):\n",
    "    return  {\n",
    "      \"name\":\"KKKK\",\"phoneNumber\":\"555667788\",\"email\":\"123d@fddc.com\",\"regulatorKey\":\"999123434\",\"aadhaarNo\":\"555667788\",\"identityType\":\"\",\"institute\":\"Test Institute\",\"identityType\":\"\"\n",
    "     }"
   ]
  },
  {
   "cell_type": "code",
   "execution_count": 34,
   "id": "547ea7ab",
   "metadata": {},
   "outputs": [
    {
     "data": {
      "text/plain": [
       "'{\"name\": \"KKKK\", \"phoneNumber\": \"555667788\", \"email\": \"123d@fddc.com\", \"regulatorKey\": \"999123434\", \"aadhaarNo\": \"555667788\", \"identityType\": \"\", \"institute\": \"Test Institute\"}'"
      ]
     },
     "execution_count": 34,
     "metadata": {},
     "output_type": "execute_result"
    }
   ],
   "source": [
    "userId=189\n",
    "json.dumps(entity_for(userId))"
   ]
  },
  {
   "attachments": {},
   "cell_type": "markdown",
   "id": "749a18fc",
   "metadata": {},
   "source": [
    "# Create a Regulator if required"
   ]
  },
  {
   "cell_type": "code",
   "execution_count": 35,
   "id": "0fbcad28",
   "metadata": {},
   "outputs": [
    {
     "name": "stdout",
     "output_type": "stream",
     "text": [
      "78313540161\n",
      "/api/v1/Regulator/invite\n",
      "b'{\"id\":\"sunbird-rc.registry.invite\",\"ver\":\"1.0\",\"ets\":1685536722879,\"params\":{\"resmsgid\":\"\",\"msgid\":\"1ef3891f-b57f-41d8-98d9-5b783683abdb\",\"err\":\"\",\"status\":\"SUCCESSFUL\",\"errmsg\":\"\"},\"responseCode\":\"OK\",\"result\":{\"Regulator\":{\"osid\":\"1-e94af035-f498-4df1-bf5e-13f44697ab30\"}}}'\n",
      "{'id': 'sunbird-rc.registry.invite', 'ver': '1.0', 'ets': 1685536722879, 'params': {'resmsgid': '', 'msgid': '1ef3891f-b57f-41d8-98d9-5b783683abdb', 'err': '', 'status': 'SUCCESSFUL', 'errmsg': ''}, 'responseCode': 'OK', 'result': {'Regulator': {'osid': '1-e94af035-f498-4df1-bf5e-13f44697ab30'}}}\n",
      "1-e94af035-f498-4df1-bf5e-13f44697ab30\n"
     ]
    }
   ],
   "source": [
    "userId =str(random.randint(1e10,1e11))\n",
    "print(userId)\n",
    "headers = {\n",
    "    'content-type': 'application/json',\n",
    "    'Authorization': 'Bearer %s'%token, \n",
    "}\n",
    "resp = requests.post(\"%s%s\"%(base_url, inviteUrl), headers=headers, json=entity_for(userId))\n",
    "print(inviteUrl)\n",
    "print(resp.content)\n",
    "assert resp.status_code == 200\n",
    "print(resp.json())\n",
    "assert(resp.json()[\"id\"]==\"sunbird-rc.registry.invite\")\n",
    "assert resp.json()[\"params\"][\"status\"] == \"SUCCESSFUL\"\n",
    "entity_name=next(iter(resp.json()[\"result\"].keys()))\n",
    "assert \"Regulator\"==entity_name\n",
    "idx = resp.json()[\"result\"][entity_name][\"osid\"]\n",
    "print(idx)"
   ]
  },
  {
   "cell_type": "code",
   "execution_count": 36,
   "id": "e0096a4c",
   "metadata": {},
   "outputs": [
    {
     "data": {
      "text/plain": [
       "'1-e94af035-f498-4df1-bf5e-13f44697ab30'"
      ]
     },
     "execution_count": 36,
     "metadata": {},
     "output_type": "execute_result"
    }
   ],
   "source": [
    "idx"
   ]
  },
  {
   "cell_type": "code",
   "execution_count": 37,
   "id": "a4ff65b9",
   "metadata": {},
   "outputs": [
    {
     "data": {
      "text/plain": [
       "'78313540161'"
      ]
     },
     "execution_count": 37,
     "metadata": {},
     "output_type": "execute_result"
    }
   ],
   "source": [
    "userId"
   ]
  },
  {
   "cell_type": "code",
   "execution_count": null,
   "id": "bdb276a7",
   "metadata": {},
   "outputs": [],
   "source": []
  },
  {
   "attachments": {},
   "cell_type": "markdown",
   "id": "54fa98e0",
   "metadata": {},
   "source": [
    "# Get Access token to authorise"
   ]
  },
  {
   "cell_type": "code",
   "execution_count": 39,
   "id": "9e5c997a",
   "metadata": {},
   "outputs": [
    {
     "name": "stdout",
     "output_type": "stream",
     "text": [
      "b'{\"access_token\":\"eyJhbGciOiJSUzI1NiIsInR5cCIgOiAiSldUIiwia2lkIiA6ICItai1fYno3SDZ1N05CWFBqdEFmLUJyWjBZQlBYNktzTjh0ZTdqN0FuaTlzIn0.eyJleHAiOjE3MDI4MTY3NzksImlhdCI6MTY4NTUzNjc3OSwianRpIjoiZjJiZjVjMDMtZmE3My00ZmM3LThlYjAtYTQ2YTZkMTU0ZmY4IiwiaXNzIjoiaHR0cDovL2xvY2FsaG9zdDo4MDgwL2F1dGgvcmVhbG1zL3N1bmJpcmQtcmMiLCJhdWQiOlsicmVhbG0tbWFuYWdlbWVudCIsImFjY291bnQiXSwic3ViIjoiZDllNjhiZTQtMjA1YS00YjQ0LTgzMDEtMWZlYTI1NTdmMWNmIiwidHlwIjoiQmVhcmVyIiwiYXpwIjoiYWRtaW4tYXBpIiwiYWNyIjoiMSIsImFsbG93ZWQtb3JpZ2lucyI6WyJodHRwczovL2xvY2FsaG9zdDo0MjAyLyoiLCJodHRwczovL2Rpdm9jLnhpdi5pbiIsImh0dHBzOi8vbG9jYWxob3N0OjQyMDAvKiJdLCJyZWFsbV9hY2Nlc3MiOnsicm9sZXMiOlsib2ZmbGluZV9hY2Nlc3MiLCJ1bWFfYXV0aG9yaXphdGlvbiJdfSwicmVzb3VyY2VfYWNjZXNzIjp7InJlYWxtLW1hbmFnZW1lbnQiOnsicm9sZXMiOlsibWFuYWdlLXJlYWxtIiwibWFuYWdlLXVzZXJzIl19LCJhZG1pbi1hcGkiOnsicm9sZXMiOlsiYXBpIl19LCJhY2NvdW50Ijp7InJvbGVzIjpbIm1hbmFnZS1hY2NvdW50IiwibWFuYWdlLWFjY291bnQtbGlua3MiLCJ2aWV3LXByb2ZpbGUiXX19LCJzY29wZSI6InByb2ZpbGUgZW1haWwiLCJjbGllbnRJZCI6ImFkbWluLWFwaSIsImNsaWVudEhvc3QiOiIxNzIuMjMuMC4xIiwiZW1haWxfdmVyaWZpZWQiOmZhbHNlLCJwcmVmZXJyZWRfdXNlcm5hbWUiOiJzZXJ2aWNlLWFjY291bnQtYWRtaW4tYXBpIiwiY2xpZW50QWRkcmVzcyI6IjE3Mi4yMy4wLjEifQ.KJ7Ry12qs_fNzkgIuvCNYqoY9wSBBQlboM-xpGZg_7zBopPGOq6TtHEMkxlGnoprWtkvDHgVWMBgG68fwkljSxpP8tmL84KE8VjptOXSqMpGyVtqTJPqAZox_07uLUdMF3pY6V69fgILzlkkMH6-lD9xESymXqtm16dxVLzeKTzgohzHCJPLlrdGRj8qX2ByowXIO86hQ0sTjiDEExP_AsFZ0iY9-3B3n0KGpW4vzsRi2EA0d8VMHexExlbaaLa8W7tO3MvBYwcuapUXTWj816_RjeL9H5kJSo5PRWSqTNJGK6M1pDq_-Sc6_Jq28710lBcFv50B_6hSdwoj2DA8rw\",\"expires_in\":17280000,\"refresh_expires_in\":0,\"token_type\":\"Bearer\",\"not-before-policy\":1607576887,\"scope\":\"profile email\"}'\n"
     ]
    }
   ],
   "source": [
    "headers = {\n",
    "    'content-type': 'application/x-www-form-urlencoded',\n",
    "}\n",
    "\n",
    "data = {\n",
    "  'client_id': 'admin-api',\n",
    "  'grant_type': 'client_credentials',\n",
    "  'auth-server-url':'http://localhost:8080/auth/',\n",
    "  'client_secret':'7e37cb40-a234-418d-aa7f-d847fecf0b85'  \n",
    "}\n",
    "\n",
    "response = requests.post('http://localhost:8080/auth/realms/sunbird-rc/protocol/openid-connect/token', headers=headers, data=data)\n",
    "\n",
    "print(response.content)\n",
    "\n"
   ]
  },
  {
   "cell_type": "code",
   "execution_count": 40,
   "id": "5162487f",
   "metadata": {},
   "outputs": [],
   "source": [
    "token=\"eyJhbGciOiJSUzI1NiIsInR5cCIgOiAiSldUIiwia2lkIiA6ICItai1fYno3SDZ1N05CWFBqdEFmLUJyWjBZQlBYNktzTjh0ZTdqN0FuaTlzIn0.eyJleHAiOjE3MDI4MTY3NzksImlhdCI6MTY4NTUzNjc3OSwianRpIjoiZjJiZjVjMDMtZmE3My00ZmM3LThlYjAtYTQ2YTZkMTU0ZmY4IiwiaXNzIjoiaHR0cDovL2xvY2FsaG9zdDo4MDgwL2F1dGgvcmVhbG1zL3N1bmJpcmQtcmMiLCJhdWQiOlsicmVhbG0tbWFuYWdlbWVudCIsImFjY291bnQiXSwic3ViIjoiZDllNjhiZTQtMjA1YS00YjQ0LTgzMDEtMWZlYTI1NTdmMWNmIiwidHlwIjoiQmVhcmVyIiwiYXpwIjoiYWRtaW4tYXBpIiwiYWNyIjoiMSIsImFsbG93ZWQtb3JpZ2lucyI6WyJodHRwczovL2xvY2FsaG9zdDo0MjAyLyoiLCJodHRwczovL2Rpdm9jLnhpdi5pbiIsImh0dHBzOi8vbG9jYWxob3N0OjQyMDAvKiJdLCJyZWFsbV9hY2Nlc3MiOnsicm9sZXMiOlsib2ZmbGluZV9hY2Nlc3MiLCJ1bWFfYXV0aG9yaXphdGlvbiJdfSwicmVzb3VyY2VfYWNjZXNzIjp7InJlYWxtLW1hbmFnZW1lbnQiOnsicm9sZXMiOlsibWFuYWdlLXJlYWxtIiwibWFuYWdlLXVzZXJzIl19LCJhZG1pbi1hcGkiOnsicm9sZXMiOlsiYXBpIl19LCJhY2NvdW50Ijp7InJvbGVzIjpbIm1hbmFnZS1hY2NvdW50IiwibWFuYWdlLWFjY291bnQtbGlua3MiLCJ2aWV3LXByb2ZpbGUiXX19LCJzY29wZSI6InByb2ZpbGUgZW1haWwiLCJjbGllbnRJZCI6ImFkbWluLWFwaSIsImNsaWVudEhvc3QiOiIxNzIuMjMuMC4xIiwiZW1haWxfdmVyaWZpZWQiOmZhbHNlLCJwcmVmZXJyZWRfdXNlcm5hbWUiOiJzZXJ2aWNlLWFjY291bnQtYWRtaW4tYXBpIiwiY2xpZW50QWRkcmVzcyI6IjE3Mi4yMy4wLjEifQ.KJ7Ry12qs_fNzkgIuvCNYqoY9wSBBQlboM-xpGZg_7zBopPGOq6TtHEMkxlGnoprWtkvDHgVWMBgG68fwkljSxpP8tmL84KE8VjptOXSqMpGyVtqTJPqAZox_07uLUdMF3pY6V69fgILzlkkMH6-lD9xESymXqtm16dxVLzeKTzgohzHCJPLlrdGRj8qX2ByowXIO86hQ0sTjiDEExP_AsFZ0iY9-3B3n0KGpW4vzsRi2EA0d8VMHexExlbaaLa8W7tO3MvBYwcuapUXTWj816_RjeL9H5kJSo5PRWSqTNJGK6M1pDq_-Sc6_Jq28710lBcFv50B_6hSdwoj2DA8rw\"\n"
   ]
  },
  {
   "attachments": {},
   "cell_type": "markdown",
   "id": "1fb7bd7d",
   "metadata": {},
   "source": [
    "# Retrive entity (Regulator)"
   ]
  },
  {
   "cell_type": "code",
   "execution_count": 41,
   "id": "a398971a",
   "metadata": {},
   "outputs": [
    {
     "name": "stdout",
     "output_type": "stream",
     "text": [
      "<Response [200]>\n",
      "200\n"
     ]
    },
    {
     "data": {
      "text/plain": [
       "(200,\n",
       " {'osUpdatedAt': '2023-05-31T12:38:42.889228500Z',\n",
       "  'aadhaarNo': '555667788',\n",
       "  'osUpdatedBy': '',\n",
       "  'osid': '1-e94af035-f498-4df1-bf5e-13f44697ab30',\n",
       "  'phoneNumber': '555667788',\n",
       "  'osCreatedAt': '2023-05-31T12:38:42.889228500Z',\n",
       "  'identityType': '',\n",
       "  'regulatorKey': '999123434',\n",
       "  'name': 'KKKK',\n",
       "  'osCreatedBy': '',\n",
       "  'institute': 'Test Institute',\n",
       "  'email': '123d@fddc.com'})"
      ]
     },
     "execution_count": 41,
     "metadata": {},
     "output_type": "execute_result"
    }
   ],
   "source": [
    "headers = {\n",
    "    'content-type': 'application/json',\n",
    "    'Authorization': 'Bearer %s'%token,\n",
    "}\n",
    "entity_name='Regulator'\n",
    "response = requests.get('http://localhost:8081/api/v1/%s/%s'%(entity_name, idx), headers=headers)\n",
    "print(response)\n",
    "print(response.status_code)\n",
    "obj = response.json()\n",
    "response.status_code, response.json()"
   ]
  },
  {
   "attachments": {},
   "cell_type": "markdown",
   "id": "e164092c",
   "metadata": {},
   "source": [
    "## update name and experience"
   ]
  },
  {
   "cell_type": "code",
   "execution_count": null,
   "id": "b31e0286",
   "metadata": {},
   "outputs": [
    {
     "name": "stdout",
     "output_type": "stream",
     "text": [
      "{\"ContactDetails\":{\"name\": \"test name 91788203537\"}, \"experience\":[{\"institute\":\"Some other school\"}]}\n"
     ]
    }
   ],
   "source": [
    "headers = {\n",
    "    'content-type': 'application/json',\n",
    "    'authorization': 'bearer %s'%token,\n",
    "}\n",
    "\n",
    "data = '{\"ContactDetails\":{\"name\": \"test name %s\"}, \"experience\":[{\"institute\":\"Some other school\"}]}'%userId\n",
    "print(data)\n",
    "response = requests.put('http://localhost:8081/api/v1/Regulator/%s'%idx, headers=headers, data=data)"
   ]
  },
  {
   "cell_type": "code",
   "execution_count": null,
   "id": "8ae86741",
   "metadata": {},
   "outputs": [
    {
     "data": {
      "text/plain": [
       "(500,\n",
       " {'id': 'sunbird-rc.registry.update',\n",
       "  'ver': '1.0',\n",
       "  'ets': 1683023564089,\n",
       "  'params': {'resmsgid': '',\n",
       "   'msgid': 'fbc86865-5b21-44ba-93ae-5ca6b7f0bbc1',\n",
       "   'err': '',\n",
       "   'status': 'UNSUCCESSFUL',\n",
       "   'errmsg': 'Unable to reach service: 500 Internal Server Error: [{\"error\": \"Internal Server Error\", \"message\": The property \"courseName\" in the input was not defined in the context.}]'},\n",
       "  'responseCode': 'OK'})"
      ]
     },
     "execution_count": 129,
     "metadata": {},
     "output_type": "execute_result"
    }
   ],
   "source": [
    "response.status_code, response.json()"
   ]
  },
  {
   "cell_type": "code",
   "execution_count": 209,
   "id": "6bc19944",
   "metadata": {},
   "outputs": [
    {
     "name": "stdout",
     "output_type": "stream",
     "text": [
      "200\n",
      "{'osUpdatedAt': '2023-05-02T12:25:31.870873Z', 'aadhaarNo': '555667788', 'osUpdatedBy': '', 'osid': '1-bbc468b4-6eb5-4404-887a-e56cd285f636', 'phoneNumber': '555667788', 'osCreatedAt': '2023-05-02T12:25:31.870873Z', 'identityType': '', 'regulatorKey': '9991234999', 'name': 'pawan', 'osCreatedBy': '', 'institute': 'Test Institute', 'email': '123d@fddc.com'}\n"
     ]
    },
    {
     "data": {
      "text/plain": [
       "{'osUpdatedAt': '2023-05-02T12:25:31.870873Z',\n",
       " 'aadhaarNo': '555667788',\n",
       " 'osUpdatedBy': '',\n",
       " 'osid': '1-bbc468b4-6eb5-4404-887a-e56cd285f636',\n",
       " 'phoneNumber': '555667788',\n",
       " 'osCreatedAt': '2023-05-02T12:25:31.870873Z',\n",
       " 'identityType': '',\n",
       " 'regulatorKey': '9991234999',\n",
       " 'name': 'pawan',\n",
       " 'osCreatedBy': '',\n",
       " 'institute': 'Test Institute',\n",
       " 'email': '123d@fddc.com'}"
      ]
     },
     "execution_count": 209,
     "metadata": {},
     "output_type": "execute_result"
    }
   ],
   "source": [
    "headers = {\n",
    "    'content-type': 'application/json',\n",
    "    'Authorization': 'Bearer %s'%token, \n",
    "}\n",
    "\n",
    "response = requests.get('http://localhost:8081/api/v1/%s/%s'%(entity_name, idx), headers=headers)\n",
    "print(response.status_code)\n",
    "assert response.status_code == 200\n",
    "print(response.json())\n",
    "assert response.json()[\"name\"] == \"pawan\"\n",
    "response.json()"
   ]
  },
  {
   "attachments": {},
   "cell_type": "markdown",
   "id": "6eb1a18e",
   "metadata": {},
   "source": [
    "## Create a student in registry"
   ]
  },
  {
   "cell_type": "code",
   "execution_count": 42,
   "id": "f85dc761",
   "metadata": {},
   "outputs": [],
   "source": [
    "headers = {\n",
    "    'content-type': 'application/json',\n",
    "    'Authorization': 'Bearer %s'%token, \n",
    "}\n",
    "\n",
    "data = {\"identityDetails\":{\n",
    "    \"userId\": \"KM. DHARNI  %s\"%userId,\n",
    "    \"StudentName\":\"KM. GURIYA\", \n",
    "    \"MotherFullName\":\"SMT. PARWATI DEVI\",\n",
    "    \"FatherFullName\":\"SRI CHANDRIKA PRASAD\",\n",
    "    \"Gender\":\"F\",\n",
    "    \"mobile\": \"9876543210\",\n",
    "    \"EmailId\": \"kumarpawans@gmail.com\",\n",
    "    \"Institute\": \"UPSMF\",\n",
    "    \"StudentKey\":\"317209\",\n",
    "    \"centerKey\":\"450\",\n",
    "    \"address\":\"Lucknow UP\",\n",
    "    \"RollNo\":\"224300003\",\n",
    "    \"EnrollmentNo\":\"2210254300051\",\n",
    "    \"DateOfBirth\":\"12-12-1997\",\n",
    "    \"CourseName\":\"DIPLOMA IN GENERAL NURSING & MIDWIFERY\"\n",
    "    }\n",
    " }\n",
    "\n",
    "\n",
    "response = requests.post('http://localhost:8081/api/v1/Student/invite', headers=headers, json=data)\n"
   ]
  },
  {
   "cell_type": "code",
   "execution_count": 44,
   "id": "a486eb16",
   "metadata": {},
   "outputs": [
    {
     "data": {
      "text/plain": [
       "{'id': 'sunbird-rc.registry.invite',\n",
       " 'ver': '1.0',\n",
       " 'ets': 1685536880974,\n",
       " 'params': {'resmsgid': '',\n",
       "  'msgid': '02dedcb7-01b8-4858-af89-7a82ce1b1751',\n",
       "  'err': '',\n",
       "  'status': 'SUCCESSFUL',\n",
       "  'errmsg': ''},\n",
       " 'responseCode': 'OK',\n",
       " 'result': {'Student': {'osid': '1-b0e7a878-5210-4942-87bd-4abda6a52adb'}}}"
      ]
     },
     "execution_count": 44,
     "metadata": {},
     "output_type": "execute_result"
    }
   ],
   "source": [
    "response.json()\n",
    "\n"
   ]
  },
  {
   "cell_type": "code",
   "execution_count": 45,
   "id": "c634f6ae",
   "metadata": {},
   "outputs": [
    {
     "name": "stdout",
     "output_type": "stream",
     "text": [
      "1-b0e7a878-5210-4942-87bd-4abda6a52adb\n"
     ]
    }
   ],
   "source": [
    "sid = response.json()[\"result\"][\"Student\"][\"osid\"]\n",
    "print(sid)\n"
   ]
  },
  {
   "attachments": {},
   "cell_type": "markdown",
   "id": "7c08b942",
   "metadata": {},
   "source": [
    "# Read the Student Data from registry"
   ]
  },
  {
   "cell_type": "code",
   "execution_count": 46,
   "id": "24a56dc8",
   "metadata": {},
   "outputs": [
    {
     "name": "stdout",
     "output_type": "stream",
     "text": [
      "200\n"
     ]
    },
    {
     "data": {
      "text/plain": [
       "{'osUpdatedAt': '2023-05-31T12:41:20.980886800Z',\n",
       " 'osCreatedAt': '2023-05-31T12:41:20.980886800Z',\n",
       " 'osUpdatedBy': '',\n",
       " 'osCreatedBy': '',\n",
       " 'osid': '1-b0e7a878-5210-4942-87bd-4abda6a52adb',\n",
       " 'identityDetails': {'osid': '1-38c6ac8b-5f52-47f8-8c81-ef2de1940ba5',\n",
       "  'DateOfBirth': '12-12-1997',\n",
       "  'CourseName': 'DIPLOMA IN GENERAL NURSING & MIDWIFERY',\n",
       "  'EmailId': 'kumarpawans@gmail.com',\n",
       "  'osUpdatedAt': '2023-05-31T12:41:20.980886800Z',\n",
       "  'RollNo': '224300003',\n",
       "  'address': 'Lucknow UP',\n",
       "  'FatherFullName': 'SRI CHANDRIKA PRASAD',\n",
       "  'osUpdatedBy': '',\n",
       "  'mobile': '9876543210',\n",
       "  'Gender': 'F',\n",
       "  'StudentKey': '317209',\n",
       "  'userId': 'KM. DHARNI  78313540161',\n",
       "  'EnrollmentNo': '2210254300051',\n",
       "  'MotherFullName': 'SMT. PARWATI DEVI',\n",
       "  'Institute': 'UPSMF',\n",
       "  'osCreatedAt': '2023-05-31T12:41:20.980886800Z',\n",
       "  'osCreatedBy': '',\n",
       "  'centerKey': '450',\n",
       "  'StudentName': 'KM. GURIYA'}}"
      ]
     },
     "execution_count": 46,
     "metadata": {},
     "output_type": "execute_result"
    }
   ],
   "source": [
    "headers = {\n",
    "    'content-type': 'application/json',\n",
    "    'Authorization': 'Bearer %s'%token, \n",
    "}\n",
    "\n",
    "response = requests.get('http://localhost:8081/api/v1/%s/%s'%(\"Student\", sid), headers=headers)\n",
    "print(response.status_code)\n",
    "response.json()\n"
   ]
  },
  {
   "cell_type": "code",
   "execution_count": null,
   "id": "63492c6c",
   "metadata": {},
   "outputs": [],
   "source": []
  },
  {
   "attachments": {},
   "cell_type": "markdown",
   "id": "f84e8451",
   "metadata": {},
   "source": [
    "## Institute will raise a claim"
   ]
  },
  {
   "cell_type": "code",
   "execution_count": 56,
   "id": "b498e02c",
   "metadata": {},
   "outputs": [
    {
     "name": "stdout",
     "output_type": "stream",
     "text": [
      "401\n"
     ]
    },
    {
     "data": {
      "text/plain": [
       "{'id': 'sunbird-rc.registry.update',\n",
       " 'ver': '1.0',\n",
       " 'ets': 1685537163948,\n",
       " 'params': {'resmsgid': '',\n",
       "  'msgid': '74fc7c2f-1035-4468-8887-6da2f9e57664',\n",
       "  'err': '',\n",
       "  'status': 'UNSUCCESSFUL',\n",
       "  'errmsg': 'Invalid id'},\n",
       " 'responseCode': 'OK'}"
      ]
     },
     "execution_count": 56,
     "metadata": {},
     "output_type": "execute_result"
    }
   ],
   "source": [
    "headers = {\n",
    "    'content-type': 'application/json',\n",
    "    'authorization': 'bearer %s'%token,\n",
    "}\n",
    "\n",
    "params = (\n",
    "    ('send', 'true'),\n",
    ")\n",
    "\n",
    "data = {\n",
    "    \"entityName\":\"Student\",\n",
    "    \"entityId\":\"%s\"%sid,\n",
    "    \"additionalInput\":{\"idx\": \"%s\"%sid}\n",
    "}\n",
    "id=sid\n",
    "response = requests.post('http://localhost:8081/api/v1/student/1-38c6ac8b-5f52-47f8-8c81-ef2de1940ba5/school?send=true', headers=headers, params=params, json=data)\n",
    "\n",
    "print(response.status_code)\n",
    "response.json()\n"
   ]
  },
  {
   "cell_type": "code",
   "execution_count": 57,
   "id": "141a9dc9",
   "metadata": {},
   "outputs": [
    {
     "name": "stdout",
     "output_type": "stream",
     "text": [
      "200\n"
     ]
    },
    {
     "data": {
      "text/plain": [
       "{'id': '',\n",
       " 'ver': '1.0',\n",
       " 'ets': 1685537366091,\n",
       " 'params': {'resmsgid': '',\n",
       "  'msgid': '0f0f97c3-f290-4245-b17a-2d27ae581771',\n",
       "  'err': '',\n",
       "  'status': 'UNSUCCESSFUL',\n",
       "  'errmsg': 'Policy null is not found'},\n",
       " 'responseCode': 'OK'}"
      ]
     },
     "execution_count": 57,
     "metadata": {},
     "output_type": "execute_result"
    }
   ],
   "source": [
    "headers = {\n",
    "    'content-type': 'application/json',\n",
    "    'authorization': 'bearer %s'%token,\n",
    "}\n",
    "\n",
    "params = (\n",
    "    ('send', 'true'),\n",
    ")\n",
    "\n",
    "data = {\n",
    "    \"entityName\":\"Student\",\n",
    "    \"entityId\":\"%s\"%sid,\n",
    "    \"additionalInput\":{\"idx\": \"%s\"%sid}\n",
    "}\n",
    "response = requests.put('http://localhost:8081/api/v1/send', headers=headers, params=params, json=data)\n",
    "#response = requests.put('http://localhost:8081/api/v1/send', headers=headers, params=params, json=data)\n",
    "print(response.status_code)\n",
    "response.json()\n",
    "\n"
   ]
  },
  {
   "cell_type": "code",
   "execution_count": 58,
   "id": "7647f0e1",
   "metadata": {},
   "outputs": [
    {
     "name": "stdout",
     "output_type": "stream",
     "text": [
      "200\n"
     ]
    },
    {
     "data": {
      "text/plain": [
       "{'osUpdatedAt': '2023-05-31T12:41:20.980886800Z',\n",
       " 'osCreatedAt': '2023-05-31T12:41:20.980886800Z',\n",
       " 'osUpdatedBy': '',\n",
       " 'osCreatedBy': '',\n",
       " 'osid': '1-b0e7a878-5210-4942-87bd-4abda6a52adb',\n",
       " 'identityDetails': {'osid': '1-38c6ac8b-5f52-47f8-8c81-ef2de1940ba5',\n",
       "  'DateOfBirth': '12-12-1997',\n",
       "  'CourseName': 'DIPLOMA IN GENERAL NURSING & MIDWIFERY',\n",
       "  'EmailId': 'kumarpawans@gmail.com',\n",
       "  'osUpdatedAt': '2023-05-31T12:41:20.980886800Z',\n",
       "  'RollNo': '224300003',\n",
       "  'address': 'Lucknow UP',\n",
       "  'FatherFullName': 'SRI CHANDRIKA PRASAD',\n",
       "  'osUpdatedBy': '',\n",
       "  'mobile': '9876543210',\n",
       "  'Gender': 'F',\n",
       "  'StudentKey': '317209',\n",
       "  'userId': 'KM. DHARNI  78313540161',\n",
       "  'EnrollmentNo': '2210254300051',\n",
       "  'MotherFullName': 'SMT. PARWATI DEVI',\n",
       "  'Institute': 'UPSMF',\n",
       "  'osCreatedAt': '2023-05-31T12:41:20.980886800Z',\n",
       "  'osCreatedBy': '',\n",
       "  'centerKey': '450',\n",
       "  'StudentName': 'KM. GURIYA'}}"
      ]
     },
     "execution_count": 58,
     "metadata": {},
     "output_type": "execute_result"
    }
   ],
   "source": [
    "headers = {\n",
    "    'content-type': 'application/json',\n",
    "    'Authorization': 'Bearer %s'%token, \n",
    "}\n",
    "\n",
    "response = requests.get('http://localhost:8081/api/v1/%s/%s'%(\"Student\", sid), headers=headers)\n",
    "print(response.status_code)\n",
    "response.json()"
   ]
  },
  {
   "attachments": {},
   "cell_type": "markdown",
   "id": "4ca1ce2e",
   "metadata": {},
   "source": [
    "## As a Teacher get claims"
   ]
  },
  {
   "cell_type": "code",
   "execution_count": 59,
   "id": "9e091faf",
   "metadata": {},
   "outputs": [
    {
     "name": "stdout",
     "output_type": "stream",
     "text": [
      "<Response [200]>\n"
     ]
    },
    {
     "data": {
      "text/plain": [
       "{'totalPages': 0, 'content': [], 'totalElements': 0}"
      ]
     },
     "execution_count": 59,
     "metadata": {},
     "output_type": "execute_result"
    }
   ],
   "source": [
    "headers = {\n",
    "    'content-type': 'application/json',\n",
    "    'Authorization': 'Bearer %s'%token, \n",
    "}\n",
    "\n",
    "response = requests.get('http://localhost:8081/api/v1/Regulator/claims', headers=headers)\n",
    "print(response)\n",
    "#claim_id = response.json()[-1][\"id\"]\n",
    "response.json()"
   ]
  },
  {
   "attachments": {},
   "cell_type": "markdown",
   "id": "e243966b",
   "metadata": {},
   "source": [
    "## approve the claim"
   ]
  },
  {
   "cell_type": "code",
   "execution_count": 62,
   "id": "336de33a",
   "metadata": {},
   "outputs": [
    {
     "name": "stdout",
     "output_type": "stream",
     "text": [
      "500\n"
     ]
    },
    {
     "data": {
      "text/plain": [
       "{'resmsgid': '',\n",
       " 'msgid': '26f9e379-239f-44ad-b7a2-9b41c4618177',\n",
       " 'err': '',\n",
       " 'status': 'UNSUCCESSFUL',\n",
       " 'errmsg': 'Forbidden'}"
      ]
     },
     "execution_count": 62,
     "metadata": {},
     "output_type": "execute_result"
    }
   ],
   "source": [
    "headers = {\n",
    "    'content-type': 'application/json',\n",
    "    'Authorization': 'Bearer %s'%token, \n",
    "}\n",
    "data = {\n",
    "    \"action\":\"GRANT_CLAIM\",\n",
    "}\n",
    "response = requests.post('http://localhost:8081/api/v1/Student/claims/fdcd23d9-57c9-4d4c-a8e3-396faebf1d3b/attest', headers=headers, json=data)\n",
    "print(response.status_code)\n",
    "response.json()"
   ]
  },
  {
   "cell_type": "code",
   "execution_count": 66,
   "id": "a1247108",
   "metadata": {},
   "outputs": [
    {
     "name": "stdout",
     "output_type": "stream",
     "text": [
      "200\n"
     ]
    }
   ],
   "source": [
    "headers = {\n",
    "    'content-type': 'application/json',\n",
    "    'Authorization': 'Bearer %s'%token, \n",
    "}\n",
    "\n",
    "response = requests.get('http://localhost:8081/api/v1/Student/claims', headers=headers)\n",
    "print(response.status_code)\n",
    "#claim_id = response.json()[0][\"id\"]\n",
    "#response.json()"
   ]
  },
  {
   "cell_type": "code",
   "execution_count": null,
   "id": "1e52504b",
   "metadata": {},
   "outputs": [],
   "source": []
  },
  {
   "cell_type": "code",
   "execution_count": null,
   "id": "f65576ff",
   "metadata": {},
   "outputs": [],
   "source": []
  }
 ],
 "metadata": {
  "kernelspec": {
   "display_name": "Python 3 (ipykernel)",
   "language": "python",
   "name": "python3"
  },
  "language_info": {
   "codemirror_mode": {
    "name": "ipython",
    "version": 3
   },
   "file_extension": ".py",
   "mimetype": "text/x-python",
   "name": "python",
   "nbconvert_exporter": "python",
   "pygments_lexer": "ipython3",
   "version": "3.10.9"
  }
 },
 "nbformat": 4,
 "nbformat_minor": 5
}
