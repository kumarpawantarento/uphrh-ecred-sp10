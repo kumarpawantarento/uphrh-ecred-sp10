{
 "cells": [
  {
   "cell_type": "code",
   "execution_count": 25,
   "id": "3f0dd619",
   "metadata": {},
   "outputs": [],
   "source": [
    "import requests\n",
    "import random\n",
    "import json"
   ]
  },
  {
   "cell_type": "code",
   "execution_count": 26,
   "id": "65520225",
   "metadata": {},
   "outputs": [],
   "source": [
    "keycloakUrl = \"http://localhost:8080\""
   ]
  },
  {
   "cell_type": "code",
   "execution_count": 27,
   "id": "4afaa4ee",
   "metadata": {},
   "outputs": [],
   "source": [
    "def getToken():\n",
    "    headers = {\n",
    "        'content-type': 'application/x-www-form-urlencoded',\n",
    "    }\n",
    "\n",
    "    data = {\n",
    "      'client_id': 'registry-frontend',\n",
    "      'grant_type': 'password',\n",
    "      'username':'Kumarpawans67@gmail.com',\n",
    "      'password':'123456'\n",
    "    }\n",
    "\n",
    "    response = requests.post('%s/auth/realms/sunbird-rc/protocol/openid-connect/token'%(keycloakUrl), headers=headers, data=data)\n",
    "    print(response.json())\n",
    "    print(response.status_code)\n",
    "    token = response.json()[\"access_token\"]\n",
    "    print(token)\n",
    "    return token"
   ]
  },
  {
   "cell_type": "code",
   "execution_count": 28,
   "id": "47d42ec6",
   "metadata": {},
   "outputs": [
    {
     "name": "stdout",
     "output_type": "stream",
     "text": [
      "{'access_token': 'eyJhbGciOiJSUzI1NiIsInR5cCIgOiAiSldUIiwia2lkIiA6ICJGZHl5YkhKcHB0bTdMNnJ5d2Npd2Rlb1hsYktTVVcwY0NNYU5lRHAtZlZrIn0.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.YNMVIEnralDoyqA5P1J_XS9aM6L67_WF64FjxSuOaWqkmt0CuSSRSxc-IpaLzBh45uFmr0c_mQE0rV4BE72lD-IG6zO6VnyooqvZnf6t596nunfZKp2hHUtmbYZPYFwa_qtN2bL_UgmKnTRuQrANx1H5_tQesEy0rGJbpm9sP170ToLlHheDbD_Z1EmVM2FzcmjldMj_KRA47GPrYKItLNt2YnKe-Hz-312n7Tlavzoo3242feJiHcaVvgA_9mRF2O0Io35gcnen7cSF2F9XUqcoTvT1YVy16a1mzeqroHJLBJoboEEhESd-ZD4vPMSW3yX3izoL8R4Pk7xm97OsEw', 'expires_in': 600, 'refresh_expires_in': 0, 'token_type': 'Bearer', 'not-before-policy': 1607576887, 'session_state': '064b6189-7aca-423b-b71d-490e4662a9a7', 'scope': 'profile email'}\n",
      "200\n",
      "eyJhbGciOiJSUzI1NiIsInR5cCIgOiAiSldUIiwia2lkIiA6ICJGZHl5YkhKcHB0bTdMNnJ5d2Npd2Rlb1hsYktTVVcwY0NNYU5lRHAtZlZrIn0.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.YNMVIEnralDoyqA5P1J_XS9aM6L67_WF64FjxSuOaWqkmt0CuSSRSxc-IpaLzBh45uFmr0c_mQE0rV4BE72lD-IG6zO6VnyooqvZnf6t596nunfZKp2hHUtmbYZPYFwa_qtN2bL_UgmKnTRuQrANx1H5_tQesEy0rGJbpm9sP170ToLlHheDbD_Z1EmVM2FzcmjldMj_KRA47GPrYKItLNt2YnKe-Hz-312n7Tlavzoo3242feJiHcaVvgA_9mRF2O0Io35gcnen7cSF2F9XUqcoTvT1YVy16a1mzeqroHJLBJoboEEhESd-ZD4vPMSW3yX3izoL8R4Pk7xm97OsEw\n"
     ]
    }
   ],
   "source": [
    "token=getToken()"
   ]
  },
  {
   "cell_type": "code",
   "execution_count": 29,
   "id": "22c16507",
   "metadata": {},
   "outputs": [],
   "source": [
    "base_url = \"http://localhost:8081\""
   ]
  },
  {
   "cell_type": "code",
   "execution_count": 31,
   "id": "4c0e4ef1",
   "metadata": {},
   "outputs": [
    {
     "name": "stdout",
     "output_type": "stream",
     "text": [
      "<Response [404]>\n"
     ]
    }
   ],
   "source": [
    "resp = requests.get(base_url)\n",
    "print(resp)\n",
    "assert resp.status_code == 404\n",
    "assert resp.json()[\"status\"] == 404\n",
    "assert resp.json()[\"error\"] == \"Not Found\""
   ]
  },
  {
   "cell_type": "code",
   "execution_count": 32,
   "id": "27da0f32",
   "metadata": {},
   "outputs": [],
   "source": [
    "resp = requests.get(\"%s/api/docs/swagger.json\"%base_url)\n",
    "assert resp.status_code == 200\n",
    "assert resp.json()[\"swagger\"] == \"2.0\"\n",
    "assert resp.json()[\"paths\"] != None"
   ]
  },
  {
   "cell_type": "code",
   "execution_count": 33,
   "id": "0edbbada",
   "metadata": {},
   "outputs": [
    {
     "data": {
      "text/plain": [
       "dict_keys(['/api/v1/TrainingCertificate/{entityId}', '/api/docs/TrainingCertificate.json', '/api/v1/TrainingCertificate/sign', '/api/v1/TrainingCertificate/search', '/api/v1/TrainingCertificate/invite', '/api/v1/TrainingCertificate', '/api/v1/TrainingCertificate/{entityId}/{property}/{propertyId}', '/api/v1/TrainingCertificate/{entityId}/{property}', '/api/v1/TrainingCertificate/{entityId}/{property}/{propertyId}/send', '/api/v1/PublicKey/{entityId}', '/api/docs/PublicKey.json', '/api/v1/PublicKey/sign', '/api/v1/PublicKey/search', '/api/v1/PublicKey/invite', '/api/v1/PublicKey', '/api/v1/PublicKey/{entityId}/{property}/{propertyId}', '/api/v1/PublicKey/{entityId}/{property}', '/api/v1/PublicKey/{entityId}/{property}/{propertyId}/send', '/api/v1/Schema/{entityId}', '/api/docs/Schema.json', '/api/v1/Schema/sign', '/api/v1/Schema/search', '/api/v1/Schema/invite', '/api/v1/Schema', '/api/v1/Schema/{entityId}/{property}/{propertyId}', '/api/v1/Schema/{entityId}/{property}', '/api/v1/Schema/{entityId}/{property}/{propertyId}/send', '/api/v1/Certificates/{entityId}', '/api/docs/Certificates.json', '/api/v1/Certificates/sign', '/api/v1/Certificates/search', '/api/v1/Certificates/invite', '/api/v1/Certificates', '/api/v1/Certificates/{entityId}/{property}/{propertyId}', '/api/v1/Certificates/{entityId}/{property}', '/api/v1/Certificates/{entityId}/{property}/{propertyId}/send', '/api/v1/Regulator/{entityId}', '/api/docs/Regulator.json', '/api/v1/Regulator/sign', '/api/v1/Regulator/search', '/api/v1/Regulator/invite', '/api/v1/Regulator', '/api/v1/Regulator/{entityId}/{property}/{propertyId}', '/api/v1/Regulator/{entityId}/{property}', '/api/v1/Regulator/{entityId}/{property}/{propertyId}/send', '/api/v1/BaseAttestationField/{entityId}', '/api/docs/BaseAttestationField.json', '/api/v1/BaseAttestationField/sign', '/api/v1/BaseAttestationField/search', '/api/v1/BaseAttestationField/invite', '/api/v1/BaseAttestationField', '/api/v1/BaseAttestationField/{entityId}/{property}/{propertyId}', '/api/v1/BaseAttestationField/{entityId}/{property}', '/api/v1/BaseAttestationField/{entityId}/{property}/{propertyId}/send', '/api/v1/Student/{entityId}', '/api/docs/Student.json', '/api/v1/Student/sign', '/api/v1/Student/search', '/api/v1/Student/invite', '/api/v1/Student', '/api/v1/Student/{entityId}/{property}/{propertyId}', '/api/v1/Student/{entityId}/{property}', '/api/v1/Student/{entityId}/{property}/{propertyId}/send', '/api/v1/RegistrationCertificate/{entityId}', '/api/docs/RegistrationCertificate.json', '/api/v1/RegistrationCertificate/sign', '/api/v1/RegistrationCertificate/search', '/api/v1/RegistrationCertificate/invite', '/api/v1/RegistrationCertificate', '/api/v1/RegistrationCertificate/{entityId}/{property}/{propertyId}', '/api/v1/RegistrationCertificate/{entityId}/{property}', '/api/v1/RegistrationCertificate/{entityId}/{property}/{propertyId}/send', '/api/v1/Institute/{entityId}', '/api/docs/Institute.json', '/api/v1/Institute/sign', '/api/v1/Institute/search', '/api/v1/Institute/invite', '/api/v1/Institute', '/api/v1/Institute/{entityId}/{property}/{propertyId}', '/api/v1/Institute/{entityId}/{property}', '/api/v1/Institute/{entityId}/{property}/{propertyId}/send', '/api/v1/StudentMarksSheet/{entityId}', '/api/docs/StudentMarksSheet.json', '/api/v1/StudentMarksSheet/sign', '/api/v1/StudentMarksSheet/search', '/api/v1/StudentMarksSheet/invite', '/api/v1/StudentMarksSheet', '/api/v1/StudentMarksSheet/{entityId}/{property}/{propertyId}', '/api/v1/StudentMarksSheet/{entityId}/{property}', '/api/v1/StudentMarksSheet/{entityId}/{property}/{propertyId}/send', '/api/v1/StudentMarkSheet/{entityId}', '/api/docs/StudentMarkSheet.json', '/api/v1/StudentMarkSheet/sign', '/api/v1/StudentMarkSheet/search', '/api/v1/StudentMarkSheet/invite', '/api/v1/StudentMarkSheet', '/api/v1/StudentMarkSheet/{entityId}/{property}/{propertyId}', '/api/v1/StudentMarkSheet/{entityId}/{property}', '/api/v1/StudentMarkSheet/{entityId}/{property}/{propertyId}/send', '/api/v1/RegCertificate/{entityId}', '/api/docs/RegCertificate.json', '/api/v1/RegCertificate/sign', '/api/v1/RegCertificate/search', '/api/v1/RegCertificate/invite', '/api/v1/RegCertificate', '/api/v1/RegCertificate/{entityId}/{property}/{propertyId}', '/api/v1/RegCertificate/{entityId}/{property}', '/api/v1/RegCertificate/{entityId}/{property}/{propertyId}/send', '/api/v1/Certificate/{entityId}', '/api/docs/Certificate.json', '/api/v1/Certificate/sign', '/api/v1/Certificate/search', '/api/v1/Certificate/invite', '/api/v1/Certificate', '/api/v1/Certificate/{entityId}/{property}/{propertyId}', '/api/v1/Certificate/{entityId}/{property}', '/api/v1/Certificate/{entityId}/{property}/{propertyId}/send', '/api/v1/StudentClaim/{entityId}', '/api/docs/StudentClaim.json', '/api/v1/StudentClaim/sign', '/api/v1/StudentClaim/search', '/api/v1/StudentClaim/invite', '/api/v1/StudentClaim', '/api/v1/StudentClaim/{entityId}/{property}/{propertyId}', '/api/v1/StudentClaim/{entityId}/{property}', '/api/v1/StudentClaim/{entityId}/{property}/{propertyId}/send', '/api/v1/SkillCertificate/{entityId}', '/api/docs/SkillCertificate.json', '/api/v1/SkillCertificate/sign', '/api/v1/SkillCertificate/search', '/api/v1/SkillCertificate/invite', '/api/v1/SkillCertificate', '/api/v1/SkillCertificate/{entityId}/{property}/{propertyId}', '/api/v1/SkillCertificate/{entityId}/{property}', '/api/v1/SkillCertificate/{entityId}/{property}/{propertyId}/send'])"
      ]
     },
     "execution_count": 33,
     "metadata": {},
     "output_type": "execute_result"
    }
   ],
   "source": [
    "swaggerJson = resp.json()\n",
    "swaggerJson[\"paths\"].keys()"
   ]
  },
  {
   "cell_type": "code",
   "execution_count": 34,
   "id": "96d0bcfe",
   "metadata": {},
   "outputs": [
    {
     "data": {
      "text/plain": [
       "'/api/docs/TrainingCertificate.json'"
      ]
     },
     "execution_count": 34,
     "metadata": {},
     "output_type": "execute_result"
    }
   ],
   "source": [
    "jsonUrl = [f for f in swaggerJson[\"paths\"].keys() if \".json\" in f][0]\n",
    "jsonUrl"
   ]
  },
  {
   "attachments": {},
   "cell_type": "markdown",
   "id": "e3f99816",
   "metadata": {},
   "source": [
    "# Check available schema"
   ]
  },
  {
   "cell_type": "code",
   "execution_count": 35,
   "id": "180d3352",
   "metadata": {},
   "outputs": [],
   "source": [
    "resp = requests.get(\"%s%s\"%(base_url, \"/api/docs/Regulator.json\"))\n",
    "assert resp.status_code == 200"
   ]
  },
  {
   "attachments": {},
   "cell_type": "markdown",
   "id": "c4f2919e",
   "metadata": {},
   "source": [
    "## Print response of All available schemas"
   ]
  },
  {
   "cell_type": "code",
   "execution_count": 36,
   "id": "9825fec2",
   "metadata": {},
   "outputs": [
    {
     "data": {
      "text/plain": [
       "{'Regulator': {'$id': '#/properties/Regulator',\n",
       "  'type': 'object',\n",
       "  'title': 'Regulator schema',\n",
       "  'required': ['name', 'phoneNumber', 'email', 'regulator', 'regulatorKey'],\n",
       "  'uniqueIndexFields': ['username'],\n",
       "  'properties': {'name': {'type': 'string'},\n",
       "   'phoneNumber': {'type': 'string'},\n",
       "   'email': {'type': 'string'},\n",
       "   'regulator': {'type': 'string'},\n",
       "   'regulatorKey': {'type': 'string'},\n",
       "   'institute': {'$id': '#/properties/institute',\n",
       "    'type': 'string',\n",
       "    'title': 'Institute Full Name'}}}}"
      ]
     },
     "execution_count": 36,
     "metadata": {},
     "output_type": "execute_result"
    }
   ],
   "source": [
    "resp.json()"
   ]
  },
  {
   "attachments": {},
   "cell_type": "markdown",
   "id": "86f3bc46",
   "metadata": {},
   "source": [
    "## Check Invite available for Entity in RC that can be created"
   ]
  },
  {
   "cell_type": "code",
   "execution_count": 37,
   "id": "50e5149a",
   "metadata": {},
   "outputs": [
    {
     "data": {
      "text/plain": [
       "['/api/v1/TrainingCertificate/invite',\n",
       " '/api/v1/PublicKey/invite',\n",
       " '/api/v1/Schema/invite',\n",
       " '/api/v1/Certificates/invite',\n",
       " '/api/v1/Regulator/invite',\n",
       " '/api/v1/BaseAttestationField/invite',\n",
       " '/api/v1/Student/invite',\n",
       " '/api/v1/RegistrationCertificate/invite',\n",
       " '/api/v1/Institute/invite',\n",
       " '/api/v1/StudentMarksSheet/invite',\n",
       " '/api/v1/StudentMarkSheet/invite',\n",
       " '/api/v1/RegCertificate/invite',\n",
       " '/api/v1/Certificate/invite',\n",
       " '/api/v1/StudentClaim/invite',\n",
       " '/api/v1/SkillCertificate/invite']"
      ]
     },
     "execution_count": 37,
     "metadata": {},
     "output_type": "execute_result"
    }
   ],
   "source": [
    "[f for f in swaggerJson[\"paths\"].keys() if \"/invite\" in f]"
   ]
  },
  {
   "attachments": {},
   "cell_type": "markdown",
   "id": "a6189278",
   "metadata": {},
   "source": [
    "# Create Entity - Regulator"
   ]
  },
  {
   "cell_type": "code",
   "execution_count": 39,
   "id": "8bd262de",
   "metadata": {},
   "outputs": [
    {
     "data": {
      "text/plain": [
       "'/api/v1/Student/invite'"
      ]
     },
     "execution_count": 39,
     "metadata": {},
     "output_type": "execute_result"
    }
   ],
   "source": [
    "inviteUrl = '/api/v1/Student/invite'\n",
    "inviteUrl"
   ]
  },
  {
   "cell_type": "code",
   "execution_count": 40,
   "id": "9ad5283a",
   "metadata": {},
   "outputs": [],
   "source": [
    "def entity_for(userId):\n",
    "    return  {\n",
    "      \"name\":\"Raj k.\",\"phoneNumber\":\"555667788\",\"email\":\"123d@fddc.com\",\"regulatorKey\":\"44473\",\"aadhaarNo\":\"555667788\",\"identityType\":\"\",\"institute\":\"Lucknow College of Nursing\",\"identityType\":\"\"\n",
    "     }"
   ]
  },
  {
   "cell_type": "code",
   "execution_count": 41,
   "id": "547ea7ab",
   "metadata": {},
   "outputs": [
    {
     "data": {
      "text/plain": [
       "'{\"name\": \"Raj k.\", \"phoneNumber\": \"555667788\", \"email\": \"123d@fddc.com\", \"regulatorKey\": \"44473\", \"aadhaarNo\": \"555667788\", \"identityType\": \"\", \"institute\": \"Lucknow College of Nursing\"}'"
      ]
     },
     "execution_count": 41,
     "metadata": {},
     "output_type": "execute_result"
    }
   ],
   "source": [
    "userId=189401\n",
    "json.dumps(entity_for(userId))"
   ]
  },
  {
   "cell_type": "code",
   "execution_count": 42,
   "id": "0fbcad28",
   "metadata": {},
   "outputs": [
    {
     "name": "stdout",
     "output_type": "stream",
     "text": [
      "99238520469\n",
      "/api/v1/Student/invite\n",
      "b'{\"id\":\"sunbird-rc.registry.invite\",\"ver\":\"1.0\",\"ets\":1690808581720,\"params\":{\"resmsgid\":\"\",\"msgid\":\"109d9404-2caa-4f24-935d-bef692c8829e\",\"err\":\"\",\"status\":\"SUCCESSFUL\",\"errmsg\":\"\"},\"responseCode\":\"OK\",\"result\":{\"Student\":{\"osid\":\"1-e9ba7df6-e8fb-4c3e-b1d7-28da3e7604ad\"}}}'\n",
      "{'id': 'sunbird-rc.registry.invite', 'ver': '1.0', 'ets': 1690808581720, 'params': {'resmsgid': '', 'msgid': '109d9404-2caa-4f24-935d-bef692c8829e', 'err': '', 'status': 'SUCCESSFUL', 'errmsg': ''}, 'responseCode': 'OK', 'result': {'Student': {'osid': '1-e9ba7df6-e8fb-4c3e-b1d7-28da3e7604ad'}}}\n",
      "1-e9ba7df6-e8fb-4c3e-b1d7-28da3e7604ad\n"
     ]
    }
   ],
   "source": [
    "userId =str(random.randint(1e10,1e11))\n",
    "print(userId)\n",
    "headers = {\n",
    "    'content-type': 'application/json',\n",
    "    'Authorization': 'Bearer %s'%token, \n",
    "}\n",
    "resp = requests.post(\"%s%s\"%(base_url, inviteUrl), headers=headers, json=entity_for(userId))\n",
    "print(inviteUrl)\n",
    "print(resp.content)\n",
    "assert resp.status_code == 200\n",
    "print(resp.json())\n",
    "assert(resp.json()[\"id\"]==\"sunbird-rc.registry.invite\")\n",
    "assert resp.json()[\"params\"][\"status\"] == \"SUCCESSFUL\"\n",
    "entity_name=next(iter(resp.json()[\"result\"].keys()))\n",
    "#assert \"Regulator\"==entity_name\n",
    "idx = resp.json()[\"result\"][entity_name][\"osid\"]\n",
    "print(idx)"
   ]
  },
  {
   "cell_type": "code",
   "execution_count": 43,
   "id": "e0096a4c",
   "metadata": {},
   "outputs": [
    {
     "data": {
      "text/plain": [
       "'1-e9ba7df6-e8fb-4c3e-b1d7-28da3e7604ad'"
      ]
     },
     "execution_count": 43,
     "metadata": {},
     "output_type": "execute_result"
    }
   ],
   "source": [
    "idx"
   ]
  },
  {
   "cell_type": "code",
   "execution_count": 44,
   "id": "a4ff65b9",
   "metadata": {},
   "outputs": [
    {
     "data": {
      "text/plain": [
       "'99238520469'"
      ]
     },
     "execution_count": 44,
     "metadata": {},
     "output_type": "execute_result"
    }
   ],
   "source": [
    "userId"
   ]
  },
  {
   "attachments": {},
   "cell_type": "markdown",
   "id": "1fb7bd7d",
   "metadata": {},
   "source": [
    "# Retrive entity (Regulator)"
   ]
  },
  {
   "cell_type": "code",
   "execution_count": 45,
   "id": "a398971a",
   "metadata": {},
   "outputs": [
    {
     "name": "stdout",
     "output_type": "stream",
     "text": [
      "<Response [200]>\n",
      "200\n"
     ]
    },
    {
     "data": {
      "text/plain": [
       "(200,\n",
       " {'osUpdatedAt': '2023-07-31T13:03:03.043901100Z',\n",
       "  'aadhaarNo': '555667788',\n",
       "  'osUpdatedBy': '',\n",
       "  'mobile': '',\n",
       "  'osid': '1-e9ba7df6-e8fb-4c3e-b1d7-28da3e7604ad',\n",
       "  'userId': '',\n",
       "  'phoneNumber': '555667788',\n",
       "  'osCreatedAt': '2023-07-31T13:03:03.043901100Z',\n",
       "  'identityType': '',\n",
       "  'regulatorKey': '44473',\n",
       "  'name': 'Raj k.',\n",
       "  'osCreatedBy': '',\n",
       "  'institute': 'Lucknow College of Nursing',\n",
       "  'email': ''})"
      ]
     },
     "execution_count": 45,
     "metadata": {},
     "output_type": "execute_result"
    }
   ],
   "source": [
    "headers = {\n",
    "    'content-type': 'application/json',\n",
    "    'Authorization': 'Bearer %s'%token,\n",
    "}\n",
    "entity_name='Student'\n",
    "response = requests.get('http://localhost:8081/api/v1/%s/%s'%(entity_name, idx), headers=headers)\n",
    "print(response)\n",
    "print(response.status_code)\n",
    "obj = response.json()\n",
    "response.status_code, response.json()"
   ]
  },
  {
   "cell_type": "code",
   "execution_count": 46,
   "id": "6bc19944",
   "metadata": {},
   "outputs": [
    {
     "name": "stdout",
     "output_type": "stream",
     "text": [
      "200\n",
      "{'osUpdatedAt': '2023-07-31T13:03:03.043901100Z', 'aadhaarNo': '555667788', 'osUpdatedBy': '', 'mobile': '', 'osid': '1-e9ba7df6-e8fb-4c3e-b1d7-28da3e7604ad', 'userId': '', 'phoneNumber': '555667788', 'osCreatedAt': '2023-07-31T13:03:03.043901100Z', 'identityType': '', 'regulatorKey': '44473', 'name': 'Raj k.', 'osCreatedBy': '', 'institute': 'Lucknow College of Nursing', 'email': ''}\n"
     ]
    },
    {
     "data": {
      "text/plain": [
       "{'osUpdatedAt': '2023-07-31T13:03:03.043901100Z',\n",
       " 'aadhaarNo': '555667788',\n",
       " 'osUpdatedBy': '',\n",
       " 'mobile': '',\n",
       " 'osid': '1-e9ba7df6-e8fb-4c3e-b1d7-28da3e7604ad',\n",
       " 'userId': '',\n",
       " 'phoneNumber': '555667788',\n",
       " 'osCreatedAt': '2023-07-31T13:03:03.043901100Z',\n",
       " 'identityType': '',\n",
       " 'regulatorKey': '44473',\n",
       " 'name': 'Raj k.',\n",
       " 'osCreatedBy': '',\n",
       " 'institute': 'Lucknow College of Nursing',\n",
       " 'email': ''}"
      ]
     },
     "execution_count": 46,
     "metadata": {},
     "output_type": "execute_result"
    }
   ],
   "source": [
    "headers = {\n",
    "    'content-type': 'application/json',\n",
    "    'Authorization': 'Bearer %s'%token, \n",
    "}\n",
    "\n",
    "response = requests.get('http://localhost:8081/api/v1/%s/%s'%(entity_name, idx), headers=headers)\n",
    "print(response.status_code)\n",
    "assert response.status_code == 200\n",
    "print(response.json())\n",
    "response.json()"
   ]
  },
  {
   "attachments": {},
   "cell_type": "markdown",
   "id": "6eb1a18e",
   "metadata": {},
   "source": [
    "## Create a student in registry -old schema"
   ]
  },
  {
   "cell_type": "code",
   "execution_count": 59,
   "id": "f85dc761",
   "metadata": {},
   "outputs": [
    {
     "ename": "ConnectionError",
     "evalue": "('Connection aborted.', ConnectionResetError(10054, 'An existing connection was forcibly closed by the remote host', None, 10054, None))",
     "output_type": "error",
     "traceback": [
      "\u001b[1;31m---------------------------------------------------------------------------\u001b[0m",
      "\u001b[1;31mConnectionResetError\u001b[0m                      Traceback (most recent call last)",
      "File \u001b[1;32mc:\\Users\\Pawan Kumar\\anaconda3\\lib\\site-packages\\urllib3\\connectionpool.py:703\u001b[0m, in \u001b[0;36mHTTPConnectionPool.urlopen\u001b[1;34m(self, method, url, body, headers, retries, redirect, assert_same_host, timeout, pool_timeout, release_conn, chunked, body_pos, **response_kw)\u001b[0m\n\u001b[0;32m    702\u001b[0m \u001b[39m# Make the request on the httplib connection object.\u001b[39;00m\n\u001b[1;32m--> 703\u001b[0m httplib_response \u001b[39m=\u001b[39m \u001b[39mself\u001b[39;49m\u001b[39m.\u001b[39;49m_make_request(\n\u001b[0;32m    704\u001b[0m     conn,\n\u001b[0;32m    705\u001b[0m     method,\n\u001b[0;32m    706\u001b[0m     url,\n\u001b[0;32m    707\u001b[0m     timeout\u001b[39m=\u001b[39;49mtimeout_obj,\n\u001b[0;32m    708\u001b[0m     body\u001b[39m=\u001b[39;49mbody,\n\u001b[0;32m    709\u001b[0m     headers\u001b[39m=\u001b[39;49mheaders,\n\u001b[0;32m    710\u001b[0m     chunked\u001b[39m=\u001b[39;49mchunked,\n\u001b[0;32m    711\u001b[0m )\n\u001b[0;32m    713\u001b[0m \u001b[39m# If we're going to release the connection in ``finally:``, then\u001b[39;00m\n\u001b[0;32m    714\u001b[0m \u001b[39m# the response doesn't need to know about the connection. Otherwise\u001b[39;00m\n\u001b[0;32m    715\u001b[0m \u001b[39m# it will also try to release it and we'll have a double-release\u001b[39;00m\n\u001b[0;32m    716\u001b[0m \u001b[39m# mess.\u001b[39;00m\n",
      "File \u001b[1;32mc:\\Users\\Pawan Kumar\\anaconda3\\lib\\site-packages\\urllib3\\connectionpool.py:449\u001b[0m, in \u001b[0;36mHTTPConnectionPool._make_request\u001b[1;34m(self, conn, method, url, timeout, chunked, **httplib_request_kw)\u001b[0m\n\u001b[0;32m    445\u001b[0m         \u001b[39mexcept\u001b[39;00m \u001b[39mBaseException\u001b[39;00m \u001b[39mas\u001b[39;00m e:\n\u001b[0;32m    446\u001b[0m             \u001b[39m# Remove the TypeError from the exception chain in\u001b[39;00m\n\u001b[0;32m    447\u001b[0m             \u001b[39m# Python 3 (including for exceptions like SystemExit).\u001b[39;00m\n\u001b[0;32m    448\u001b[0m             \u001b[39m# Otherwise it looks like a bug in the code.\u001b[39;00m\n\u001b[1;32m--> 449\u001b[0m             six\u001b[39m.\u001b[39;49mraise_from(e, \u001b[39mNone\u001b[39;49;00m)\n\u001b[0;32m    450\u001b[0m \u001b[39mexcept\u001b[39;00m (SocketTimeout, BaseSSLError, SocketError) \u001b[39mas\u001b[39;00m e:\n",
      "File \u001b[1;32m<string>:3\u001b[0m, in \u001b[0;36mraise_from\u001b[1;34m(value, from_value)\u001b[0m\n",
      "File \u001b[1;32mc:\\Users\\Pawan Kumar\\anaconda3\\lib\\site-packages\\urllib3\\connectionpool.py:444\u001b[0m, in \u001b[0;36mHTTPConnectionPool._make_request\u001b[1;34m(self, conn, method, url, timeout, chunked, **httplib_request_kw)\u001b[0m\n\u001b[0;32m    443\u001b[0m \u001b[39mtry\u001b[39;00m:\n\u001b[1;32m--> 444\u001b[0m     httplib_response \u001b[39m=\u001b[39m conn\u001b[39m.\u001b[39;49mgetresponse()\n\u001b[0;32m    445\u001b[0m \u001b[39mexcept\u001b[39;00m \u001b[39mBaseException\u001b[39;00m \u001b[39mas\u001b[39;00m e:\n\u001b[0;32m    446\u001b[0m     \u001b[39m# Remove the TypeError from the exception chain in\u001b[39;00m\n\u001b[0;32m    447\u001b[0m     \u001b[39m# Python 3 (including for exceptions like SystemExit).\u001b[39;00m\n\u001b[0;32m    448\u001b[0m     \u001b[39m# Otherwise it looks like a bug in the code.\u001b[39;00m\n",
      "File \u001b[1;32mc:\\Users\\Pawan Kumar\\anaconda3\\lib\\http\\client.py:1374\u001b[0m, in \u001b[0;36mHTTPConnection.getresponse\u001b[1;34m(self)\u001b[0m\n\u001b[0;32m   1373\u001b[0m \u001b[39mtry\u001b[39;00m:\n\u001b[1;32m-> 1374\u001b[0m     response\u001b[39m.\u001b[39;49mbegin()\n\u001b[0;32m   1375\u001b[0m \u001b[39mexcept\u001b[39;00m \u001b[39mConnectionError\u001b[39;00m:\n",
      "File \u001b[1;32mc:\\Users\\Pawan Kumar\\anaconda3\\lib\\http\\client.py:318\u001b[0m, in \u001b[0;36mHTTPResponse.begin\u001b[1;34m(self)\u001b[0m\n\u001b[0;32m    317\u001b[0m \u001b[39mwhile\u001b[39;00m \u001b[39mTrue\u001b[39;00m:\n\u001b[1;32m--> 318\u001b[0m     version, status, reason \u001b[39m=\u001b[39m \u001b[39mself\u001b[39;49m\u001b[39m.\u001b[39;49m_read_status()\n\u001b[0;32m    319\u001b[0m     \u001b[39mif\u001b[39;00m status \u001b[39m!=\u001b[39m CONTINUE:\n",
      "File \u001b[1;32mc:\\Users\\Pawan Kumar\\anaconda3\\lib\\http\\client.py:279\u001b[0m, in \u001b[0;36mHTTPResponse._read_status\u001b[1;34m(self)\u001b[0m\n\u001b[0;32m    278\u001b[0m \u001b[39mdef\u001b[39;00m \u001b[39m_read_status\u001b[39m(\u001b[39mself\u001b[39m):\n\u001b[1;32m--> 279\u001b[0m     line \u001b[39m=\u001b[39m \u001b[39mstr\u001b[39m(\u001b[39mself\u001b[39;49m\u001b[39m.\u001b[39;49mfp\u001b[39m.\u001b[39;49mreadline(_MAXLINE \u001b[39m+\u001b[39;49m \u001b[39m1\u001b[39;49m), \u001b[39m\"\u001b[39m\u001b[39miso-8859-1\u001b[39m\u001b[39m\"\u001b[39m)\n\u001b[0;32m    280\u001b[0m     \u001b[39mif\u001b[39;00m \u001b[39mlen\u001b[39m(line) \u001b[39m>\u001b[39m _MAXLINE:\n",
      "File \u001b[1;32mc:\\Users\\Pawan Kumar\\anaconda3\\lib\\socket.py:705\u001b[0m, in \u001b[0;36mSocketIO.readinto\u001b[1;34m(self, b)\u001b[0m\n\u001b[0;32m    704\u001b[0m \u001b[39mtry\u001b[39;00m:\n\u001b[1;32m--> 705\u001b[0m     \u001b[39mreturn\u001b[39;00m \u001b[39mself\u001b[39;49m\u001b[39m.\u001b[39;49m_sock\u001b[39m.\u001b[39;49mrecv_into(b)\n\u001b[0;32m    706\u001b[0m \u001b[39mexcept\u001b[39;00m timeout:\n",
      "\u001b[1;31mConnectionResetError\u001b[0m: [WinError 10054] An existing connection was forcibly closed by the remote host",
      "\nDuring handling of the above exception, another exception occurred:\n",
      "\u001b[1;31mProtocolError\u001b[0m                             Traceback (most recent call last)",
      "File \u001b[1;32mc:\\Users\\Pawan Kumar\\anaconda3\\lib\\site-packages\\requests\\adapters.py:489\u001b[0m, in \u001b[0;36mHTTPAdapter.send\u001b[1;34m(self, request, stream, timeout, verify, cert, proxies)\u001b[0m\n\u001b[0;32m    488\u001b[0m \u001b[39mif\u001b[39;00m \u001b[39mnot\u001b[39;00m chunked:\n\u001b[1;32m--> 489\u001b[0m     resp \u001b[39m=\u001b[39m conn\u001b[39m.\u001b[39;49murlopen(\n\u001b[0;32m    490\u001b[0m         method\u001b[39m=\u001b[39;49mrequest\u001b[39m.\u001b[39;49mmethod,\n\u001b[0;32m    491\u001b[0m         url\u001b[39m=\u001b[39;49murl,\n\u001b[0;32m    492\u001b[0m         body\u001b[39m=\u001b[39;49mrequest\u001b[39m.\u001b[39;49mbody,\n\u001b[0;32m    493\u001b[0m         headers\u001b[39m=\u001b[39;49mrequest\u001b[39m.\u001b[39;49mheaders,\n\u001b[0;32m    494\u001b[0m         redirect\u001b[39m=\u001b[39;49m\u001b[39mFalse\u001b[39;49;00m,\n\u001b[0;32m    495\u001b[0m         assert_same_host\u001b[39m=\u001b[39;49m\u001b[39mFalse\u001b[39;49;00m,\n\u001b[0;32m    496\u001b[0m         preload_content\u001b[39m=\u001b[39;49m\u001b[39mFalse\u001b[39;49;00m,\n\u001b[0;32m    497\u001b[0m         decode_content\u001b[39m=\u001b[39;49m\u001b[39mFalse\u001b[39;49;00m,\n\u001b[0;32m    498\u001b[0m         retries\u001b[39m=\u001b[39;49m\u001b[39mself\u001b[39;49m\u001b[39m.\u001b[39;49mmax_retries,\n\u001b[0;32m    499\u001b[0m         timeout\u001b[39m=\u001b[39;49mtimeout,\n\u001b[0;32m    500\u001b[0m     )\n\u001b[0;32m    502\u001b[0m \u001b[39m# Send the request.\u001b[39;00m\n\u001b[0;32m    503\u001b[0m \u001b[39melse\u001b[39;00m:\n",
      "File \u001b[1;32mc:\\Users\\Pawan Kumar\\anaconda3\\lib\\site-packages\\urllib3\\connectionpool.py:787\u001b[0m, in \u001b[0;36mHTTPConnectionPool.urlopen\u001b[1;34m(self, method, url, body, headers, retries, redirect, assert_same_host, timeout, pool_timeout, release_conn, chunked, body_pos, **response_kw)\u001b[0m\n\u001b[0;32m    785\u001b[0m     e \u001b[39m=\u001b[39m ProtocolError(\u001b[39m\"\u001b[39m\u001b[39mConnection aborted.\u001b[39m\u001b[39m\"\u001b[39m, e)\n\u001b[1;32m--> 787\u001b[0m retries \u001b[39m=\u001b[39m retries\u001b[39m.\u001b[39;49mincrement(\n\u001b[0;32m    788\u001b[0m     method, url, error\u001b[39m=\u001b[39;49me, _pool\u001b[39m=\u001b[39;49m\u001b[39mself\u001b[39;49m, _stacktrace\u001b[39m=\u001b[39;49msys\u001b[39m.\u001b[39;49mexc_info()[\u001b[39m2\u001b[39;49m]\n\u001b[0;32m    789\u001b[0m )\n\u001b[0;32m    790\u001b[0m retries\u001b[39m.\u001b[39msleep()\n",
      "File \u001b[1;32mc:\\Users\\Pawan Kumar\\anaconda3\\lib\\site-packages\\urllib3\\util\\retry.py:550\u001b[0m, in \u001b[0;36mRetry.increment\u001b[1;34m(self, method, url, response, error, _pool, _stacktrace)\u001b[0m\n\u001b[0;32m    549\u001b[0m \u001b[39mif\u001b[39;00m read \u001b[39mis\u001b[39;00m \u001b[39mFalse\u001b[39;00m \u001b[39mor\u001b[39;00m \u001b[39mnot\u001b[39;00m \u001b[39mself\u001b[39m\u001b[39m.\u001b[39m_is_method_retryable(method):\n\u001b[1;32m--> 550\u001b[0m     \u001b[39mraise\u001b[39;00m six\u001b[39m.\u001b[39;49mreraise(\u001b[39mtype\u001b[39;49m(error), error, _stacktrace)\n\u001b[0;32m    551\u001b[0m \u001b[39melif\u001b[39;00m read \u001b[39mis\u001b[39;00m \u001b[39mnot\u001b[39;00m \u001b[39mNone\u001b[39;00m:\n",
      "File \u001b[1;32mc:\\Users\\Pawan Kumar\\anaconda3\\lib\\site-packages\\urllib3\\packages\\six.py:769\u001b[0m, in \u001b[0;36mreraise\u001b[1;34m(tp, value, tb)\u001b[0m\n\u001b[0;32m    768\u001b[0m \u001b[39mif\u001b[39;00m value\u001b[39m.\u001b[39m__traceback__ \u001b[39mis\u001b[39;00m \u001b[39mnot\u001b[39;00m tb:\n\u001b[1;32m--> 769\u001b[0m     \u001b[39mraise\u001b[39;00m value\u001b[39m.\u001b[39mwith_traceback(tb)\n\u001b[0;32m    770\u001b[0m \u001b[39mraise\u001b[39;00m value\n",
      "File \u001b[1;32mc:\\Users\\Pawan Kumar\\anaconda3\\lib\\site-packages\\urllib3\\connectionpool.py:703\u001b[0m, in \u001b[0;36mHTTPConnectionPool.urlopen\u001b[1;34m(self, method, url, body, headers, retries, redirect, assert_same_host, timeout, pool_timeout, release_conn, chunked, body_pos, **response_kw)\u001b[0m\n\u001b[0;32m    702\u001b[0m \u001b[39m# Make the request on the httplib connection object.\u001b[39;00m\n\u001b[1;32m--> 703\u001b[0m httplib_response \u001b[39m=\u001b[39m \u001b[39mself\u001b[39;49m\u001b[39m.\u001b[39;49m_make_request(\n\u001b[0;32m    704\u001b[0m     conn,\n\u001b[0;32m    705\u001b[0m     method,\n\u001b[0;32m    706\u001b[0m     url,\n\u001b[0;32m    707\u001b[0m     timeout\u001b[39m=\u001b[39;49mtimeout_obj,\n\u001b[0;32m    708\u001b[0m     body\u001b[39m=\u001b[39;49mbody,\n\u001b[0;32m    709\u001b[0m     headers\u001b[39m=\u001b[39;49mheaders,\n\u001b[0;32m    710\u001b[0m     chunked\u001b[39m=\u001b[39;49mchunked,\n\u001b[0;32m    711\u001b[0m )\n\u001b[0;32m    713\u001b[0m \u001b[39m# If we're going to release the connection in ``finally:``, then\u001b[39;00m\n\u001b[0;32m    714\u001b[0m \u001b[39m# the response doesn't need to know about the connection. Otherwise\u001b[39;00m\n\u001b[0;32m    715\u001b[0m \u001b[39m# it will also try to release it and we'll have a double-release\u001b[39;00m\n\u001b[0;32m    716\u001b[0m \u001b[39m# mess.\u001b[39;00m\n",
      "File \u001b[1;32mc:\\Users\\Pawan Kumar\\anaconda3\\lib\\site-packages\\urllib3\\connectionpool.py:449\u001b[0m, in \u001b[0;36mHTTPConnectionPool._make_request\u001b[1;34m(self, conn, method, url, timeout, chunked, **httplib_request_kw)\u001b[0m\n\u001b[0;32m    445\u001b[0m         \u001b[39mexcept\u001b[39;00m \u001b[39mBaseException\u001b[39;00m \u001b[39mas\u001b[39;00m e:\n\u001b[0;32m    446\u001b[0m             \u001b[39m# Remove the TypeError from the exception chain in\u001b[39;00m\n\u001b[0;32m    447\u001b[0m             \u001b[39m# Python 3 (including for exceptions like SystemExit).\u001b[39;00m\n\u001b[0;32m    448\u001b[0m             \u001b[39m# Otherwise it looks like a bug in the code.\u001b[39;00m\n\u001b[1;32m--> 449\u001b[0m             six\u001b[39m.\u001b[39;49mraise_from(e, \u001b[39mNone\u001b[39;49;00m)\n\u001b[0;32m    450\u001b[0m \u001b[39mexcept\u001b[39;00m (SocketTimeout, BaseSSLError, SocketError) \u001b[39mas\u001b[39;00m e:\n",
      "File \u001b[1;32m<string>:3\u001b[0m, in \u001b[0;36mraise_from\u001b[1;34m(value, from_value)\u001b[0m\n",
      "File \u001b[1;32mc:\\Users\\Pawan Kumar\\anaconda3\\lib\\site-packages\\urllib3\\connectionpool.py:444\u001b[0m, in \u001b[0;36mHTTPConnectionPool._make_request\u001b[1;34m(self, conn, method, url, timeout, chunked, **httplib_request_kw)\u001b[0m\n\u001b[0;32m    443\u001b[0m \u001b[39mtry\u001b[39;00m:\n\u001b[1;32m--> 444\u001b[0m     httplib_response \u001b[39m=\u001b[39m conn\u001b[39m.\u001b[39;49mgetresponse()\n\u001b[0;32m    445\u001b[0m \u001b[39mexcept\u001b[39;00m \u001b[39mBaseException\u001b[39;00m \u001b[39mas\u001b[39;00m e:\n\u001b[0;32m    446\u001b[0m     \u001b[39m# Remove the TypeError from the exception chain in\u001b[39;00m\n\u001b[0;32m    447\u001b[0m     \u001b[39m# Python 3 (including for exceptions like SystemExit).\u001b[39;00m\n\u001b[0;32m    448\u001b[0m     \u001b[39m# Otherwise it looks like a bug in the code.\u001b[39;00m\n",
      "File \u001b[1;32mc:\\Users\\Pawan Kumar\\anaconda3\\lib\\http\\client.py:1374\u001b[0m, in \u001b[0;36mHTTPConnection.getresponse\u001b[1;34m(self)\u001b[0m\n\u001b[0;32m   1373\u001b[0m \u001b[39mtry\u001b[39;00m:\n\u001b[1;32m-> 1374\u001b[0m     response\u001b[39m.\u001b[39;49mbegin()\n\u001b[0;32m   1375\u001b[0m \u001b[39mexcept\u001b[39;00m \u001b[39mConnectionError\u001b[39;00m:\n",
      "File \u001b[1;32mc:\\Users\\Pawan Kumar\\anaconda3\\lib\\http\\client.py:318\u001b[0m, in \u001b[0;36mHTTPResponse.begin\u001b[1;34m(self)\u001b[0m\n\u001b[0;32m    317\u001b[0m \u001b[39mwhile\u001b[39;00m \u001b[39mTrue\u001b[39;00m:\n\u001b[1;32m--> 318\u001b[0m     version, status, reason \u001b[39m=\u001b[39m \u001b[39mself\u001b[39;49m\u001b[39m.\u001b[39;49m_read_status()\n\u001b[0;32m    319\u001b[0m     \u001b[39mif\u001b[39;00m status \u001b[39m!=\u001b[39m CONTINUE:\n",
      "File \u001b[1;32mc:\\Users\\Pawan Kumar\\anaconda3\\lib\\http\\client.py:279\u001b[0m, in \u001b[0;36mHTTPResponse._read_status\u001b[1;34m(self)\u001b[0m\n\u001b[0;32m    278\u001b[0m \u001b[39mdef\u001b[39;00m \u001b[39m_read_status\u001b[39m(\u001b[39mself\u001b[39m):\n\u001b[1;32m--> 279\u001b[0m     line \u001b[39m=\u001b[39m \u001b[39mstr\u001b[39m(\u001b[39mself\u001b[39;49m\u001b[39m.\u001b[39;49mfp\u001b[39m.\u001b[39;49mreadline(_MAXLINE \u001b[39m+\u001b[39;49m \u001b[39m1\u001b[39;49m), \u001b[39m\"\u001b[39m\u001b[39miso-8859-1\u001b[39m\u001b[39m\"\u001b[39m)\n\u001b[0;32m    280\u001b[0m     \u001b[39mif\u001b[39;00m \u001b[39mlen\u001b[39m(line) \u001b[39m>\u001b[39m _MAXLINE:\n",
      "File \u001b[1;32mc:\\Users\\Pawan Kumar\\anaconda3\\lib\\socket.py:705\u001b[0m, in \u001b[0;36mSocketIO.readinto\u001b[1;34m(self, b)\u001b[0m\n\u001b[0;32m    704\u001b[0m \u001b[39mtry\u001b[39;00m:\n\u001b[1;32m--> 705\u001b[0m     \u001b[39mreturn\u001b[39;00m \u001b[39mself\u001b[39;49m\u001b[39m.\u001b[39;49m_sock\u001b[39m.\u001b[39;49mrecv_into(b)\n\u001b[0;32m    706\u001b[0m \u001b[39mexcept\u001b[39;00m timeout:\n",
      "\u001b[1;31mProtocolError\u001b[0m: ('Connection aborted.', ConnectionResetError(10054, 'An existing connection was forcibly closed by the remote host', None, 10054, None))",
      "\nDuring handling of the above exception, another exception occurred:\n",
      "\u001b[1;31mConnectionError\u001b[0m                           Traceback (most recent call last)",
      "Cell \u001b[1;32mIn[59], line 26\u001b[0m\n\u001b[0;32m      1\u001b[0m headers \u001b[39m=\u001b[39m {\n\u001b[0;32m      2\u001b[0m     \u001b[39m'\u001b[39m\u001b[39mcontent-type\u001b[39m\u001b[39m'\u001b[39m: \u001b[39m'\u001b[39m\u001b[39mapplication/json\u001b[39m\u001b[39m'\u001b[39m,\n\u001b[0;32m      3\u001b[0m     \u001b[39m'\u001b[39m\u001b[39mAuthorization\u001b[39m\u001b[39m'\u001b[39m: \u001b[39m'\u001b[39m\u001b[39mBearer \u001b[39m\u001b[39m%s\u001b[39;00m\u001b[39m'\u001b[39m\u001b[39m%\u001b[39mtoken, \n\u001b[0;32m      4\u001b[0m }\n\u001b[0;32m      6\u001b[0m data \u001b[39m=\u001b[39m {\u001b[39m\"\u001b[39m\u001b[39midentityDetails\u001b[39m\u001b[39m\"\u001b[39m:{\n\u001b[0;32m      7\u001b[0m     \u001b[39m\"\u001b[39m\u001b[39muserId\u001b[39m\u001b[39m\"\u001b[39m: \u001b[39m\"\u001b[39m\u001b[39mGURIYA  \u001b[39m\u001b[39m%s\u001b[39;00m\u001b[39m\"\u001b[39m\u001b[39m%\u001b[39muserId,\n\u001b[0;32m      8\u001b[0m     \u001b[39m\"\u001b[39m\u001b[39mStudentName\u001b[39m\u001b[39m\"\u001b[39m:\u001b[39m\"\u001b[39m\u001b[39mKM. GURIYA\u001b[39m\u001b[39m\"\u001b[39m, \n\u001b[1;32m   (...)\u001b[0m\n\u001b[0;32m     22\u001b[0m         }\n\u001b[0;32m     23\u001b[0m        }\n\u001b[1;32m---> 26\u001b[0m response \u001b[39m=\u001b[39m requests\u001b[39m.\u001b[39;49mpost(\u001b[39m'\u001b[39;49m\u001b[39mhttp://localhost:8081/api/v1/Student/invite\u001b[39;49m\u001b[39m'\u001b[39;49m, headers\u001b[39m=\u001b[39;49mheaders, json\u001b[39m=\u001b[39;49mdata)\n",
      "File \u001b[1;32mc:\\Users\\Pawan Kumar\\anaconda3\\lib\\site-packages\\requests\\api.py:115\u001b[0m, in \u001b[0;36mpost\u001b[1;34m(url, data, json, **kwargs)\u001b[0m\n\u001b[0;32m    103\u001b[0m \u001b[39mdef\u001b[39;00m \u001b[39mpost\u001b[39m(url, data\u001b[39m=\u001b[39m\u001b[39mNone\u001b[39;00m, json\u001b[39m=\u001b[39m\u001b[39mNone\u001b[39;00m, \u001b[39m*\u001b[39m\u001b[39m*\u001b[39mkwargs):\n\u001b[0;32m    104\u001b[0m     \u001b[39mr\u001b[39m\u001b[39m\"\"\"Sends a POST request.\u001b[39;00m\n\u001b[0;32m    105\u001b[0m \n\u001b[0;32m    106\u001b[0m \u001b[39m    :param url: URL for the new :class:`Request` object.\u001b[39;00m\n\u001b[1;32m   (...)\u001b[0m\n\u001b[0;32m    112\u001b[0m \u001b[39m    :rtype: requests.Response\u001b[39;00m\n\u001b[0;32m    113\u001b[0m \u001b[39m    \"\"\"\u001b[39;00m\n\u001b[1;32m--> 115\u001b[0m     \u001b[39mreturn\u001b[39;00m request(\u001b[39m\"\u001b[39m\u001b[39mpost\u001b[39m\u001b[39m\"\u001b[39m, url, data\u001b[39m=\u001b[39mdata, json\u001b[39m=\u001b[39mjson, \u001b[39m*\u001b[39m\u001b[39m*\u001b[39mkwargs)\n",
      "File \u001b[1;32mc:\\Users\\Pawan Kumar\\anaconda3\\lib\\site-packages\\requests\\api.py:59\u001b[0m, in \u001b[0;36mrequest\u001b[1;34m(method, url, **kwargs)\u001b[0m\n\u001b[0;32m     55\u001b[0m \u001b[39m# By using the 'with' statement we are sure the session is closed, thus we\u001b[39;00m\n\u001b[0;32m     56\u001b[0m \u001b[39m# avoid leaving sockets open which can trigger a ResourceWarning in some\u001b[39;00m\n\u001b[0;32m     57\u001b[0m \u001b[39m# cases, and look like a memory leak in others.\u001b[39;00m\n\u001b[0;32m     58\u001b[0m \u001b[39mwith\u001b[39;00m sessions\u001b[39m.\u001b[39mSession() \u001b[39mas\u001b[39;00m session:\n\u001b[1;32m---> 59\u001b[0m     \u001b[39mreturn\u001b[39;00m session\u001b[39m.\u001b[39mrequest(method\u001b[39m=\u001b[39mmethod, url\u001b[39m=\u001b[39murl, \u001b[39m*\u001b[39m\u001b[39m*\u001b[39mkwargs)\n",
      "File \u001b[1;32mc:\\Users\\Pawan Kumar\\anaconda3\\lib\\site-packages\\requests\\sessions.py:587\u001b[0m, in \u001b[0;36mSession.request\u001b[1;34m(self, method, url, params, data, headers, cookies, files, auth, timeout, allow_redirects, proxies, hooks, stream, verify, cert, json)\u001b[0m\n\u001b[0;32m    582\u001b[0m send_kwargs \u001b[39m=\u001b[39m {\n\u001b[0;32m    583\u001b[0m     \u001b[39m\"\u001b[39m\u001b[39mtimeout\u001b[39m\u001b[39m\"\u001b[39m: timeout,\n\u001b[0;32m    584\u001b[0m     \u001b[39m\"\u001b[39m\u001b[39mallow_redirects\u001b[39m\u001b[39m\"\u001b[39m: allow_redirects,\n\u001b[0;32m    585\u001b[0m }\n\u001b[0;32m    586\u001b[0m send_kwargs\u001b[39m.\u001b[39mupdate(settings)\n\u001b[1;32m--> 587\u001b[0m resp \u001b[39m=\u001b[39m \u001b[39mself\u001b[39m\u001b[39m.\u001b[39msend(prep, \u001b[39m*\u001b[39m\u001b[39m*\u001b[39msend_kwargs)\n\u001b[0;32m    589\u001b[0m \u001b[39mreturn\u001b[39;00m resp\n",
      "File \u001b[1;32mc:\\Users\\Pawan Kumar\\anaconda3\\lib\\site-packages\\requests\\sessions.py:701\u001b[0m, in \u001b[0;36mSession.send\u001b[1;34m(self, request, **kwargs)\u001b[0m\n\u001b[0;32m    698\u001b[0m start \u001b[39m=\u001b[39m preferred_clock()\n\u001b[0;32m    700\u001b[0m \u001b[39m# Send the request\u001b[39;00m\n\u001b[1;32m--> 701\u001b[0m r \u001b[39m=\u001b[39m adapter\u001b[39m.\u001b[39msend(request, \u001b[39m*\u001b[39m\u001b[39m*\u001b[39mkwargs)\n\u001b[0;32m    703\u001b[0m \u001b[39m# Total elapsed time of the request (approximately)\u001b[39;00m\n\u001b[0;32m    704\u001b[0m elapsed \u001b[39m=\u001b[39m preferred_clock() \u001b[39m-\u001b[39m start\n",
      "File \u001b[1;32mc:\\Users\\Pawan Kumar\\anaconda3\\lib\\site-packages\\requests\\adapters.py:547\u001b[0m, in \u001b[0;36mHTTPAdapter.send\u001b[1;34m(self, request, stream, timeout, verify, cert, proxies)\u001b[0m\n\u001b[0;32m    544\u001b[0m             \u001b[39mraise\u001b[39;00m\n\u001b[0;32m    546\u001b[0m \u001b[39mexcept\u001b[39;00m (ProtocolError, \u001b[39mOSError\u001b[39;00m) \u001b[39mas\u001b[39;00m err:\n\u001b[1;32m--> 547\u001b[0m     \u001b[39mraise\u001b[39;00m \u001b[39mConnectionError\u001b[39;00m(err, request\u001b[39m=\u001b[39mrequest)\n\u001b[0;32m    549\u001b[0m \u001b[39mexcept\u001b[39;00m MaxRetryError \u001b[39mas\u001b[39;00m e:\n\u001b[0;32m    550\u001b[0m     \u001b[39mif\u001b[39;00m \u001b[39misinstance\u001b[39m(e\u001b[39m.\u001b[39mreason, ConnectTimeoutError):\n\u001b[0;32m    551\u001b[0m         \u001b[39m# TODO: Remove this in 3.0.0: see #2811\u001b[39;00m\n",
      "\u001b[1;31mConnectionError\u001b[0m: ('Connection aborted.', ConnectionResetError(10054, 'An existing connection was forcibly closed by the remote host', None, 10054, None))"
     ]
    }
   ],
   "source": [
    "headers = {\n",
    "    'content-type': 'application/json',\n",
    "    'Authorization': 'Bearer %s'%token, \n",
    "}\n",
    "\n",
    "data = {\"identityDetails\":{\n",
    "    \"userId\": \"GURIYA  %s\"%userId,\n",
    "    \"StudentName\":\"KM. GURIYA\", \n",
    "    \"MotherFullName\":\"SMT. PARWATI DEVI\",\n",
    "    \"FatherFullName\":\"SRI CHANDRIKA PRASAD\",\n",
    "    \"Gender\":\"F\",\n",
    "    \"mobile\": \"987654321\",\n",
    "    \"email\": \"123@gmail.com\",\n",
    "    \"Institute\": \"UP Public School\",\n",
    "    \"StudentKey\":\"317209\",\n",
    "    \"centerKey\":\"450\",\n",
    "    \"address\":\"Lucknow UP\",\n",
    "    \"RollNo\":\"123456\",\n",
    "    \"EnrollmentNo\":\"22102543000511\",\n",
    "    \"DateOfBirth\":\"12-12-2010\",\n",
    "    \"CourseName\":\"DIPLOMA IN GENERAL NURSING & MIDWIFERY\"\n",
    "        }\n",
    "       }\n",
    "\n",
    "\n",
    "response = requests.post('http://localhost:8081/api/v1/Student/invite', headers=headers, json=data)\n"
   ]
  },
  {
   "attachments": {},
   "cell_type": "markdown",
   "id": "f91d9712",
   "metadata": {},
   "source": [
    "## Create Student"
   ]
  },
  {
   "cell_type": "code",
   "execution_count": 21,
   "id": "58946400",
   "metadata": {},
   "outputs": [],
   "source": [
    "headers = {\n",
    "    'content-type': 'application/json',\n",
    "    'Authorization': 'Bearer %s'%token, \n",
    "}\n",
    "\n",
    "data = {\n",
    "    \"userId\": \"GURIYA  %s\"%userId,\n",
    "    \"StudentName\":\"KM. GURIYA\", \n",
    "    \"MotherFullName\":\"SMT. PARWATI DEVI\",\n",
    "    \"FatherFullName\":\"SRI CHANDRIKA PRASAD\",\n",
    "    \"Gender\":\"F\",\n",
    "    \"mobile\": \"98765432221\",\n",
    "    \"email\": \"12333@gmail.com\",\n",
    "    \"Institute\": \"UP Public School\",\n",
    "    \"StudentKey\":\"317209\",\n",
    "    \"centerKey\":\"450\",\n",
    "    \"address\":\"Lucknow UP\",\n",
    "    \"RollNo\":\"123456\",\n",
    "    \"EnrollmentNo\":\"22102543000511\",\n",
    "    \"DateOfBirth\":\"12-12-2010\",\n",
    "    \"CourseName\":\"DIPLOMA IN GENERAL NURSING & MIDWIFERY\"\n",
    "        }\n",
    "\n",
    "\n",
    "response = requests.post('http://localhost:8081/api/v1/Student/invite', headers=headers, json=data)"
   ]
  },
  {
   "cell_type": "code",
   "execution_count": 22,
   "id": "a486eb16",
   "metadata": {},
   "outputs": [
    {
     "data": {
      "text/plain": [
       "{'id': 'sunbird-rc.registry.invite',\n",
       " 'ver': '1.0',\n",
       " 'ets': 1690807520296,\n",
       " 'params': {'resmsgid': '',\n",
       "  'msgid': '9d31c13f-24e3-487d-b418-f9fbad148c78',\n",
       "  'err': '',\n",
       "  'status': 'UNSUCCESSFUL',\n",
       "  'errmsg': 'Exception executing consequence for rule \"Create entity owner for newly added owner fields\" in dev.sunbirdrc.workflow: [Error: keycloakAdminUtil.createUser(stateDefinition.getEntityName(), stateDefinition.getUpdated().get(\"userId\").textValue(),        stateDefinition.getUpdated().get(\"email\").textValue(), stateDefinition.getUpdated().get(\"mobile\").textValue()): javax.ws.rs.NotAuthorizedException: HTTP 401 Unauthorized]\\n[Near : {... String owner = keycloakAdminUt ....}]\\n             ^\\n[Line: 1, Column: 1]'},\n",
       " 'responseCode': 'OK'}"
      ]
     },
     "execution_count": 22,
     "metadata": {},
     "output_type": "execute_result"
    }
   ],
   "source": [
    "response.json()\n",
    "\n"
   ]
  },
  {
   "cell_type": "code",
   "execution_count": 23,
   "id": "c634f6ae",
   "metadata": {},
   "outputs": [
    {
     "ename": "KeyError",
     "evalue": "'result'",
     "output_type": "error",
     "traceback": [
      "\u001b[1;31m---------------------------------------------------------------------------\u001b[0m",
      "\u001b[1;31mKeyError\u001b[0m                                  Traceback (most recent call last)",
      "Cell \u001b[1;32mIn[23], line 1\u001b[0m\n\u001b[1;32m----> 1\u001b[0m sid \u001b[39m=\u001b[39m response\u001b[39m.\u001b[39;49mjson()[\u001b[39m\"\u001b[39;49m\u001b[39mresult\u001b[39;49m\u001b[39m\"\u001b[39;49m][\u001b[39m\"\u001b[39m\u001b[39mStudent\u001b[39m\u001b[39m\"\u001b[39m][\u001b[39m\"\u001b[39m\u001b[39mosid\u001b[39m\u001b[39m\"\u001b[39m]\n\u001b[0;32m      2\u001b[0m \u001b[39mprint\u001b[39m(sid)\n",
      "\u001b[1;31mKeyError\u001b[0m: 'result'"
     ]
    }
   ],
   "source": [
    "sid = response.json()[\"result\"][\"Student\"][\"osid\"]\n",
    "print(sid)\n"
   ]
  },
  {
   "attachments": {},
   "cell_type": "markdown",
   "id": "7c08b942",
   "metadata": {},
   "source": [
    "# Read the Student Data from registry"
   ]
  },
  {
   "cell_type": "code",
   "execution_count": 24,
   "id": "24a56dc8",
   "metadata": {},
   "outputs": [
    {
     "ename": "NameError",
     "evalue": "name 'sid' is not defined",
     "output_type": "error",
     "traceback": [
      "\u001b[1;31m---------------------------------------------------------------------------\u001b[0m",
      "\u001b[1;31mNameError\u001b[0m                                 Traceback (most recent call last)",
      "Cell \u001b[1;32mIn[24], line 6\u001b[0m\n\u001b[0;32m      1\u001b[0m headers \u001b[39m=\u001b[39m {\n\u001b[0;32m      2\u001b[0m     \u001b[39m'\u001b[39m\u001b[39mcontent-type\u001b[39m\u001b[39m'\u001b[39m: \u001b[39m'\u001b[39m\u001b[39mapplication/json\u001b[39m\u001b[39m'\u001b[39m,\n\u001b[0;32m      3\u001b[0m     \u001b[39m'\u001b[39m\u001b[39mAuthorization\u001b[39m\u001b[39m'\u001b[39m: \u001b[39m'\u001b[39m\u001b[39mBearer \u001b[39m\u001b[39m%s\u001b[39;00m\u001b[39m'\u001b[39m\u001b[39m%\u001b[39mtoken, \n\u001b[0;32m      4\u001b[0m }\n\u001b[1;32m----> 6\u001b[0m response \u001b[39m=\u001b[39m requests\u001b[39m.\u001b[39mget(\u001b[39m'\u001b[39m\u001b[39mhttp://localhost:8081/api/v1/\u001b[39m\u001b[39m%s\u001b[39;00m\u001b[39m/\u001b[39m\u001b[39m%s\u001b[39;00m\u001b[39m'\u001b[39m\u001b[39m%\u001b[39m(\u001b[39m\"\u001b[39m\u001b[39mStudent\u001b[39m\u001b[39m\"\u001b[39m, sid), headers\u001b[39m=\u001b[39mheaders)\n\u001b[0;32m      7\u001b[0m \u001b[39mprint\u001b[39m(response\u001b[39m.\u001b[39mstatus_code)\n\u001b[0;32m      8\u001b[0m response\u001b[39m.\u001b[39mjson()\n",
      "\u001b[1;31mNameError\u001b[0m: name 'sid' is not defined"
     ]
    }
   ],
   "source": [
    "\n",
    "headers = {\n",
    "    'content-type': 'application/json',\n",
    "    'Authorization': 'Bearer %s'%token, \n",
    "}\n",
    "\n",
    "response = requests.get('http://localhost:8081/api/v1/%s/%s'%(\"Student\", sid), headers=headers)\n",
    "print(response.status_code)\n",
    "response.json()\n"
   ]
  },
  {
   "attachments": {},
   "cell_type": "markdown",
   "id": "f84e8451",
   "metadata": {},
   "source": [
    "## Raise a claim"
   ]
  },
  {
   "cell_type": "code",
   "execution_count": 79,
   "id": "b498e02c",
   "metadata": {},
   "outputs": [
    {
     "name": "stdout",
     "output_type": "stream",
     "text": [
      "401\n"
     ]
    },
    {
     "data": {
      "text/plain": [
       "{'id': 'sunbird-rc.registry.update',\n",
       " 'ver': '1.0',\n",
       " 'ets': 1690365704559,\n",
       " 'params': {'resmsgid': '',\n",
       "  'msgid': '54212973-702a-4981-8266-6edc2f5309ba',\n",
       "  'err': '',\n",
       "  'status': 'UNSUCCESSFUL',\n",
       "  'errmsg': 'Record with aa9c423a-7366-4678-ab6f-9ac6b735886a not found in Elastic-search'},\n",
       " 'responseCode': 'OK'}"
      ]
     },
     "execution_count": 79,
     "metadata": {},
     "output_type": "execute_result"
    }
   ],
   "source": [
    "headers = {\n",
    "    'content-type': 'application/json',\n",
    "    'authorization': 'bearer %s'%token,\n",
    "}\n",
    "\n",
    "params = (\n",
    "    ('send', 'true'),\n",
    ")\n",
    "\n",
    "data = {\n",
    "    \"entityName\":\"Student\",\n",
    "    \"entityId\":\"%s\"%sid,\n",
    "    \"additionalInput\":{\"idx\": \"%s\"%sid}\n",
    "}\n",
    "id=sid\n",
    "response = requests.post('http://localhost:8081/api/v1/Student/1-aa9c423a-7366-4678-ab6f-9ac6b735886a/claims?send=true', headers=headers, params=params, json=data)\n",
    "\n",
    "print(response.status_code)\n",
    "response.json()\n"
   ]
  },
  {
   "cell_type": "code",
   "execution_count": 80,
   "id": "7647f0e1",
   "metadata": {},
   "outputs": [
    {
     "name": "stdout",
     "output_type": "stream",
     "text": [
      "200\n"
     ]
    },
    {
     "data": {
      "text/plain": [
       "{'DateOfBirth': '12-12-2010',\n",
       " 'CourseName': 'DIPLOMA IN GENERAL NURSING & MIDWIFERY',\n",
       " 'RollNo': '123456',\n",
       " 'address': 'Lucknow UP',\n",
       " 'FatherFullName': 'SRI CHANDRIKA PRASAD',\n",
       " '@type': 'Student',\n",
       " 'mobile': '987654321',\n",
       " 'Gender': 'F',\n",
       " 'osid': '1-49321a67-91a4-4f22-9df5-a7ff6b5a52cc',\n",
       " 'StudentKey': '317209',\n",
       " 'userId': 'GURIYA  63068141973',\n",
       " 'EnrollmentNo': '22102543000511',\n",
       " 'MotherFullName': 'SMT. PARWATI DEVI',\n",
       " 'Institute': 'UP Public School',\n",
       " 'claims': [{'entityName': 'Student',\n",
       "   'entityId': '1-667390eb-142a-4fc9-bfc2-7c9d69b74a3b',\n",
       "   'osid': '1-da09c9b5-6f3c-4e98-81ec-f3b1fc364687'}],\n",
       " 'centerKey': '450',\n",
       " 'StudentName': 'KM. GURIYA',\n",
       " 'email': '123@gmail.com'}"
      ]
     },
     "execution_count": 80,
     "metadata": {},
     "output_type": "execute_result"
    }
   ],
   "source": [
    "headers = {\n",
    "    'content-type': 'application/json',\n",
    "    'Authorization': 'Bearer %s'%token, \n",
    "}\n",
    "\n",
    "response = requests.get('http://localhost:8081/api/v1/%s/%s'%(\"Student\", sid), headers=headers)\n",
    "print(response.status_code)\n",
    "response.json()"
   ]
  },
  {
   "attachments": {},
   "cell_type": "markdown",
   "id": "4ca1ce2e",
   "metadata": {},
   "source": [
    "## As get all claims"
   ]
  },
  {
   "cell_type": "code",
   "execution_count": 82,
   "id": "9e091faf",
   "metadata": {},
   "outputs": [
    {
     "name": "stdout",
     "output_type": "stream",
     "text": [
      "<Response [401]>\n",
      "<Response [401]>\n"
     ]
    },
    {
     "ename": "JSONDecodeError",
     "evalue": "Expecting value: line 1 column 1 (char 0)",
     "output_type": "error",
     "traceback": [
      "\u001b[1;31m---------------------------------------------------------------------------\u001b[0m",
      "\u001b[1;31mJSONDecodeError\u001b[0m                           Traceback (most recent call last)",
      "File \u001b[1;32mc:\\Users\\Pawan Kumar\\anaconda3\\lib\\site-packages\\requests\\models.py:971\u001b[0m, in \u001b[0;36mResponse.json\u001b[1;34m(self, **kwargs)\u001b[0m\n\u001b[0;32m    970\u001b[0m \u001b[39mtry\u001b[39;00m:\n\u001b[1;32m--> 971\u001b[0m     \u001b[39mreturn\u001b[39;00m complexjson\u001b[39m.\u001b[39mloads(\u001b[39mself\u001b[39m\u001b[39m.\u001b[39mtext, \u001b[39m*\u001b[39m\u001b[39m*\u001b[39mkwargs)\n\u001b[0;32m    972\u001b[0m \u001b[39mexcept\u001b[39;00m JSONDecodeError \u001b[39mas\u001b[39;00m e:\n\u001b[0;32m    973\u001b[0m     \u001b[39m# Catch JSON-related errors and raise as requests.JSONDecodeError\u001b[39;00m\n\u001b[0;32m    974\u001b[0m     \u001b[39m# This aliases json.JSONDecodeError and simplejson.JSONDecodeError\u001b[39;00m\n",
      "File \u001b[1;32mc:\\Users\\Pawan Kumar\\anaconda3\\lib\\json\\__init__.py:346\u001b[0m, in \u001b[0;36mloads\u001b[1;34m(s, cls, object_hook, parse_float, parse_int, parse_constant, object_pairs_hook, **kw)\u001b[0m\n\u001b[0;32m    343\u001b[0m \u001b[39mif\u001b[39;00m (\u001b[39mcls\u001b[39m \u001b[39mis\u001b[39;00m \u001b[39mNone\u001b[39;00m \u001b[39mand\u001b[39;00m object_hook \u001b[39mis\u001b[39;00m \u001b[39mNone\u001b[39;00m \u001b[39mand\u001b[39;00m\n\u001b[0;32m    344\u001b[0m         parse_int \u001b[39mis\u001b[39;00m \u001b[39mNone\u001b[39;00m \u001b[39mand\u001b[39;00m parse_float \u001b[39mis\u001b[39;00m \u001b[39mNone\u001b[39;00m \u001b[39mand\u001b[39;00m\n\u001b[0;32m    345\u001b[0m         parse_constant \u001b[39mis\u001b[39;00m \u001b[39mNone\u001b[39;00m \u001b[39mand\u001b[39;00m object_pairs_hook \u001b[39mis\u001b[39;00m \u001b[39mNone\u001b[39;00m \u001b[39mand\u001b[39;00m \u001b[39mnot\u001b[39;00m kw):\n\u001b[1;32m--> 346\u001b[0m     \u001b[39mreturn\u001b[39;00m _default_decoder\u001b[39m.\u001b[39;49mdecode(s)\n\u001b[0;32m    347\u001b[0m \u001b[39mif\u001b[39;00m \u001b[39mcls\u001b[39m \u001b[39mis\u001b[39;00m \u001b[39mNone\u001b[39;00m:\n",
      "File \u001b[1;32mc:\\Users\\Pawan Kumar\\anaconda3\\lib\\json\\decoder.py:337\u001b[0m, in \u001b[0;36mJSONDecoder.decode\u001b[1;34m(self, s, _w)\u001b[0m\n\u001b[0;32m    333\u001b[0m \u001b[39m\"\"\"Return the Python representation of ``s`` (a ``str`` instance\u001b[39;00m\n\u001b[0;32m    334\u001b[0m \u001b[39mcontaining a JSON document).\u001b[39;00m\n\u001b[0;32m    335\u001b[0m \n\u001b[0;32m    336\u001b[0m \u001b[39m\"\"\"\u001b[39;00m\n\u001b[1;32m--> 337\u001b[0m obj, end \u001b[39m=\u001b[39m \u001b[39mself\u001b[39;49m\u001b[39m.\u001b[39;49mraw_decode(s, idx\u001b[39m=\u001b[39;49m_w(s, \u001b[39m0\u001b[39;49m)\u001b[39m.\u001b[39;49mend())\n\u001b[0;32m    338\u001b[0m end \u001b[39m=\u001b[39m _w(s, end)\u001b[39m.\u001b[39mend()\n",
      "File \u001b[1;32mc:\\Users\\Pawan Kumar\\anaconda3\\lib\\json\\decoder.py:355\u001b[0m, in \u001b[0;36mJSONDecoder.raw_decode\u001b[1;34m(self, s, idx)\u001b[0m\n\u001b[0;32m    354\u001b[0m \u001b[39mexcept\u001b[39;00m \u001b[39mStopIteration\u001b[39;00m \u001b[39mas\u001b[39;00m err:\n\u001b[1;32m--> 355\u001b[0m     \u001b[39mraise\u001b[39;00m JSONDecodeError(\u001b[39m\"\u001b[39m\u001b[39mExpecting value\u001b[39m\u001b[39m\"\u001b[39m, s, err\u001b[39m.\u001b[39mvalue) \u001b[39mfrom\u001b[39;00m \u001b[39mNone\u001b[39m\n\u001b[0;32m    356\u001b[0m \u001b[39mreturn\u001b[39;00m obj, end\n",
      "\u001b[1;31mJSONDecodeError\u001b[0m: Expecting value: line 1 column 1 (char 0)",
      "\nDuring handling of the above exception, another exception occurred:\n",
      "\u001b[1;31mJSONDecodeError\u001b[0m                           Traceback (most recent call last)",
      "Cell \u001b[1;32mIn[82], line 11\u001b[0m\n\u001b[0;32m      9\u001b[0m \u001b[39mprint\u001b[39m(response)\n\u001b[0;32m     10\u001b[0m \u001b[39m#claim_id = response.json()[-1][\"id\"]\u001b[39;00m\n\u001b[1;32m---> 11\u001b[0m response\u001b[39m.\u001b[39;49mjson()\n",
      "File \u001b[1;32mc:\\Users\\Pawan Kumar\\anaconda3\\lib\\site-packages\\requests\\models.py:975\u001b[0m, in \u001b[0;36mResponse.json\u001b[1;34m(self, **kwargs)\u001b[0m\n\u001b[0;32m    971\u001b[0m     \u001b[39mreturn\u001b[39;00m complexjson\u001b[39m.\u001b[39mloads(\u001b[39mself\u001b[39m\u001b[39m.\u001b[39mtext, \u001b[39m*\u001b[39m\u001b[39m*\u001b[39mkwargs)\n\u001b[0;32m    972\u001b[0m \u001b[39mexcept\u001b[39;00m JSONDecodeError \u001b[39mas\u001b[39;00m e:\n\u001b[0;32m    973\u001b[0m     \u001b[39m# Catch JSON-related errors and raise as requests.JSONDecodeError\u001b[39;00m\n\u001b[0;32m    974\u001b[0m     \u001b[39m# This aliases json.JSONDecodeError and simplejson.JSONDecodeError\u001b[39;00m\n\u001b[1;32m--> 975\u001b[0m     \u001b[39mraise\u001b[39;00m RequestsJSONDecodeError(e\u001b[39m.\u001b[39mmsg, e\u001b[39m.\u001b[39mdoc, e\u001b[39m.\u001b[39mpos)\n",
      "\u001b[1;31mJSONDecodeError\u001b[0m: Expecting value: line 1 column 1 (char 0)"
     ]
    }
   ],
   "source": [
    "headers = {\n",
    "    'content-type': 'application/json',\n",
    "    'Authorization': 'Bearer %s'%token, \n",
    "}\n",
    "\n",
    "\n",
    "response = requests.get('http://localhost:8081/api/v1/student/claims', headers=headers)\n",
    "print(response)\n",
    "print(response)\n",
    "#claim_id = response.json()[-1][\"id\"]\n",
    "response.json()"
   ]
  },
  {
   "attachments": {},
   "cell_type": "markdown",
   "id": "e243966b",
   "metadata": {},
   "source": [
    "## approve the claim - enable regulator login "
   ]
  },
  {
   "cell_type": "code",
   "execution_count": 53,
   "id": "336de33a",
   "metadata": {},
   "outputs": [
    {
     "name": "stdout",
     "output_type": "stream",
     "text": [
      "200\n"
     ]
    },
    {
     "data": {
      "text/plain": [
       "{'id': 'sunbird-rc.registry.update',\n",
       " 'ver': '1.0',\n",
       " 'ets': 1686819846764,\n",
       " 'params': {'resmsgid': '',\n",
       "  'msgid': 'c5ba4701-31ec-4e5e-891e-ed2e3c3b4dbd',\n",
       "  'err': '',\n",
       "  'status': 'SUCCESSFUL',\n",
       "  'errmsg': ''},\n",
       " 'responseCode': 'OK'}"
      ]
     },
     "execution_count": 53,
     "metadata": {},
     "output_type": "execute_result"
    }
   ],
   "source": [
    "headers = {\n",
    "    'content-type': 'application/json',\n",
    "    'Authorization': 'Bearer %s'%token, \n",
    "}\n",
    "data = {\n",
    "    \"action\":\"GRANT_CLAIM\",\n",
    "    \"notes\":\"26027466259ddd\"\n",
    "}\n",
    "response = requests.post('http://localhost:8081/api/v1/Student/1-aa9c423a-7366-4678-ab6f-9ac6b735886a/claims', headers=headers, json=data)\n",
    "print(response.status_code)\n",
    "response.json()"
   ]
  },
  {
   "attachments": {},
   "cell_type": "markdown",
   "id": "f0fed756",
   "metadata": {},
   "source": [
    "## Update User"
   ]
  },
  {
   "cell_type": "code",
   "execution_count": null,
   "id": "1e52504b",
   "metadata": {},
   "outputs": [
    {
     "name": "stdout",
     "output_type": "stream",
     "text": [
      "200\n"
     ]
    },
    {
     "data": {
      "text/plain": [
       "{'id': 'sunbird-rc.registry.update',\n",
       " 'ver': '1.0',\n",
       " 'ets': 1684497334465,\n",
       " 'params': {'resmsgid': '',\n",
       "  'msgid': '7d6984fe-47c9-4caf-afcc-c8904957c843',\n",
       "  'err': '',\n",
       "  'status': 'SUCCESSFUL',\n",
       "  'errmsg': ''},\n",
       " 'responseCode': 'OK'}"
      ]
     },
     "execution_count": 144,
     "metadata": {},
     "output_type": "execute_result"
    }
   ],
   "source": [
    "headers = {\n",
    "    'content-type': 'application/json',\n",
    "    'Authorization': 'Bearer %s'%token, \n",
    "}\n",
    "data = {\n",
    "    \"StudentName\":\"DDDKM. GURIYA  %s\"%userId, \n",
    "    \"MotherFullName\":\"AAASMT. PARWATI DEVI\",\n",
    "    \"FatherFullName\":\"SRI CHANDRIKA PRASAD\"\n",
    "}\n",
    "response = requests.put('http://localhost:8081/api/v1/Student/1-b003c5cc-811e-4f74-8273-203de1cfa1e1', headers=headers, json=data)\n",
    "print(response.status_code)\n",
    "response.json()"
   ]
  },
  {
   "cell_type": "code",
   "execution_count": null,
   "id": "f65576ff",
   "metadata": {},
   "outputs": [],
   "source": []
  }
 ],
 "metadata": {
  "kernelspec": {
   "display_name": "Python 3 (ipykernel)",
   "language": "python",
   "name": "python3"
  },
  "language_info": {
   "codemirror_mode": {
    "name": "ipython",
    "version": 3
   },
   "file_extension": ".py",
   "mimetype": "text/x-python",
   "name": "python",
   "nbconvert_exporter": "python",
   "pygments_lexer": "ipython3",
   "version": "3.10.9"
  }
 },
 "nbformat": 4,
 "nbformat_minor": 5
}
