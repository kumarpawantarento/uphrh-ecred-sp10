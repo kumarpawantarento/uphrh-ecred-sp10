{
 "cells": [
  {
   "cell_type": "code",
   "execution_count": 2,
   "id": "3f0dd619",
   "metadata": {},
   "outputs": [],
   "source": [
    "import requests\n",
    "import random\n",
    "import json"
   ]
  },
  {
   "cell_type": "code",
   "execution_count": 3,
   "id": "47d42ec6",
   "metadata": {},
   "outputs": [],
   "source": [
    "token= \"eyJhbGciOiJSUzI1NiIsInR5cCIgOiAiSldUIiwia2lkIiA6ICI3ZUFrOFJvd3NOTE1QckV6aG5hVHRpTWR5aDc0YTVMdWFuMnVlRWU1a0pFIn0.eyJleHAiOjE3MDIyNzE5NjMsImlhdCI6MTY4NDk5MTk2MywianRpIjoiMjg1Y2JmYjgtNjM3NC00NDNhLWIyOWEtYmIyY2MxODE0NGUzIiwiaXNzIjoiaHR0cDovL2xvY2FsaG9zdDo4MDgwL2F1dGgvcmVhbG1zL3N1bmJpcmQtcmMiLCJhdWQiOlsicmVhbG0tbWFuYWdlbWVudCIsImFjY291bnQiXSwic3ViIjoiZDllNjhiZTQtMjA1YS00YjQ0LTgzMDEtMWZlYTI1NTdmMWNmIiwidHlwIjoiQmVhcmVyIiwiYXpwIjoiYWRtaW4tYXBpIiwiYWNyIjoiMSIsImFsbG93ZWQtb3JpZ2lucyI6WyJodHRwczovL2xvY2FsaG9zdDo0MjAyLyoiLCJodHRwczovL2Rpdm9jLnhpdi5pbiIsImh0dHBzOi8vbG9jYWxob3N0OjQyMDAvKiJdLCJyZWFsbV9hY2Nlc3MiOnsicm9sZXMiOlsib2ZmbGluZV9hY2Nlc3MiLCJ1bWFfYXV0aG9yaXphdGlvbiJdfSwicmVzb3VyY2VfYWNjZXNzIjp7InJlYWxtLW1hbmFnZW1lbnQiOnsicm9sZXMiOlsibWFuYWdlLXJlYWxtIiwibWFuYWdlLXVzZXJzIl19LCJhZG1pbi1hcGkiOnsicm9sZXMiOlsiYXBpIl19LCJhY2NvdW50Ijp7InJvbGVzIjpbIm1hbmFnZS1hY2NvdW50IiwibWFuYWdlLWFjY291bnQtbGlua3MiLCJ2aWV3LXByb2ZpbGUiXX19LCJzY29wZSI6InByb2ZpbGUgZW1haWwiLCJjbGllbnRJZCI6ImFkbWluLWFwaSIsImNsaWVudEhvc3QiOiIxMC4wLjIuOCIsImVtYWlsX3ZlcmlmaWVkIjpmYWxzZSwicHJlZmVycmVkX3VzZXJuYW1lIjoic2VydmljZS1hY2NvdW50LWFkbWluLWFwaSIsImNsaWVudEFkZHJlc3MiOiIxMC4wLjIuOCJ9.OFzyUPMeJ0fOkjWbNvUYaHTlSy-iz6hnvnF7ZLtj1TDewZVfb1UnR-r34bBbjbKNvniuRt5F_L9wF0XESJSoLM59hrlTMTf4OoWBbnBPkUYn13UGJmSipFx-n9kF9e1nCpeQln_mBMiSBv8_FI1SsCl7ZE3cqRn3Q9_hVIFzDlzV1D3vYfGfv5yGzV8XIqItT3frhuGustcw0Fuh-xmGxlMmieP1GxUAiKkawJpF9pbVEjnYsLTohHp2rmoyazTVHH3mskmp62okmwGLpreWFEh_ac2HGVktpljDn12bXahTQuhgQlcUHCv-_nbOcHAjv1sBglVM2ciCaSylHeoihQ\""
   ]
  },
  {
   "cell_type": "code",
   "execution_count": 4,
   "id": "22c16507",
   "metadata": {},
   "outputs": [],
   "source": [
    "base_url = \"http://localhost:8081\""
   ]
  },
  {
   "cell_type": "code",
   "execution_count": 5,
   "id": "4c0e4ef1",
   "metadata": {},
   "outputs": [
    {
     "name": "stdout",
     "output_type": "stream",
     "text": [
      "<Response [404]>\n"
     ]
    }
   ],
   "source": [
    "resp = requests.get(base_url)\n",
    "print(resp)\n",
    "assert resp.status_code == 404\n",
    "assert resp.json()[\"status\"] == 404\n",
    "assert resp.json()[\"error\"] == \"Not Found\""
   ]
  },
  {
   "cell_type": "code",
   "execution_count": 6,
   "id": "27da0f32",
   "metadata": {},
   "outputs": [],
   "source": [
    "resp = requests.get(\"%s/api/docs/swagger.json\"%base_url)\n",
    "assert resp.status_code == 200\n",
    "assert resp.json()[\"swagger\"] == \"2.0\"\n",
    "assert resp.json()[\"paths\"] != None"
   ]
  },
  {
   "cell_type": "code",
   "execution_count": 7,
   "id": "0edbbada",
   "metadata": {},
   "outputs": [
    {
     "data": {
      "text/plain": [
       "dict_keys(['/api/v1/PublicKey/{entityId}', '/api/docs/PublicKey.json', '/api/v1/PublicKey/sign', '/api/v1/PublicKey/search', '/api/v1/PublicKey/invite', '/api/v1/PublicKey', '/api/v1/PublicKey/{entityId}/{property}/{propertyId}', '/api/v1/PublicKey/{entityId}/{property}', '/api/v1/PublicKey/{entityId}/{property}/{propertyId}/send', '/api/v1/Schema/{entityId}', '/api/docs/Schema.json', '/api/v1/Schema/sign', '/api/v1/Schema/search', '/api/v1/Schema/invite', '/api/v1/Schema', '/api/v1/Schema/{entityId}/{property}/{propertyId}', '/api/v1/Schema/{entityId}/{property}', '/api/v1/Schema/{entityId}/{property}/{propertyId}/send', '/api/v1/Regulator/{entityId}', '/api/docs/Regulator.json', '/api/v1/Regulator/sign', '/api/v1/Regulator/search', '/api/v1/Regulator/invite', '/api/v1/Regulator', '/api/v1/Regulator/{entityId}/{property}/{propertyId}', '/api/v1/Regulator/{entityId}/{property}', '/api/v1/Regulator/{entityId}/{property}/{propertyId}/send', '/api/v1/BaseAttestationField/{entityId}', '/api/docs/BaseAttestationField.json', '/api/v1/BaseAttestationField/sign', '/api/v1/BaseAttestationField/search', '/api/v1/BaseAttestationField/invite', '/api/v1/BaseAttestationField', '/api/v1/BaseAttestationField/{entityId}/{property}/{propertyId}', '/api/v1/BaseAttestationField/{entityId}/{property}', '/api/v1/BaseAttestationField/{entityId}/{property}/{propertyId}/send', '/api/v1/RegulatorData/{entityId}', '/api/docs/RegulatorData.json', '/api/v1/RegulatorData/sign', '/api/v1/RegulatorData/search', '/api/v1/RegulatorData/invite', '/api/v1/RegulatorData', '/api/v1/RegulatorData/{entityId}/{property}/{propertyId}', '/api/v1/RegulatorData/{entityId}/{property}', '/api/v1/RegulatorData/{entityId}/{property}/{propertyId}/send', '/api/v1/Student/{entityId}', '/api/docs/Student.json', '/api/v1/Student/sign', '/api/v1/Student/search', '/api/v1/Student/invite', '/api/v1/Student', '/api/v1/Student/{entityId}/{property}/{propertyId}', '/api/v1/Student/{entityId}/{property}', '/api/v1/Student/{entityId}/{property}/{propertyId}/send', '/api/v1/SkillCertificate/{entityId}', '/api/docs/SkillCertificate.json', '/api/v1/SkillCertificate/sign', '/api/v1/SkillCertificate/search', '/api/v1/SkillCertificate/invite', '/api/v1/SkillCertificate', '/api/v1/SkillCertificate/{entityId}/{property}/{propertyId}', '/api/v1/SkillCertificate/{entityId}/{property}', '/api/v1/SkillCertificate/{entityId}/{property}/{propertyId}/send'])"
      ]
     },
     "execution_count": 7,
     "metadata": {},
     "output_type": "execute_result"
    }
   ],
   "source": [
    "swaggerJson = resp.json()\n",
    "swaggerJson[\"paths\"].keys()"
   ]
  },
  {
   "cell_type": "code",
   "execution_count": 8,
   "id": "96d0bcfe",
   "metadata": {},
   "outputs": [
    {
     "data": {
      "text/plain": [
       "'/api/docs/PublicKey.json'"
      ]
     },
     "execution_count": 8,
     "metadata": {},
     "output_type": "execute_result"
    }
   ],
   "source": [
    "jsonUrl = [f for f in swaggerJson[\"paths\"].keys() if \".json\" in f][0]\n",
    "jsonUrl"
   ]
  },
  {
   "attachments": {},
   "cell_type": "markdown",
   "id": "e3f99816",
   "metadata": {},
   "source": [
    "# Check available schema"
   ]
  },
  {
   "cell_type": "code",
   "execution_count": 9,
   "id": "180d3352",
   "metadata": {},
   "outputs": [],
   "source": [
    "resp = requests.get(\"%s%s\"%(base_url, \"/api/docs/Regulator.json\"))\n",
    "assert resp.status_code == 200"
   ]
  },
  {
   "attachments": {},
   "cell_type": "markdown",
   "id": "c4f2919e",
   "metadata": {},
   "source": [
    "## Print response of All available schemas"
   ]
  },
  {
   "cell_type": "code",
   "execution_count": 10,
   "id": "9825fec2",
   "metadata": {},
   "outputs": [
    {
     "data": {
      "text/plain": [
       "{'Regulator': {'$id': '#/properties/Regulator',\n",
       "  'type': 'object',\n",
       "  'title': 'Regulator schema',\n",
       "  'required': ['name', 'phoneNumber', 'email', 'regulator', 'regulatorKey'],\n",
       "  'uniqueIndexFields': ['username'],\n",
       "  'properties': {'name': {'type': 'string'},\n",
       "   'phoneNumber': {'type': 'string'},\n",
       "   'email': {'type': 'string'},\n",
       "   'regulator': {'type': 'string'},\n",
       "   'regulatorKey': {'type': 'string'},\n",
       "   'institute': {'$id': '#/properties/institute',\n",
       "    'type': 'string',\n",
       "    'title': 'Institute Full Name'}}}}"
      ]
     },
     "execution_count": 10,
     "metadata": {},
     "output_type": "execute_result"
    }
   ],
   "source": [
    "resp.json()"
   ]
  },
  {
   "attachments": {},
   "cell_type": "markdown",
   "id": "86f3bc46",
   "metadata": {},
   "source": [
    "## Check Invite available for Entity in RC that can be created"
   ]
  },
  {
   "cell_type": "code",
   "execution_count": 11,
   "id": "50e5149a",
   "metadata": {},
   "outputs": [
    {
     "data": {
      "text/plain": [
       "['/api/v1/PublicKey/invite',\n",
       " '/api/v1/Schema/invite',\n",
       " '/api/v1/Regulator/invite',\n",
       " '/api/v1/BaseAttestationField/invite',\n",
       " '/api/v1/RegulatorData/invite',\n",
       " '/api/v1/Student/invite',\n",
       " '/api/v1/SkillCertificate/invite']"
      ]
     },
     "execution_count": 11,
     "metadata": {},
     "output_type": "execute_result"
    }
   ],
   "source": [
    "[f for f in swaggerJson[\"paths\"].keys() if \"/invite\" in f]"
   ]
  },
  {
   "attachments": {},
   "cell_type": "markdown",
   "id": "a6189278",
   "metadata": {},
   "source": [
    "# Create Entity - Regulator"
   ]
  },
  {
   "cell_type": "code",
   "execution_count": 12,
   "id": "8bd262de",
   "metadata": {},
   "outputs": [
    {
     "data": {
      "text/plain": [
       "'/api/v1/Regulator/invite'"
      ]
     },
     "execution_count": 12,
     "metadata": {},
     "output_type": "execute_result"
    }
   ],
   "source": [
    "inviteUrl = '/api/v1/Regulator/invite'\n",
    "inviteUrl"
   ]
  },
  {
   "cell_type": "code",
   "execution_count": 15,
   "id": "9ad5283a",
   "metadata": {},
   "outputs": [],
   "source": [
    "def entity_for(userId):\n",
    "    return  {\n",
    "      \"name\":\"Raj k.\",\"phoneNumber\":\"555667788\",\"email\":\"123d@fddc.com\",\"regulatorKey\":\"44473\",\"aadhaarNo\":\"555667788\",\"identityType\":\"\",\"institute\":\"Lucknow College of Nursing\",\"identityType\":\"\"\n",
    "     }"
   ]
  },
  {
   "cell_type": "code",
   "execution_count": 16,
   "id": "547ea7ab",
   "metadata": {},
   "outputs": [
    {
     "data": {
      "text/plain": [
       "'{\"name\": \"Raj k.\", \"phoneNumber\": \"555667788\", \"email\": \"123d@fddc.com\", \"regulatorKey\": \"44473\", \"aadhaarNo\": \"555667788\", \"identityType\": \"\", \"institute\": \"Lucknow College of Nursing\"}'"
      ]
     },
     "execution_count": 16,
     "metadata": {},
     "output_type": "execute_result"
    }
   ],
   "source": [
    "userId=189401\n",
    "json.dumps(entity_for(userId))"
   ]
  },
  {
   "cell_type": "code",
   "execution_count": 17,
   "id": "0fbcad28",
   "metadata": {},
   "outputs": [
    {
     "name": "stdout",
     "output_type": "stream",
     "text": [
      "62408734659\n",
      "/api/v1/Regulator/invite\n",
      "b'{\"id\":\"sunbird-rc.registry.invite\",\"ver\":\"1.0\",\"ets\":1684992168264,\"params\":{\"resmsgid\":\"\",\"msgid\":\"ab244e8c-76ff-4cfb-9ac8-cb21b501ef16\",\"err\":\"\",\"status\":\"SUCCESSFUL\",\"errmsg\":\"\"},\"responseCode\":\"OK\",\"result\":{\"Regulator\":{\"osid\":\"1-5cd0def6-5bdb-4fb2-8167-3ad61333341e\"}}}'\n",
      "{'id': 'sunbird-rc.registry.invite', 'ver': '1.0', 'ets': 1684992168264, 'params': {'resmsgid': '', 'msgid': 'ab244e8c-76ff-4cfb-9ac8-cb21b501ef16', 'err': '', 'status': 'SUCCESSFUL', 'errmsg': ''}, 'responseCode': 'OK', 'result': {'Regulator': {'osid': '1-5cd0def6-5bdb-4fb2-8167-3ad61333341e'}}}\n",
      "1-5cd0def6-5bdb-4fb2-8167-3ad61333341e\n"
     ]
    }
   ],
   "source": [
    "userId =str(random.randint(1e10,1e11))\n",
    "print(userId)\n",
    "headers = {\n",
    "    'content-type': 'application/json',\n",
    "    'Authorization': 'Bearer %s'%token, \n",
    "}\n",
    "resp = requests.post(\"%s%s\"%(base_url, inviteUrl), headers=headers, json=entity_for(userId))\n",
    "print(inviteUrl)\n",
    "print(resp.content)\n",
    "assert resp.status_code == 200\n",
    "print(resp.json())\n",
    "assert(resp.json()[\"id\"]==\"sunbird-rc.registry.invite\")\n",
    "assert resp.json()[\"params\"][\"status\"] == \"SUCCESSFUL\"\n",
    "entity_name=next(iter(resp.json()[\"result\"].keys()))\n",
    "assert \"Regulator\"==entity_name\n",
    "idx = resp.json()[\"result\"][entity_name][\"osid\"]\n",
    "print(idx)"
   ]
  },
  {
   "cell_type": "code",
   "execution_count": 18,
   "id": "e0096a4c",
   "metadata": {},
   "outputs": [
    {
     "data": {
      "text/plain": [
       "'1-5cd0def6-5bdb-4fb2-8167-3ad61333341e'"
      ]
     },
     "execution_count": 18,
     "metadata": {},
     "output_type": "execute_result"
    }
   ],
   "source": [
    "idx"
   ]
  },
  {
   "cell_type": "code",
   "execution_count": 19,
   "id": "a4ff65b9",
   "metadata": {},
   "outputs": [
    {
     "data": {
      "text/plain": [
       "'62408734659'"
      ]
     },
     "execution_count": 19,
     "metadata": {},
     "output_type": "execute_result"
    }
   ],
   "source": [
    "userId"
   ]
  },
  {
   "attachments": {},
   "cell_type": "markdown",
   "id": "1fb7bd7d",
   "metadata": {},
   "source": [
    "# Retrive entity (Regulator)"
   ]
  },
  {
   "cell_type": "code",
   "execution_count": 20,
   "id": "a398971a",
   "metadata": {},
   "outputs": [
    {
     "name": "stdout",
     "output_type": "stream",
     "text": [
      "<Response [200]>\n",
      "200\n"
     ]
    },
    {
     "data": {
      "text/plain": [
       "(200,\n",
       " {'osUpdatedAt': '2023-05-25T05:22:48.303Z',\n",
       "  'aadhaarNo': '555667788',\n",
       "  'osUpdatedBy': '',\n",
       "  'osid': '1-5cd0def6-5bdb-4fb2-8167-3ad61333341e',\n",
       "  'phoneNumber': '555667788',\n",
       "  'osCreatedAt': '2023-05-25T05:22:48.303Z',\n",
       "  'identityType': '',\n",
       "  'regulatorKey': '44473',\n",
       "  'name': 'Raj k.',\n",
       "  'osCreatedBy': '',\n",
       "  'institute': 'Lucknow College of Nursing',\n",
       "  'email': '123d@fddc.com'})"
      ]
     },
     "execution_count": 20,
     "metadata": {},
     "output_type": "execute_result"
    }
   ],
   "source": [
    "headers = {\n",
    "    'content-type': 'application/json',\n",
    "    'Authorization': 'Bearer %s'%token,\n",
    "}\n",
    "entity_name='Regulator'\n",
    "response = requests.get('http://localhost:8081/api/v1/%s/%s'%(entity_name, idx), headers=headers)\n",
    "print(response)\n",
    "print(response.status_code)\n",
    "obj = response.json()\n",
    "response.status_code, response.json()"
   ]
  },
  {
   "cell_type": "code",
   "execution_count": 21,
   "id": "6bc19944",
   "metadata": {},
   "outputs": [
    {
     "name": "stdout",
     "output_type": "stream",
     "text": [
      "200\n",
      "{'osUpdatedAt': '2023-05-25T05:22:48.303Z', 'aadhaarNo': '555667788', 'osUpdatedBy': '', 'osid': '1-5cd0def6-5bdb-4fb2-8167-3ad61333341e', 'phoneNumber': '555667788', 'osCreatedAt': '2023-05-25T05:22:48.303Z', 'identityType': '', 'regulatorKey': '44473', 'name': 'Raj k.', 'osCreatedBy': '', 'institute': 'Lucknow College of Nursing', 'email': '123d@fddc.com'}\n"
     ]
    },
    {
     "data": {
      "text/plain": [
       "{'osUpdatedAt': '2023-05-25T05:22:48.303Z',\n",
       " 'aadhaarNo': '555667788',\n",
       " 'osUpdatedBy': '',\n",
       " 'osid': '1-5cd0def6-5bdb-4fb2-8167-3ad61333341e',\n",
       " 'phoneNumber': '555667788',\n",
       " 'osCreatedAt': '2023-05-25T05:22:48.303Z',\n",
       " 'identityType': '',\n",
       " 'regulatorKey': '44473',\n",
       " 'name': 'Raj k.',\n",
       " 'osCreatedBy': '',\n",
       " 'institute': 'Lucknow College of Nursing',\n",
       " 'email': '123d@fddc.com'}"
      ]
     },
     "execution_count": 21,
     "metadata": {},
     "output_type": "execute_result"
    }
   ],
   "source": [
    "headers = {\n",
    "    'content-type': 'application/json',\n",
    "    'Authorization': 'Bearer %s'%token, \n",
    "}\n",
    "\n",
    "response = requests.get('http://localhost:8081/api/v1/%s/%s'%(entity_name, idx), headers=headers)\n",
    "print(response.status_code)\n",
    "assert response.status_code == 200\n",
    "print(response.json())\n",
    "response.json()"
   ]
  },
  {
   "attachments": {},
   "cell_type": "markdown",
   "id": "6eb1a18e",
   "metadata": {},
   "source": [
    "## Create a student in registry -old schema"
   ]
  },
  {
   "cell_type": "code",
   "execution_count": 23,
   "id": "f85dc761",
   "metadata": {},
   "outputs": [],
   "source": [
    "headers = {\n",
    "    'content-type': 'application/json',\n",
    "    'Authorization': 'Bearer %s'%token, \n",
    "}\n",
    "\n",
    "data = {\"identityDetails\":{\n",
    "    \"userId\": \"GURIYA  %s\"%userId,\n",
    "    \"StudentName\":\"KM. GURIYA\", \n",
    "    \"MotherFullName\":\"SMT. PARWATI DEVI\",\n",
    "    \"FatherFullName\":\"SRI CHANDRIKA PRASAD\",\n",
    "    \"Gender\":\"F\",\n",
    "    \"mobile\": \"9876543210\",\n",
    "    \"EmailId\": \"123@gmail.com\",\n",
    "    \"Institute\": \"UP Public School\",\n",
    "    \"StudentKey\":\"317209\",\n",
    "    \"centerKey\":\"450\",\n",
    "    \"address\":\"Lucknow UP\",\n",
    "    \"RollNo\":\"123456\",\n",
    "    \"EnrollmentNo\":\"22102543000511\",\n",
    "    \"DateOfBirth\":\"12-12-2010\",\n",
    "    \"CourseName\":\"DIPLOMA IN GENERAL NURSING & MIDWIFERY\"\n",
    "        }\n",
    "       }\n",
    "\n",
    "\n",
    "response = requests.post('http://localhost:8081/api/v1/Student/invite', headers=headers, json=data)\n"
   ]
  },
  {
   "attachments": {},
   "cell_type": "markdown",
   "id": "f91d9712",
   "metadata": {},
   "source": [
    "## Create Student"
   ]
  },
  {
   "cell_type": "code",
   "execution_count": 51,
   "id": "58946400",
   "metadata": {},
   "outputs": [],
   "source": [
    "headers = {\n",
    "    'content-type': 'application/json',\n",
    "    'Authorization': 'Bearer %s'%token, \n",
    "}\n",
    "\n",
    "data = {\n",
    "    \"identityDetails\":{\n",
    "    \"StudentName\":\"KM. GURIYA\", \n",
    "    \"CourseName\":\"DIPLOMA IN GENERAL NURSING & MIDWIFERY\",\n",
    "    \"Institute\":\"UP Public School\",\n",
    "    \"email\":\"kumarpawans@gmail.com\"\n",
    "    },\n",
    "    \"StudentName\":\"KM. GURIYA  %s\"%userId, \n",
    "    \"MotherFullName\":\"SMT. PARWATI DEVI\",\n",
    "    \"FatherFullName\":\"SRI CHANDRIKA PRASAD\",\n",
    "    \"Gender\":\"F\",\n",
    "    \"mobile\": \"9811543210\",\n",
    "    \"EmailId\": \"kmg@gmail.com\",\n",
    "    \"Institute\": \"UP Public School\",\n",
    "    \"StudentKey\":\"317209\",\n",
    "}\n",
    "\n",
    "\n",
    "response = requests.post('http://localhost:8081/api/v1/Student/invite', headers=headers, json=data)"
   ]
  },
  {
   "cell_type": "code",
   "execution_count": 24,
   "id": "a486eb16",
   "metadata": {},
   "outputs": [
    {
     "data": {
      "text/plain": [
       "{'id': 'sunbird-rc.registry.invite',\n",
       " 'ver': '1.0',\n",
       " 'ets': 1684992205410,\n",
       " 'params': {'resmsgid': '',\n",
       "  'msgid': 'f5bc0f15-5b0d-4661-90bc-ee5d5b849e38',\n",
       "  'err': '',\n",
       "  'status': 'SUCCESSFUL',\n",
       "  'errmsg': ''},\n",
       " 'responseCode': 'OK',\n",
       " 'result': {'Student': {'osid': '1-ba1abac0-ca4d-4a0f-8c4d-66bdaaa799f7'}}}"
      ]
     },
     "execution_count": 24,
     "metadata": {},
     "output_type": "execute_result"
    }
   ],
   "source": [
    "response.json()\n",
    "\n"
   ]
  },
  {
   "cell_type": "code",
   "execution_count": 25,
   "id": "c634f6ae",
   "metadata": {},
   "outputs": [
    {
     "name": "stdout",
     "output_type": "stream",
     "text": [
      "1-ba1abac0-ca4d-4a0f-8c4d-66bdaaa799f7\n"
     ]
    }
   ],
   "source": [
    "sid = response.json()[\"result\"][\"Student\"][\"osid\"]\n",
    "print(sid)\n"
   ]
  },
  {
   "attachments": {},
   "cell_type": "markdown",
   "id": "7c08b942",
   "metadata": {},
   "source": [
    "# Read the Student Data from registry"
   ]
  },
  {
   "cell_type": "code",
   "execution_count": 26,
   "id": "24a56dc8",
   "metadata": {},
   "outputs": [
    {
     "name": "stdout",
     "output_type": "stream",
     "text": [
      "200\n"
     ]
    },
    {
     "data": {
      "text/plain": [
       "{'osUpdatedAt': '2023-05-25T05:23:25.412Z',\n",
       " 'osCreatedAt': '2023-05-25T05:23:25.412Z',\n",
       " 'osUpdatedBy': '',\n",
       " 'osCreatedBy': '',\n",
       " 'osid': '1-ba1abac0-ca4d-4a0f-8c4d-66bdaaa799f7',\n",
       " 'identityDetails': {'osid': '1-d2f79e29-0fa3-4f26-9721-30ccc825240f',\n",
       "  'DateOfBirth': '12-12-2010',\n",
       "  'CourseName': 'DIPLOMA IN GENERAL NURSING & MIDWIFERY',\n",
       "  'osUpdatedAt': '2023-05-25T05:23:25.412Z',\n",
       "  'EmailId': '123@gmail.com',\n",
       "  'RollNo': '123456',\n",
       "  'address': 'Lucknow UP',\n",
       "  'FatherFullName': 'SRI CHANDRIKA PRASAD',\n",
       "  'osUpdatedBy': '',\n",
       "  'mobile': '9876543210',\n",
       "  'Gender': 'F',\n",
       "  'StudentKey': '317209',\n",
       "  'userId': 'GURIYA  62408734659',\n",
       "  'EnrollmentNo': '22102543000511',\n",
       "  'MotherFullName': 'SMT. PARWATI DEVI',\n",
       "  'Institute': 'UP Public School',\n",
       "  'osCreatedAt': '2023-05-25T05:23:25.412Z',\n",
       "  'osCreatedBy': '',\n",
       "  'centerKey': '450',\n",
       "  'StudentName': 'KM. GURIYA'}}"
      ]
     },
     "execution_count": 26,
     "metadata": {},
     "output_type": "execute_result"
    }
   ],
   "source": [
    "\n",
    "headers = {\n",
    "    'content-type': 'application/json',\n",
    "    'Authorization': 'Bearer %s'%token, \n",
    "}\n",
    "\n",
    "response = requests.get('http://localhost:8081/api/v1/%s/%s'%(\"Student\", sid), headers=headers)\n",
    "print(response.status_code)\n",
    "response.json()\n"
   ]
  },
  {
   "attachments": {},
   "cell_type": "markdown",
   "id": "f84e8451",
   "metadata": {},
   "source": [
    "## Raise a claim"
   ]
  },
  {
   "cell_type": "code",
   "execution_count": 28,
   "id": "b498e02c",
   "metadata": {},
   "outputs": [
    {
     "name": "stdout",
     "output_type": "stream",
     "text": [
      "200\n"
     ]
    },
    {
     "data": {
      "text/plain": [
       "{'id': 'sunbird-rc.registry.update',\n",
       " 'ver': '1.0',\n",
       " 'ets': 1684992298013,\n",
       " 'params': {'resmsgid': '',\n",
       "  'msgid': '1a514430-e7f3-49e4-98ce-4ddbb9be38f9',\n",
       "  'err': '',\n",
       "  'status': 'SUCCESSFUL',\n",
       "  'errmsg': ''},\n",
       " 'responseCode': 'OK'}"
      ]
     },
     "execution_count": 28,
     "metadata": {},
     "output_type": "execute_result"
    }
   ],
   "source": [
    "headers = {\n",
    "    'content-type': 'application/json',\n",
    "    'authorization': 'bearer %s'%token,\n",
    "}\n",
    "\n",
    "params = (\n",
    "    ('send', 'true'),\n",
    ")\n",
    "\n",
    "data = {\n",
    "    \"entityName\":\"Student\",\n",
    "    \"entityId\":\"%s\"%sid,\n",
    "    \"additionalInput\":{\"idx\": \"%s\"%sid}\n",
    "}\n",
    "id=sid\n",
    "response = requests.post('http://localhost:8081/api/v1/Student/1-ba1abac0-ca4d-4a0f-8c4d-66bdaaa799f7/claims?send=true', headers=headers, params=params, json=data)\n",
    "\n",
    "print(response.status_code)\n",
    "response.json()\n"
   ]
  },
  {
   "cell_type": "code",
   "execution_count": 29,
   "id": "7647f0e1",
   "metadata": {},
   "outputs": [
    {
     "name": "stdout",
     "output_type": "stream",
     "text": [
      "200\n"
     ]
    },
    {
     "data": {
      "text/plain": [
       "{'osUpdatedAt': '2023-05-25T05:24:58.029Z',\n",
       " 'osCreatedAt': '2023-05-25T05:23:25.412Z',\n",
       " 'osUpdatedBy': '',\n",
       " 'osCreatedBy': '',\n",
       " 'osid': '1-ba1abac0-ca4d-4a0f-8c4d-66bdaaa799f7',\n",
       " 'identityDetails': {'osid': '1-d2f79e29-0fa3-4f26-9721-30ccc825240f',\n",
       "  'DateOfBirth': '12-12-2010',\n",
       "  'CourseName': 'DIPLOMA IN GENERAL NURSING & MIDWIFERY',\n",
       "  'osUpdatedAt': '2023-05-25T05:24:58.029Z',\n",
       "  'EmailId': '123@gmail.com',\n",
       "  'RollNo': '123456',\n",
       "  'address': 'Lucknow UP',\n",
       "  'FatherFullName': 'SRI CHANDRIKA PRASAD',\n",
       "  'osUpdatedBy': '',\n",
       "  'mobile': '9876543210',\n",
       "  'Gender': 'F',\n",
       "  'StudentKey': '317209',\n",
       "  'userId': 'GURIYA  62408734659',\n",
       "  'EnrollmentNo': '22102543000511',\n",
       "  'MotherFullName': 'SMT. PARWATI DEVI',\n",
       "  'Institute': 'UP Public School',\n",
       "  'osCreatedAt': '2023-05-25T05:23:25.412Z',\n",
       "  'osCreatedBy': '',\n",
       "  'centerKey': '450',\n",
       "  'StudentName': 'KM. GURIYA'},\n",
       " 'claims': {'osid': '1-34114aef-5ca9-455e-b454-254d30e73928',\n",
       "  'osUpdatedAt': '2023-05-25T05:24:58.029Z',\n",
       "  'additionalInput': {'osid': '1-4c76711a-40dc-4381-b2a5-0118b673470e',\n",
       "   'osUpdatedAt': '2023-05-25T05:24:58.029Z',\n",
       "   'osUpdatedBy': '',\n",
       "   'idx': '1-ba1abac0-ca4d-4a0f-8c4d-66bdaaa799f7'},\n",
       "  'osUpdatedBy': '',\n",
       "  'entityName': 'Student',\n",
       "  'entityId': '1-ba1abac0-ca4d-4a0f-8c4d-66bdaaa799f7'}}"
      ]
     },
     "execution_count": 29,
     "metadata": {},
     "output_type": "execute_result"
    }
   ],
   "source": [
    "headers = {\n",
    "    'content-type': 'application/json',\n",
    "    'Authorization': 'Bearer %s'%token, \n",
    "}\n",
    "\n",
    "response = requests.get('http://localhost:8081/api/v1/%s/%s'%(\"Student\", sid), headers=headers)\n",
    "print(response.status_code)\n",
    "response.json()"
   ]
  },
  {
   "attachments": {},
   "cell_type": "markdown",
   "id": "4ca1ce2e",
   "metadata": {},
   "source": [
    "## As get all claims"
   ]
  },
  {
   "cell_type": "code",
   "execution_count": 30,
   "id": "9e091faf",
   "metadata": {},
   "outputs": [
    {
     "name": "stdout",
     "output_type": "stream",
     "text": [
      "<Response [200]>\n",
      "<Response [200]>\n"
     ]
    },
    {
     "data": {
      "text/plain": [
       "{'totalPages': 0, 'content': [], 'totalElements': 0}"
      ]
     },
     "execution_count": 30,
     "metadata": {},
     "output_type": "execute_result"
    }
   ],
   "source": [
    "headers = {\n",
    "    'content-type': 'application/json',\n",
    "    'Authorization': 'Bearer %s'%token, \n",
    "}\n",
    "\n",
    "\n",
    "response = requests.get('http://localhost:8081/api/v1/Student/claims', headers=headers)\n",
    "print(response)\n",
    "print(response)\n",
    "#claim_id = response.json()[-1][\"id\"]\n",
    "response.json()"
   ]
  },
  {
   "attachments": {},
   "cell_type": "markdown",
   "id": "e243966b",
   "metadata": {},
   "source": [
    "## approve the claim - enable regulator login "
   ]
  },
  {
   "cell_type": "code",
   "execution_count": 31,
   "id": "336de33a",
   "metadata": {},
   "outputs": [
    {
     "name": "stdout",
     "output_type": "stream",
     "text": [
      "200\n"
     ]
    },
    {
     "data": {
      "text/plain": [
       "{'id': 'sunbird-rc.registry.update',\n",
       " 'ver': '1.0',\n",
       " 'ets': 1684992325668,\n",
       " 'params': {'resmsgid': '',\n",
       "  'msgid': 'dd77cd9f-1c0d-47eb-88fd-b9be0169c91f',\n",
       "  'err': '',\n",
       "  'status': 'SUCCESSFUL',\n",
       "  'errmsg': ''},\n",
       " 'responseCode': 'OK'}"
      ]
     },
     "execution_count": 31,
     "metadata": {},
     "output_type": "execute_result"
    }
   ],
   "source": [
    "headers = {\n",
    "    'content-type': 'application/json',\n",
    "    'Authorization': 'Bearer %s'%token, \n",
    "}\n",
    "data = {\n",
    "    \"action\":\"GRANT_CLAIM\",\n",
    "    \"notes\":\"26027466259ddd\"\n",
    "}\n",
    "response = requests.post('http://localhost:8081/api/v1/Student/1-ba1abac0-ca4d-4a0f-8c4d-66bdaaa799f7/claims', headers=headers, json=data)\n",
    "print(response.status_code)\n",
    "response.json()"
   ]
  },
  {
   "attachments": {},
   "cell_type": "markdown",
   "id": "f0fed756",
   "metadata": {},
   "source": [
    "## Update User"
   ]
  },
  {
   "cell_type": "code",
   "execution_count": null,
   "id": "1e52504b",
   "metadata": {},
   "outputs": [
    {
     "name": "stdout",
     "output_type": "stream",
     "text": [
      "200\n"
     ]
    },
    {
     "data": {
      "text/plain": [
       "{'id': 'sunbird-rc.registry.update',\n",
       " 'ver': '1.0',\n",
       " 'ets': 1684497334465,\n",
       " 'params': {'resmsgid': '',\n",
       "  'msgid': '7d6984fe-47c9-4caf-afcc-c8904957c843',\n",
       "  'err': '',\n",
       "  'status': 'SUCCESSFUL',\n",
       "  'errmsg': ''},\n",
       " 'responseCode': 'OK'}"
      ]
     },
     "execution_count": 144,
     "metadata": {},
     "output_type": "execute_result"
    }
   ],
   "source": [
    "headers = {\n",
    "    'content-type': 'application/json',\n",
    "    'Authorization': 'Bearer %s'%token, \n",
    "}\n",
    "data = {\n",
    "    \"StudentName\":\"DDDKM. GURIYA  %s\"%userId, \n",
    "    \"MotherFullName\":\"AAASMT. PARWATI DEVI\",\n",
    "    \"FatherFullName\":\"SRI CHANDRIKA PRASAD\"\n",
    "}\n",
    "response = requests.put('http://localhost:8081/api/v1/Student/1-b003c5cc-811e-4f74-8273-203de1cfa1e1', headers=headers, json=data)\n",
    "print(response.status_code)\n",
    "response.json()"
   ]
  },
  {
   "cell_type": "code",
   "execution_count": null,
   "id": "f65576ff",
   "metadata": {},
   "outputs": [],
   "source": []
  }
 ],
 "metadata": {
  "kernelspec": {
   "display_name": "Python 3 (ipykernel)",
   "language": "python",
   "name": "python3"
  },
  "language_info": {
   "codemirror_mode": {
    "name": "ipython",
    "version": 3
   },
   "file_extension": ".py",
   "mimetype": "text/x-python",
   "name": "python",
   "nbconvert_exporter": "python",
   "pygments_lexer": "ipython3",
   "version": "3.10.9"
  }
 },
 "nbformat": 4,
 "nbformat_minor": 5
}
